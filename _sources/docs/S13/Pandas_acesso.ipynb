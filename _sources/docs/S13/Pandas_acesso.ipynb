{
 "cells": [
  {
   "cell_type": "markdown",
   "metadata": {},
   "source": [
    "## Seleção de elementos no pandas\n",
    "\n",
    "<a href=\"https://pandas.pydata.org/pandas-docs/stable/dsintro.html\">Fonte</a>"
   ]
  },
  {
   "cell_type": "code",
   "execution_count": 1,
   "metadata": {},
   "outputs": [],
   "source": [
    "import pandas as pd\n",
    "import numpy as np"
   ]
  },
  {
   "cell_type": "markdown",
   "metadata": {},
   "source": [
    "### Acesso elementar a elementos de uma Series"
   ]
  },
  {
   "cell_type": "code",
   "execution_count": 2,
   "metadata": {},
   "outputs": [],
   "source": [
    "s = pd.Series(np.random.randn(5), index=['a', 'b', 'c', 'd', 'e'])"
   ]
  },
  {
   "cell_type": "code",
   "execution_count": 3,
   "metadata": {},
   "outputs": [
    {
     "data": {
      "text/plain": [
       "a    0.305748\n",
       "b    0.438622\n",
       "c    1.120551\n",
       "d    1.832165\n",
       "e    0.423130\n",
       "dtype: float64"
      ]
     },
     "execution_count": 3,
     "metadata": {},
     "output_type": "execute_result"
    }
   ],
   "source": [
    "s"
   ]
  },
  {
   "cell_type": "code",
   "execution_count": 4,
   "metadata": {},
   "outputs": [
    {
     "data": {
      "text/plain": [
       "Index(['a', 'b', 'c', 'd', 'e'], dtype='object')"
      ]
     },
     "execution_count": 4,
     "metadata": {},
     "output_type": "execute_result"
    }
   ],
   "source": [
    "s.index"
   ]
  },
  {
   "cell_type": "code",
   "execution_count": 5,
   "metadata": {},
   "outputs": [
    {
     "name": "stdout",
     "output_type": "stream",
     "text": [
      "a\n",
      "b\n",
      "c\n",
      "d\n",
      "e\n"
     ]
    }
   ],
   "source": [
    "for elem in s.index:\n",
    "    print (elem)"
   ]
  },
  {
   "cell_type": "code",
   "execution_count": 6,
   "metadata": {},
   "outputs": [
    {
     "data": {
      "text/plain": [
       "0.30574845826814673"
      ]
     },
     "execution_count": 6,
     "metadata": {},
     "output_type": "execute_result"
    }
   ],
   "source": [
    "s.loc['a']"
   ]
  },
  {
   "cell_type": "code",
   "execution_count": 7,
   "metadata": {},
   "outputs": [
    {
     "name": "stdout",
     "output_type": "stream",
     "text": [
      "0.30574845826814673\n",
      "0.4386224445139366\n",
      "1.1205512009665828\n",
      "1.832165408460932\n",
      "0.4231299994721898\n"
     ]
    }
   ],
   "source": [
    "for elem in s.index:\n",
    "    print (s[elem])"
   ]
  },
  {
   "cell_type": "code",
   "execution_count": 8,
   "metadata": {},
   "outputs": [
    {
     "name": "stdout",
     "output_type": "stream",
     "text": [
      "0.30574845826814673\n",
      "0.4386224445139366\n",
      "1.1205512009665828\n",
      "1.832165408460932\n",
      "0.4231299994721898\n"
     ]
    }
   ],
   "source": [
    "for elem in s.index:\n",
    "    print (s.loc[elem])"
   ]
  },
  {
   "cell_type": "markdown",
   "metadata": {},
   "source": [
    "#### Por posição\n",
    "\n",
    "Uma Series funciona de forma semelhante a um ndarray do NumPy"
   ]
  },
  {
   "cell_type": "code",
   "execution_count": 9,
   "metadata": {},
   "outputs": [
    {
     "data": {
      "text/plain": [
       "1.832165408460932"
      ]
     },
     "execution_count": 9,
     "metadata": {},
     "output_type": "execute_result"
    }
   ],
   "source": [
    "s[3]"
   ]
  },
  {
   "cell_type": "code",
   "execution_count": 10,
   "metadata": {},
   "outputs": [
    {
     "name": "stdout",
     "output_type": "stream",
     "text": [
      "0.30574845826814673\n",
      "0.4386224445139366\n",
      "1.1205512009665828\n",
      "1.832165408460932\n",
      "0.4231299994721898\n"
     ]
    }
   ],
   "source": [
    "for elem in range(len(s)):\n",
    "    print (s[elem])"
   ]
  },
  {
   "cell_type": "code",
   "execution_count": 11,
   "metadata": {},
   "outputs": [
    {
     "name": "stdout",
     "output_type": "stream",
     "text": [
      "0.30574845826814673\n",
      "0.4386224445139366\n",
      "1.1205512009665828\n",
      "1.832165408460932\n",
      "0.4231299994721898\n"
     ]
    }
   ],
   "source": [
    "for elem in range(len(s)):\n",
    "    print (s.iloc[elem])"
   ]
  },
  {
   "cell_type": "code",
   "execution_count": 12,
   "metadata": {},
   "outputs": [
    {
     "name": "stdout",
     "output_type": "stream",
     "text": [
      "4: 0.423130, 3: 1.832165, 1:0.438622 \n"
     ]
    }
   ],
   "source": [
    "print('4: %f, 3: %f, 1:%f '%(s[4], s[3], s[1]))"
   ]
  },
  {
   "cell_type": "code",
   "execution_count": 13,
   "metadata": {},
   "outputs": [
    {
     "data": {
      "text/plain": [
       "b    0.438622\n",
       "c    1.120551\n",
       "dtype: float64"
      ]
     },
     "execution_count": 13,
     "metadata": {},
     "output_type": "execute_result"
    }
   ],
   "source": [
    "s[1:3]"
   ]
  },
  {
   "cell_type": "code",
   "execution_count": 14,
   "metadata": {},
   "outputs": [
    {
     "data": {
      "text/plain": [
       "c    1.120551\n",
       "dtype: float64"
      ]
     },
     "execution_count": 14,
     "metadata": {},
     "output_type": "execute_result"
    }
   ],
   "source": [
    "s[2:-2]"
   ]
  },
  {
   "cell_type": "code",
   "execution_count": 15,
   "metadata": {},
   "outputs": [
    {
     "data": {
      "text/plain": [
       "a    0.305748\n",
       "b    0.438622\n",
       "c    1.120551\n",
       "dtype: float64"
      ]
     },
     "execution_count": 15,
     "metadata": {},
     "output_type": "execute_result"
    }
   ],
   "source": [
    "s[0:-2]"
   ]
  },
  {
   "cell_type": "markdown",
   "metadata": {},
   "source": [
    "### Acesso elementar a elementos de uma Dataframe"
   ]
  },
  {
   "cell_type": "code",
   "execution_count": 16,
   "metadata": {},
   "outputs": [],
   "source": [
    "np.random.seed(24)\n",
    "df = pd.DataFrame({'A': np.linspace(1, 10, 10)})\n",
    "df = pd.concat([df, pd.DataFrame(np.random.randn(10, 4), \n",
    "                   columns=list('BCDE'))],\n",
    "               axis=1)\n",
    "df.iloc[7, 0] = np.nan"
   ]
  },
  {
   "cell_type": "code",
   "execution_count": 17,
   "metadata": {},
   "outputs": [
    {
     "data": {
      "text/html": [
       "<div>\n",
       "<style scoped>\n",
       "    .dataframe tbody tr th:only-of-type {\n",
       "        vertical-align: middle;\n",
       "    }\n",
       "\n",
       "    .dataframe tbody tr th {\n",
       "        vertical-align: top;\n",
       "    }\n",
       "\n",
       "    .dataframe thead th {\n",
       "        text-align: right;\n",
       "    }\n",
       "</style>\n",
       "<table border=\"1\" class=\"dataframe\">\n",
       "  <thead>\n",
       "    <tr style=\"text-align: right;\">\n",
       "      <th></th>\n",
       "      <th>A</th>\n",
       "      <th>B</th>\n",
       "      <th>C</th>\n",
       "      <th>D</th>\n",
       "      <th>E</th>\n",
       "    </tr>\n",
       "  </thead>\n",
       "  <tbody>\n",
       "    <tr>\n",
       "      <th>0</th>\n",
       "      <td>1.0</td>\n",
       "      <td>1.329212</td>\n",
       "      <td>-0.770033</td>\n",
       "      <td>-0.316280</td>\n",
       "      <td>-0.990810</td>\n",
       "    </tr>\n",
       "    <tr>\n",
       "      <th>1</th>\n",
       "      <td>2.0</td>\n",
       "      <td>-1.070816</td>\n",
       "      <td>-1.438713</td>\n",
       "      <td>0.564417</td>\n",
       "      <td>0.295722</td>\n",
       "    </tr>\n",
       "    <tr>\n",
       "      <th>2</th>\n",
       "      <td>3.0</td>\n",
       "      <td>-1.626404</td>\n",
       "      <td>0.219565</td>\n",
       "      <td>0.678805</td>\n",
       "      <td>1.889273</td>\n",
       "    </tr>\n",
       "    <tr>\n",
       "      <th>3</th>\n",
       "      <td>4.0</td>\n",
       "      <td>0.961538</td>\n",
       "      <td>0.104011</td>\n",
       "      <td>-0.481165</td>\n",
       "      <td>0.850229</td>\n",
       "    </tr>\n",
       "    <tr>\n",
       "      <th>4</th>\n",
       "      <td>5.0</td>\n",
       "      <td>1.453425</td>\n",
       "      <td>1.057737</td>\n",
       "      <td>0.165562</td>\n",
       "      <td>0.515018</td>\n",
       "    </tr>\n",
       "    <tr>\n",
       "      <th>5</th>\n",
       "      <td>6.0</td>\n",
       "      <td>-1.336936</td>\n",
       "      <td>0.562861</td>\n",
       "      <td>1.392855</td>\n",
       "      <td>-0.063328</td>\n",
       "    </tr>\n",
       "    <tr>\n",
       "      <th>6</th>\n",
       "      <td>7.0</td>\n",
       "      <td>0.121668</td>\n",
       "      <td>1.207603</td>\n",
       "      <td>-0.002040</td>\n",
       "      <td>1.627796</td>\n",
       "    </tr>\n",
       "    <tr>\n",
       "      <th>7</th>\n",
       "      <td>NaN</td>\n",
       "      <td>0.354493</td>\n",
       "      <td>1.037528</td>\n",
       "      <td>-0.385684</td>\n",
       "      <td>0.519818</td>\n",
       "    </tr>\n",
       "    <tr>\n",
       "      <th>8</th>\n",
       "      <td>9.0</td>\n",
       "      <td>1.686583</td>\n",
       "      <td>-1.325963</td>\n",
       "      <td>1.428984</td>\n",
       "      <td>-2.089354</td>\n",
       "    </tr>\n",
       "    <tr>\n",
       "      <th>9</th>\n",
       "      <td>10.0</td>\n",
       "      <td>-0.129820</td>\n",
       "      <td>0.631523</td>\n",
       "      <td>-0.586538</td>\n",
       "      <td>0.290720</td>\n",
       "    </tr>\n",
       "  </tbody>\n",
       "</table>\n",
       "</div>"
      ],
      "text/plain": [
       "      A         B         C         D         E\n",
       "0   1.0  1.329212 -0.770033 -0.316280 -0.990810\n",
       "1   2.0 -1.070816 -1.438713  0.564417  0.295722\n",
       "2   3.0 -1.626404  0.219565  0.678805  1.889273\n",
       "3   4.0  0.961538  0.104011 -0.481165  0.850229\n",
       "4   5.0  1.453425  1.057737  0.165562  0.515018\n",
       "5   6.0 -1.336936  0.562861  1.392855 -0.063328\n",
       "6   7.0  0.121668  1.207603 -0.002040  1.627796\n",
       "7   NaN  0.354493  1.037528 -0.385684  0.519818\n",
       "8   9.0  1.686583 -1.325963  1.428984 -2.089354\n",
       "9  10.0 -0.129820  0.631523 -0.586538  0.290720"
      ]
     },
     "execution_count": 17,
     "metadata": {},
     "output_type": "execute_result"
    }
   ],
   "source": [
    "df"
   ]
  },
  {
   "cell_type": "code",
   "execution_count": 18,
   "metadata": {},
   "outputs": [
    {
     "data": {
      "text/plain": [
       "A         NaN\n",
       "B    0.354493\n",
       "C    1.037528\n",
       "D   -0.385684\n",
       "E    0.519818\n",
       "Name: 7, dtype: float64"
      ]
     },
     "execution_count": 18,
     "metadata": {},
     "output_type": "execute_result"
    }
   ],
   "source": [
    "df.iloc[7]"
   ]
  },
  {
   "cell_type": "code",
   "execution_count": 19,
   "metadata": {},
   "outputs": [
    {
     "data": {
      "text/plain": [
       "0     1.0\n",
       "1     2.0\n",
       "2     3.0\n",
       "3     4.0\n",
       "4     5.0\n",
       "5     6.0\n",
       "6     7.0\n",
       "7     NaN\n",
       "8     9.0\n",
       "9    10.0\n",
       "Name: A, dtype: float64"
      ]
     },
     "execution_count": 19,
     "metadata": {},
     "output_type": "execute_result"
    }
   ],
   "source": [
    "df.iloc[:,0]"
   ]
  },
  {
   "cell_type": "code",
   "execution_count": 20,
   "metadata": {},
   "outputs": [
    {
     "data": {
      "text/plain": [
       "nan"
      ]
     },
     "execution_count": 20,
     "metadata": {},
     "output_type": "execute_result"
    }
   ],
   "source": [
    "df.iloc[7,0]"
   ]
  },
  {
   "cell_type": "code",
   "execution_count": 21,
   "metadata": {},
   "outputs": [
    {
     "data": {
      "text/plain": [
       "0     1.0\n",
       "1     2.0\n",
       "2     3.0\n",
       "3     4.0\n",
       "4     5.0\n",
       "5     6.0\n",
       "6     7.0\n",
       "7     NaN\n",
       "8     9.0\n",
       "9    10.0\n",
       "Name: A, dtype: float64"
      ]
     },
     "execution_count": 21,
     "metadata": {},
     "output_type": "execute_result"
    }
   ],
   "source": [
    "df['A']"
   ]
  },
  {
   "cell_type": "code",
   "execution_count": 25,
   "metadata": {},
   "outputs": [
    {
     "data": {
      "text/plain": [
       "nan"
      ]
     },
     "execution_count": 25,
     "metadata": {},
     "output_type": "execute_result"
    }
   ],
   "source": [
    "# loc[row, column] \n",
    "df.loc[7,'A']"
   ]
  },
  {
   "cell_type": "code",
   "execution_count": 26,
   "metadata": {},
   "outputs": [
    {
     "data": {
      "text/plain": [
       "nan"
      ]
     },
     "execution_count": 26,
     "metadata": {},
     "output_type": "execute_result"
    }
   ],
   "source": [
    "# Numpy style: [column][row]\n",
    "df['A'][7]"
   ]
  },
  {
   "cell_type": "markdown",
   "metadata": {},
   "source": [
    "### Sobre estilos"
   ]
  },
  {
   "cell_type": "code",
   "execution_count": 27,
   "metadata": {},
   "outputs": [
    {
     "data": {
      "text/html": [
       "<div>\n",
       "<style scoped>\n",
       "    .dataframe tbody tr th:only-of-type {\n",
       "        vertical-align: middle;\n",
       "    }\n",
       "\n",
       "    .dataframe tbody tr th {\n",
       "        vertical-align: top;\n",
       "    }\n",
       "\n",
       "    .dataframe thead th {\n",
       "        text-align: right;\n",
       "    }\n",
       "</style>\n",
       "<table border=\"1\" class=\"dataframe\">\n",
       "  <thead>\n",
       "    <tr style=\"text-align: right;\">\n",
       "      <th></th>\n",
       "      <th>A</th>\n",
       "      <th>B</th>\n",
       "      <th>C</th>\n",
       "      <th>D</th>\n",
       "      <th>E</th>\n",
       "    </tr>\n",
       "  </thead>\n",
       "  <tbody>\n",
       "    <tr>\n",
       "      <th>0</th>\n",
       "      <td>1.0</td>\n",
       "      <td>1.329212</td>\n",
       "      <td>-0.770033</td>\n",
       "      <td>-0.316280</td>\n",
       "      <td>-0.990810</td>\n",
       "    </tr>\n",
       "    <tr>\n",
       "      <th>1</th>\n",
       "      <td>2.0</td>\n",
       "      <td>-1.070816</td>\n",
       "      <td>-1.438713</td>\n",
       "      <td>0.564417</td>\n",
       "      <td>0.295722</td>\n",
       "    </tr>\n",
       "    <tr>\n",
       "      <th>2</th>\n",
       "      <td>3.0</td>\n",
       "      <td>-1.626404</td>\n",
       "      <td>0.219565</td>\n",
       "      <td>0.678805</td>\n",
       "      <td>1.889273</td>\n",
       "    </tr>\n",
       "    <tr>\n",
       "      <th>3</th>\n",
       "      <td>4.0</td>\n",
       "      <td>0.961538</td>\n",
       "      <td>0.104011</td>\n",
       "      <td>-0.481165</td>\n",
       "      <td>0.850229</td>\n",
       "    </tr>\n",
       "    <tr>\n",
       "      <th>4</th>\n",
       "      <td>5.0</td>\n",
       "      <td>1.453425</td>\n",
       "      <td>1.057737</td>\n",
       "      <td>0.165562</td>\n",
       "      <td>0.515018</td>\n",
       "    </tr>\n",
       "    <tr>\n",
       "      <th>5</th>\n",
       "      <td>6.0</td>\n",
       "      <td>-1.336936</td>\n",
       "      <td>0.562861</td>\n",
       "      <td>1.392855</td>\n",
       "      <td>-0.063328</td>\n",
       "    </tr>\n",
       "    <tr>\n",
       "      <th>6</th>\n",
       "      <td>7.0</td>\n",
       "      <td>0.121668</td>\n",
       "      <td>1.207603</td>\n",
       "      <td>-0.002040</td>\n",
       "      <td>1.627796</td>\n",
       "    </tr>\n",
       "    <tr>\n",
       "      <th>7</th>\n",
       "      <td>NaN</td>\n",
       "      <td>0.354493</td>\n",
       "      <td>1.037528</td>\n",
       "      <td>-0.385684</td>\n",
       "      <td>0.519818</td>\n",
       "    </tr>\n",
       "    <tr>\n",
       "      <th>8</th>\n",
       "      <td>9.0</td>\n",
       "      <td>1.686583</td>\n",
       "      <td>-1.325963</td>\n",
       "      <td>1.428984</td>\n",
       "      <td>-2.089354</td>\n",
       "    </tr>\n",
       "    <tr>\n",
       "      <th>9</th>\n",
       "      <td>10.0</td>\n",
       "      <td>-0.129820</td>\n",
       "      <td>0.631523</td>\n",
       "      <td>-0.586538</td>\n",
       "      <td>0.290720</td>\n",
       "    </tr>\n",
       "  </tbody>\n",
       "</table>\n",
       "</div>"
      ],
      "text/plain": [
       "      A         B         C         D         E\n",
       "0   1.0  1.329212 -0.770033 -0.316280 -0.990810\n",
       "1   2.0 -1.070816 -1.438713  0.564417  0.295722\n",
       "2   3.0 -1.626404  0.219565  0.678805  1.889273\n",
       "3   4.0  0.961538  0.104011 -0.481165  0.850229\n",
       "4   5.0  1.453425  1.057737  0.165562  0.515018\n",
       "5   6.0 -1.336936  0.562861  1.392855 -0.063328\n",
       "6   7.0  0.121668  1.207603 -0.002040  1.627796\n",
       "7   NaN  0.354493  1.037528 -0.385684  0.519818\n",
       "8   9.0  1.686583 -1.325963  1.428984 -2.089354\n",
       "9  10.0 -0.129820  0.631523 -0.586538  0.290720"
      ]
     },
     "execution_count": 27,
     "metadata": {},
     "output_type": "execute_result"
    }
   ],
   "source": [
    "df"
   ]
  },
  {
   "cell_type": "code",
   "execution_count": 28,
   "metadata": {},
   "outputs": [],
   "source": [
    "def color_negative_red(val):\n",
    "    \"\"\"\n",
    "    Takes a scalar and returns a string with\n",
    "    the css property `'color: red'` for negative\n",
    "    strings, black otherwise.\n",
    "    \"\"\"\n",
    "    color = 'red' if val < 0 else 'green'\n",
    "    return 'color: %s' % color\n"
   ]
  },
  {
   "cell_type": "code",
   "execution_count": 29,
   "metadata": {},
   "outputs": [
    {
     "data": {
      "text/html": [
       "<style  type=\"text/css\" >\n",
       "    #T_7a68beb6_20a4_11ea_9c65_00155d4dfe94row0_col0 {\n",
       "            color:  green;\n",
       "        }    #T_7a68beb6_20a4_11ea_9c65_00155d4dfe94row0_col1 {\n",
       "            color:  green;\n",
       "        }    #T_7a68beb6_20a4_11ea_9c65_00155d4dfe94row0_col2 {\n",
       "            color:  red;\n",
       "        }    #T_7a68beb6_20a4_11ea_9c65_00155d4dfe94row0_col3 {\n",
       "            color:  red;\n",
       "        }    #T_7a68beb6_20a4_11ea_9c65_00155d4dfe94row0_col4 {\n",
       "            color:  red;\n",
       "        }    #T_7a68beb6_20a4_11ea_9c65_00155d4dfe94row1_col0 {\n",
       "            color:  green;\n",
       "        }    #T_7a68beb6_20a4_11ea_9c65_00155d4dfe94row1_col1 {\n",
       "            color:  red;\n",
       "        }    #T_7a68beb6_20a4_11ea_9c65_00155d4dfe94row1_col2 {\n",
       "            color:  red;\n",
       "        }    #T_7a68beb6_20a4_11ea_9c65_00155d4dfe94row1_col3 {\n",
       "            color:  green;\n",
       "        }    #T_7a68beb6_20a4_11ea_9c65_00155d4dfe94row1_col4 {\n",
       "            color:  green;\n",
       "        }    #T_7a68beb6_20a4_11ea_9c65_00155d4dfe94row2_col0 {\n",
       "            color:  green;\n",
       "        }    #T_7a68beb6_20a4_11ea_9c65_00155d4dfe94row2_col1 {\n",
       "            color:  red;\n",
       "        }    #T_7a68beb6_20a4_11ea_9c65_00155d4dfe94row2_col2 {\n",
       "            color:  green;\n",
       "        }    #T_7a68beb6_20a4_11ea_9c65_00155d4dfe94row2_col3 {\n",
       "            color:  green;\n",
       "        }    #T_7a68beb6_20a4_11ea_9c65_00155d4dfe94row2_col4 {\n",
       "            color:  green;\n",
       "        }    #T_7a68beb6_20a4_11ea_9c65_00155d4dfe94row3_col0 {\n",
       "            color:  green;\n",
       "        }    #T_7a68beb6_20a4_11ea_9c65_00155d4dfe94row3_col1 {\n",
       "            color:  green;\n",
       "        }    #T_7a68beb6_20a4_11ea_9c65_00155d4dfe94row3_col2 {\n",
       "            color:  green;\n",
       "        }    #T_7a68beb6_20a4_11ea_9c65_00155d4dfe94row3_col3 {\n",
       "            color:  red;\n",
       "        }    #T_7a68beb6_20a4_11ea_9c65_00155d4dfe94row3_col4 {\n",
       "            color:  green;\n",
       "        }    #T_7a68beb6_20a4_11ea_9c65_00155d4dfe94row4_col0 {\n",
       "            color:  green;\n",
       "        }    #T_7a68beb6_20a4_11ea_9c65_00155d4dfe94row4_col1 {\n",
       "            color:  green;\n",
       "        }    #T_7a68beb6_20a4_11ea_9c65_00155d4dfe94row4_col2 {\n",
       "            color:  green;\n",
       "        }    #T_7a68beb6_20a4_11ea_9c65_00155d4dfe94row4_col3 {\n",
       "            color:  green;\n",
       "        }    #T_7a68beb6_20a4_11ea_9c65_00155d4dfe94row4_col4 {\n",
       "            color:  green;\n",
       "        }    #T_7a68beb6_20a4_11ea_9c65_00155d4dfe94row5_col0 {\n",
       "            color:  green;\n",
       "        }    #T_7a68beb6_20a4_11ea_9c65_00155d4dfe94row5_col1 {\n",
       "            color:  red;\n",
       "        }    #T_7a68beb6_20a4_11ea_9c65_00155d4dfe94row5_col2 {\n",
       "            color:  green;\n",
       "        }    #T_7a68beb6_20a4_11ea_9c65_00155d4dfe94row5_col3 {\n",
       "            color:  green;\n",
       "        }    #T_7a68beb6_20a4_11ea_9c65_00155d4dfe94row5_col4 {\n",
       "            color:  red;\n",
       "        }    #T_7a68beb6_20a4_11ea_9c65_00155d4dfe94row6_col0 {\n",
       "            color:  green;\n",
       "        }    #T_7a68beb6_20a4_11ea_9c65_00155d4dfe94row6_col1 {\n",
       "            color:  green;\n",
       "        }    #T_7a68beb6_20a4_11ea_9c65_00155d4dfe94row6_col2 {\n",
       "            color:  green;\n",
       "        }    #T_7a68beb6_20a4_11ea_9c65_00155d4dfe94row6_col3 {\n",
       "            color:  red;\n",
       "        }    #T_7a68beb6_20a4_11ea_9c65_00155d4dfe94row6_col4 {\n",
       "            color:  green;\n",
       "        }    #T_7a68beb6_20a4_11ea_9c65_00155d4dfe94row7_col0 {\n",
       "            color:  green;\n",
       "        }    #T_7a68beb6_20a4_11ea_9c65_00155d4dfe94row7_col1 {\n",
       "            color:  green;\n",
       "        }    #T_7a68beb6_20a4_11ea_9c65_00155d4dfe94row7_col2 {\n",
       "            color:  green;\n",
       "        }    #T_7a68beb6_20a4_11ea_9c65_00155d4dfe94row7_col3 {\n",
       "            color:  red;\n",
       "        }    #T_7a68beb6_20a4_11ea_9c65_00155d4dfe94row7_col4 {\n",
       "            color:  green;\n",
       "        }    #T_7a68beb6_20a4_11ea_9c65_00155d4dfe94row8_col0 {\n",
       "            color:  green;\n",
       "        }    #T_7a68beb6_20a4_11ea_9c65_00155d4dfe94row8_col1 {\n",
       "            color:  green;\n",
       "        }    #T_7a68beb6_20a4_11ea_9c65_00155d4dfe94row8_col2 {\n",
       "            color:  red;\n",
       "        }    #T_7a68beb6_20a4_11ea_9c65_00155d4dfe94row8_col3 {\n",
       "            color:  green;\n",
       "        }    #T_7a68beb6_20a4_11ea_9c65_00155d4dfe94row8_col4 {\n",
       "            color:  red;\n",
       "        }    #T_7a68beb6_20a4_11ea_9c65_00155d4dfe94row9_col0 {\n",
       "            color:  green;\n",
       "        }    #T_7a68beb6_20a4_11ea_9c65_00155d4dfe94row9_col1 {\n",
       "            color:  red;\n",
       "        }    #T_7a68beb6_20a4_11ea_9c65_00155d4dfe94row9_col2 {\n",
       "            color:  green;\n",
       "        }    #T_7a68beb6_20a4_11ea_9c65_00155d4dfe94row9_col3 {\n",
       "            color:  red;\n",
       "        }    #T_7a68beb6_20a4_11ea_9c65_00155d4dfe94row9_col4 {\n",
       "            color:  green;\n",
       "        }</style><table id=\"T_7a68beb6_20a4_11ea_9c65_00155d4dfe94\" ><thead>    <tr>        <th class=\"blank level0\" ></th>        <th class=\"col_heading level0 col0\" >A</th>        <th class=\"col_heading level0 col1\" >B</th>        <th class=\"col_heading level0 col2\" >C</th>        <th class=\"col_heading level0 col3\" >D</th>        <th class=\"col_heading level0 col4\" >E</th>    </tr></thead><tbody>\n",
       "                <tr>\n",
       "                        <th id=\"T_7a68beb6_20a4_11ea_9c65_00155d4dfe94level0_row0\" class=\"row_heading level0 row0\" >0</th>\n",
       "                        <td id=\"T_7a68beb6_20a4_11ea_9c65_00155d4dfe94row0_col0\" class=\"data row0 col0\" >1</td>\n",
       "                        <td id=\"T_7a68beb6_20a4_11ea_9c65_00155d4dfe94row0_col1\" class=\"data row0 col1\" >1.32921</td>\n",
       "                        <td id=\"T_7a68beb6_20a4_11ea_9c65_00155d4dfe94row0_col2\" class=\"data row0 col2\" >-0.770033</td>\n",
       "                        <td id=\"T_7a68beb6_20a4_11ea_9c65_00155d4dfe94row0_col3\" class=\"data row0 col3\" >-0.31628</td>\n",
       "                        <td id=\"T_7a68beb6_20a4_11ea_9c65_00155d4dfe94row0_col4\" class=\"data row0 col4\" >-0.99081</td>\n",
       "            </tr>\n",
       "            <tr>\n",
       "                        <th id=\"T_7a68beb6_20a4_11ea_9c65_00155d4dfe94level0_row1\" class=\"row_heading level0 row1\" >1</th>\n",
       "                        <td id=\"T_7a68beb6_20a4_11ea_9c65_00155d4dfe94row1_col0\" class=\"data row1 col0\" >2</td>\n",
       "                        <td id=\"T_7a68beb6_20a4_11ea_9c65_00155d4dfe94row1_col1\" class=\"data row1 col1\" >-1.07082</td>\n",
       "                        <td id=\"T_7a68beb6_20a4_11ea_9c65_00155d4dfe94row1_col2\" class=\"data row1 col2\" >-1.43871</td>\n",
       "                        <td id=\"T_7a68beb6_20a4_11ea_9c65_00155d4dfe94row1_col3\" class=\"data row1 col3\" >0.564417</td>\n",
       "                        <td id=\"T_7a68beb6_20a4_11ea_9c65_00155d4dfe94row1_col4\" class=\"data row1 col4\" >0.295722</td>\n",
       "            </tr>\n",
       "            <tr>\n",
       "                        <th id=\"T_7a68beb6_20a4_11ea_9c65_00155d4dfe94level0_row2\" class=\"row_heading level0 row2\" >2</th>\n",
       "                        <td id=\"T_7a68beb6_20a4_11ea_9c65_00155d4dfe94row2_col0\" class=\"data row2 col0\" >3</td>\n",
       "                        <td id=\"T_7a68beb6_20a4_11ea_9c65_00155d4dfe94row2_col1\" class=\"data row2 col1\" >-1.6264</td>\n",
       "                        <td id=\"T_7a68beb6_20a4_11ea_9c65_00155d4dfe94row2_col2\" class=\"data row2 col2\" >0.219565</td>\n",
       "                        <td id=\"T_7a68beb6_20a4_11ea_9c65_00155d4dfe94row2_col3\" class=\"data row2 col3\" >0.678805</td>\n",
       "                        <td id=\"T_7a68beb6_20a4_11ea_9c65_00155d4dfe94row2_col4\" class=\"data row2 col4\" >1.88927</td>\n",
       "            </tr>\n",
       "            <tr>\n",
       "                        <th id=\"T_7a68beb6_20a4_11ea_9c65_00155d4dfe94level0_row3\" class=\"row_heading level0 row3\" >3</th>\n",
       "                        <td id=\"T_7a68beb6_20a4_11ea_9c65_00155d4dfe94row3_col0\" class=\"data row3 col0\" >4</td>\n",
       "                        <td id=\"T_7a68beb6_20a4_11ea_9c65_00155d4dfe94row3_col1\" class=\"data row3 col1\" >0.961538</td>\n",
       "                        <td id=\"T_7a68beb6_20a4_11ea_9c65_00155d4dfe94row3_col2\" class=\"data row3 col2\" >0.104011</td>\n",
       "                        <td id=\"T_7a68beb6_20a4_11ea_9c65_00155d4dfe94row3_col3\" class=\"data row3 col3\" >-0.481165</td>\n",
       "                        <td id=\"T_7a68beb6_20a4_11ea_9c65_00155d4dfe94row3_col4\" class=\"data row3 col4\" >0.850229</td>\n",
       "            </tr>\n",
       "            <tr>\n",
       "                        <th id=\"T_7a68beb6_20a4_11ea_9c65_00155d4dfe94level0_row4\" class=\"row_heading level0 row4\" >4</th>\n",
       "                        <td id=\"T_7a68beb6_20a4_11ea_9c65_00155d4dfe94row4_col0\" class=\"data row4 col0\" >5</td>\n",
       "                        <td id=\"T_7a68beb6_20a4_11ea_9c65_00155d4dfe94row4_col1\" class=\"data row4 col1\" >1.45342</td>\n",
       "                        <td id=\"T_7a68beb6_20a4_11ea_9c65_00155d4dfe94row4_col2\" class=\"data row4 col2\" >1.05774</td>\n",
       "                        <td id=\"T_7a68beb6_20a4_11ea_9c65_00155d4dfe94row4_col3\" class=\"data row4 col3\" >0.165562</td>\n",
       "                        <td id=\"T_7a68beb6_20a4_11ea_9c65_00155d4dfe94row4_col4\" class=\"data row4 col4\" >0.515018</td>\n",
       "            </tr>\n",
       "            <tr>\n",
       "                        <th id=\"T_7a68beb6_20a4_11ea_9c65_00155d4dfe94level0_row5\" class=\"row_heading level0 row5\" >5</th>\n",
       "                        <td id=\"T_7a68beb6_20a4_11ea_9c65_00155d4dfe94row5_col0\" class=\"data row5 col0\" >6</td>\n",
       "                        <td id=\"T_7a68beb6_20a4_11ea_9c65_00155d4dfe94row5_col1\" class=\"data row5 col1\" >-1.33694</td>\n",
       "                        <td id=\"T_7a68beb6_20a4_11ea_9c65_00155d4dfe94row5_col2\" class=\"data row5 col2\" >0.562861</td>\n",
       "                        <td id=\"T_7a68beb6_20a4_11ea_9c65_00155d4dfe94row5_col3\" class=\"data row5 col3\" >1.39285</td>\n",
       "                        <td id=\"T_7a68beb6_20a4_11ea_9c65_00155d4dfe94row5_col4\" class=\"data row5 col4\" >-0.063328</td>\n",
       "            </tr>\n",
       "            <tr>\n",
       "                        <th id=\"T_7a68beb6_20a4_11ea_9c65_00155d4dfe94level0_row6\" class=\"row_heading level0 row6\" >6</th>\n",
       "                        <td id=\"T_7a68beb6_20a4_11ea_9c65_00155d4dfe94row6_col0\" class=\"data row6 col0\" >7</td>\n",
       "                        <td id=\"T_7a68beb6_20a4_11ea_9c65_00155d4dfe94row6_col1\" class=\"data row6 col1\" >0.121668</td>\n",
       "                        <td id=\"T_7a68beb6_20a4_11ea_9c65_00155d4dfe94row6_col2\" class=\"data row6 col2\" >1.2076</td>\n",
       "                        <td id=\"T_7a68beb6_20a4_11ea_9c65_00155d4dfe94row6_col3\" class=\"data row6 col3\" >-0.00204021</td>\n",
       "                        <td id=\"T_7a68beb6_20a4_11ea_9c65_00155d4dfe94row6_col4\" class=\"data row6 col4\" >1.6278</td>\n",
       "            </tr>\n",
       "            <tr>\n",
       "                        <th id=\"T_7a68beb6_20a4_11ea_9c65_00155d4dfe94level0_row7\" class=\"row_heading level0 row7\" >7</th>\n",
       "                        <td id=\"T_7a68beb6_20a4_11ea_9c65_00155d4dfe94row7_col0\" class=\"data row7 col0\" >nan</td>\n",
       "                        <td id=\"T_7a68beb6_20a4_11ea_9c65_00155d4dfe94row7_col1\" class=\"data row7 col1\" >0.354493</td>\n",
       "                        <td id=\"T_7a68beb6_20a4_11ea_9c65_00155d4dfe94row7_col2\" class=\"data row7 col2\" >1.03753</td>\n",
       "                        <td id=\"T_7a68beb6_20a4_11ea_9c65_00155d4dfe94row7_col3\" class=\"data row7 col3\" >-0.385684</td>\n",
       "                        <td id=\"T_7a68beb6_20a4_11ea_9c65_00155d4dfe94row7_col4\" class=\"data row7 col4\" >0.519818</td>\n",
       "            </tr>\n",
       "            <tr>\n",
       "                        <th id=\"T_7a68beb6_20a4_11ea_9c65_00155d4dfe94level0_row8\" class=\"row_heading level0 row8\" >8</th>\n",
       "                        <td id=\"T_7a68beb6_20a4_11ea_9c65_00155d4dfe94row8_col0\" class=\"data row8 col0\" >9</td>\n",
       "                        <td id=\"T_7a68beb6_20a4_11ea_9c65_00155d4dfe94row8_col1\" class=\"data row8 col1\" >1.68658</td>\n",
       "                        <td id=\"T_7a68beb6_20a4_11ea_9c65_00155d4dfe94row8_col2\" class=\"data row8 col2\" >-1.32596</td>\n",
       "                        <td id=\"T_7a68beb6_20a4_11ea_9c65_00155d4dfe94row8_col3\" class=\"data row8 col3\" >1.42898</td>\n",
       "                        <td id=\"T_7a68beb6_20a4_11ea_9c65_00155d4dfe94row8_col4\" class=\"data row8 col4\" >-2.08935</td>\n",
       "            </tr>\n",
       "            <tr>\n",
       "                        <th id=\"T_7a68beb6_20a4_11ea_9c65_00155d4dfe94level0_row9\" class=\"row_heading level0 row9\" >9</th>\n",
       "                        <td id=\"T_7a68beb6_20a4_11ea_9c65_00155d4dfe94row9_col0\" class=\"data row9 col0\" >10</td>\n",
       "                        <td id=\"T_7a68beb6_20a4_11ea_9c65_00155d4dfe94row9_col1\" class=\"data row9 col1\" >-0.12982</td>\n",
       "                        <td id=\"T_7a68beb6_20a4_11ea_9c65_00155d4dfe94row9_col2\" class=\"data row9 col2\" >0.631523</td>\n",
       "                        <td id=\"T_7a68beb6_20a4_11ea_9c65_00155d4dfe94row9_col3\" class=\"data row9 col3\" >-0.586538</td>\n",
       "                        <td id=\"T_7a68beb6_20a4_11ea_9c65_00155d4dfe94row9_col4\" class=\"data row9 col4\" >0.29072</td>\n",
       "            </tr>\n",
       "    </tbody></table>"
      ],
      "text/plain": [
       "<pandas.io.formats.style.Styler at 0x2b8b8c33f98>"
      ]
     },
     "execution_count": 29,
     "metadata": {},
     "output_type": "execute_result"
    }
   ],
   "source": [
    "s = df.style.applymap(color_negative_red)\n",
    "s"
   ]
  }
 ],
 "metadata": {
  "kernelspec": {
   "display_name": "Python 3",
   "language": "python",
   "name": "python3"
  },
  "language_info": {
   "codemirror_mode": {
    "name": "ipython",
    "version": 3
   },
   "file_extension": ".py",
   "mimetype": "text/x-python",
   "name": "python",
   "nbconvert_exporter": "python",
   "pygments_lexer": "ipython3",
   "version": "3.7.3"
  }
 },
 "nbformat": 4,
 "nbformat_minor": 2
}