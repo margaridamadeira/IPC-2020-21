{
 "metadata": {
  "language_info": {
   "codemirror_mode": {
    "name": "ipython",
    "version": 3
   },
   "file_extension": ".py",
   "mimetype": "text/x-python",
   "name": "python",
   "nbconvert_exporter": "python",
   "pygments_lexer": "ipython3",
   "version": "3.7.9-final"
  },
  "orig_nbformat": 2,
  "kernelspec": {
   "name": "python3",
   "display_name": "Python 3",
   "language": "python"
  }
 },
 "nbformat": 4,
 "nbformat_minor": 2,
 "cells": [
  {
   "source": [
    "# Desenvolvimento de soluções usando bibliotecas\n",
    "\n",
    "Ao usarmos Python dispomos de múltiplos recursos, livres e gratuitos.\n"
   ],
   "cell_type": "markdown",
   "metadata": {}
  },
  {
   "source": [
    "## Objetivos de aprendizagem\n",
    "\n",
    "\n",
    "Nesta aula teremos oportunidade de tirar partido de algumas bibliotecas, nomeadamente:\n",
    "- NumPy\n",
    "- Matplotlib\n",
    "- Pandas\n",
    "- SymPy\n"
   ],
   "cell_type": "markdown",
   "metadata": {}
  },
  {
   "source": [
    "## Introdução\n",
    "\n",
    "Para cada uma das bibliotecas referidas, apresenta-se uma visão panorâmica de algumas funcionalidades básicas que ilustram a utilização.\n",
    "\n",
    "Nas referências é indicada a localização da documentação específica de cada biblioteca e algums resumos (cheat sheets).\n",
    "\n"
   ],
   "cell_type": "markdown",
   "metadata": {}
  }
 ]
}