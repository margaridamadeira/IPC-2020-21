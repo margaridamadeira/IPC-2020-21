{
 "metadata": {
  "language_info": {
   "codemirror_mode": {
    "name": "ipython",
    "version": 3
   },
   "file_extension": ".py",
   "mimetype": "text/x-python",
   "name": "python",
   "nbconvert_exporter": "python",
   "pygments_lexer": "ipython3",
   "version": "3.7.8-final"
  },
  "orig_nbformat": 2,
  "kernelspec": {
   "name": "Python 3.7.8 64-bit ('IPC-2020-21': conda)",
   "display_name": "Python 3.7.8 64-bit ('IPC-2020-21': conda)",
   "metadata": {
    "interpreter": {
     "hash": "52b0b3f9645449004de42dc784d0c6cee9a46049a2ed1367549c50e9b2766480"
    }
   }
  }
 },
 "nbformat": 4,
 "nbformat_minor": 2,
 "cells": [
  {
   "source": [],
   "cell_type": "markdown",
   "metadata": {}
  },
  {
   "source": [
    "# Primeiros programas\n",
    "\n",
    "Tema: Sistema métrico internacional ([SI units](https://doi.org/10.6028/NIST.SP.1247))."
   ],
   "cell_type": "markdown",
   "metadata": {}
  },
  {
   "source": [
    "## Temperatura\n",
    "\n",
    "<img src=\"kelvin_front_web.jpg\" alt=\"Cartoon kelvin\" title=\"Dr. Kelvin\" style=\"width: 200px;\"/>\n",
    "\n",
    "Eis o [Dr. Kelvin](https://www.nist.gov/sites/default/files/styles/220_x_220_limit/public/images/2016/08/29/kelvin_front_web.jpg?itok=1RygGZAs). Sim, o tema de hoje é a conversão de [temperatura](https://www.nist.gov/pml/weights-and-measures/si-units-temperature) entre várias unidades.\n",
    "\n",
    "\n",
    "A unidade padrão de medida da temperatura é Kelvin (K), mas não é algo que usemos no dia-a-dia. Normalmente trabalhamos com graus Celcius (C) e alguns preferem referir-se à temperatura em graus Fahrenheit (F). \n",
    "\n",
    "Quando falamos em *zero absoluto*, estamos a referir-nos a 0 K. \n",
    "Se nos perguntarem a que temperaturas a água congela e ferve, se calhar respondemos 0⁰ e 100⁰. Felizmente que um grau Celcius corresponde a um intervalo de 1 K. Sabendo que 0⁰C corresponde a 273.15 K, já podemos converter de Celsius para Kelvin e vice-versa.\n",
    "\n",
    "Para a conversão de e para Fahrenheit, precisamos saber que 0⁰C corresponde a 32⁰F e que um intervalo de um grau Celsius corresponde a um intervalo de 1.8 graus Fahrenheit. \n",
    "\n",
    "### Tarefa 1\n",
    "\n",
    "Faça uma função *k2c* que converta uma temperatura em kelvin para graus Celsius.\n",
    "\n",
    "### Tarefa 2\n",
    "\n",
    "Faça uma função *c2k* que converta uma temperatura em graus Celsius para kelvin. \n",
    "\n",
    "### Tarefa 3\n",
    "\n",
    "Faça uma função *c2f* que converta uma temperatura em graus Celsius para graus Farenheit.\n",
    "\n",
    "### Tarefa 4\n",
    "\n",
    "Faça uma função *f2c* que converta uma temperatura em graus Fahrenheit para graus Celsius.\n",
    "\n",
    "#### Tarefa 5\n",
    "\n",
    "Usando as funções *k2c* e c2f*, faça uma função *k2f* que converta uma temperatura em kelvin para graus Farenheit.\n",
    "\n",
    "#### Tarefa 6\n",
    "\n",
    "Usando as funções *f2c* e *c2k*, faça uma função *f2k* que converta uma temperatura em graus Fahrenheit para kelvin. \n"
   ],
   "cell_type": "markdown",
   "metadata": {}
  },
  {
   "source": [
    "Posteriormente serão dadas instruções para submeter este trabalho."
   ],
   "cell_type": "markdown",
   "metadata": {}
  }
 ]
}