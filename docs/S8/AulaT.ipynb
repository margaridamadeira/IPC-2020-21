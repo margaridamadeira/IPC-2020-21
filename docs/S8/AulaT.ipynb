{
 "metadata": {
  "language_info": {
   "codemirror_mode": {
    "name": "ipython",
    "version": 3
   },
   "file_extension": ".py",
   "mimetype": "text/x-python",
   "name": "python",
   "nbconvert_exporter": "python",
   "pygments_lexer": "ipython3",
   "version": 3
  },
  "orig_nbformat": 2
 },
 "nbformat": 4,
 "nbformat_minor": 2,
 "cells": [
  {
   "source": [
    "# Objetos\n",
    "\n",
    "A programação orientada por objetos centra-se no facto de que existir um modelo (uma abstração) que incorpora caraterísticas e funcionalidades e que, na prática, é instanciado para preencher uma necessidade na aplicação.\n",
    "\n"
   ],
   "cell_type": "markdown",
   "metadata": {}
  }
 ]
}