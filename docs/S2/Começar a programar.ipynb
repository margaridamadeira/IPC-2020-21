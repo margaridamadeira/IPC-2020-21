{
 "metadata": {
  "language_info": {
   "codemirror_mode": {
    "name": "ipython",
    "version": 3
   },
   "file_extension": ".py",
   "mimetype": "text/x-python",
   "name": "python",
   "nbconvert_exporter": "python",
   "pygments_lexer": "ipython3",
   "version": "3.7.8-final"
  },
  "orig_nbformat": 2,
  "kernelspec": {
   "name": "Python 3.7.8 64-bit ('IPC-2020-21': conda)",
   "display_name": "Python 3.7.8 64-bit ('IPC-2020-21': conda)",
   "metadata": {
    "interpreter": {
     "hash": "52b0b3f9645449004de42dc784d0c6cee9a46049a2ed1367549c50e9b2766480"
    }
   }
  }
 },
 "nbformat": 4,
 "nbformat_minor": 2,
 "cells": [
  {
   "source": [
    "# Começar a programar"
   ],
   "cell_type": "markdown",
   "metadata": {}
  },
  {
   "source": [
    "## Objetivos de aprendizagem\n",
    "\n",
    "Nesta lição veremos:\n",
    "\n",
    "1. os diferentes tipos de dados nativos simples (numéricos, alfanumérico, lógico e _None_)\n",
    "1. como criar e usar variáveis\n",
    "1. como usar e definir funções\n"
   ],
   "cell_type": "markdown",
   "metadata": {}
  },
  {
   "source": [
    "## Tipos de dados nativos simples\n",
    "\n",
    "Para resolvermos o nosso problema e criarmos uma solução, temos que ser capazes de representar a realidade.\n",
    "A linguagem Python considera de raiz (nativamente) tipos de dados, uns simples outros nem tanto. Começemos pelos tipos de dados simples.\n"
   ],
   "cell_type": "markdown",
   "metadata": {}
  },
  {
   "source": [
    "#### Tipos de dados númericos\n",
    "\n",
    "Na semana passada tivemos a oportunidade de experimentar o uso do Python como calculadora e começar a trabalhar com números. Os tipos de dados numéricos incluem os números inteiros (*int*), os números reais (*float*, ou seja, com vírgula flutuante) e os números complexos (*complex*).\n",
    "\n",
    "Já conhecemos, da Matemática, os números inteiros ($Z$) e os números reais ($R$). Pode ser que conheçam\n",
    "Por exemplo, \n",
    "\n",
    "> $ 2 \\in N$\n",
    "\n",
    "> $ 2.0 \\notin N$\n",
    "\n",
    "> $ 2.0 \\in R$\n",
    "\n",
    "\n",
    "Há uma forma de determinarmos qual o tipo de dados, usando a função nativa do Python *type*."
   ],
   "cell_type": "markdown",
   "metadata": {}
  },
  {
   "cell_type": "code",
   "execution_count": null,
   "metadata": {},
   "outputs": [],
   "source": [
    "type(2)"
   ]
  },
  {
   "cell_type": "code",
   "execution_count": null,
   "metadata": {},
   "outputs": [],
   "source": [
    "type(2.0)"
   ]
  },
  {
   "source": [
    "Os números complexos são representados em Python usando a forma algébrica, usando-se 'j' ou 'J' na parte imaginária. "
   ],
   "cell_type": "markdown",
   "metadata": {}
  },
  {
   "cell_type": "code",
   "execution_count": null,
   "metadata": {},
   "outputs": [],
   "source": [
    "type(3 + 2j)"
   ]
  },
  {
   "source": [
    "#### Tipos de dados alfanuméricos\n",
    "\n",
    "Se podemos representar números, também podemos representar caracteres. Os caracteres incluem letras e também algarismos, o caracter <espaço> e sinais de pontuação. O que recebemos do teclado é uma sequência de caracteres. \n",
    "\n",
    "O Python inclui um tipo para cadeias de caracteres, o tipo *str*  (em inglês *string*), usado para sequências imutáveis de dados textuais. \n",
    "\n",
    "Palavras e frases são do tipo *str*. É necessário delimitar a cadeia de caracteres, usando aspas, para que se saiba onde começa e acaba. As aspas podem ser simples (\"'\") ou duplas ('\"'). \n"
   ],
   "cell_type": "markdown",
   "metadata": {}
  },
  {
   "cell_type": "code",
   "execution_count": null,
   "metadata": {},
   "outputs": [],
   "source": [
    "type('Nome')"
   ]
  },
  {
   "source": [
    "type('2')"
   ],
   "cell_type": "code",
   "metadata": {},
   "execution_count": null,
   "outputs": []
  },
  {
   "cell_type": "code",
   "execution_count": null,
   "metadata": {},
   "outputs": [],
   "source": [
    "type('2.0')"
   ]
  },
  {
   "source": [
    "#### Tipo lógico\n",
    "\n",
    "Este tipo, *bool*, inclui as constantes *True* e *False*. Há um conjunto de operações, entre as quais conjunção, disjunção e negação, que usamos muito na programação."
   ],
   "cell_type": "markdown",
   "metadata": {}
  },
  {
   "source": [
    "#### "
   ],
   "cell_type": "markdown",
   "metadata": {}
  },
  {
   "cell_type": "code",
   "execution_count": null,
   "metadata": {},
   "outputs": [],
   "source": [
    "type(True)"
   ]
  },
  {
   "cell_type": "code",
   "execution_count": null,
   "metadata": {},
   "outputs": [],
   "source": [
    "type(False)"
   ]
  },
  {
   "source": [
    "#### Tipo *NoneType*\n",
    "\n",
    "E para terminar, há que referir o tipo *NoneType*. O único valor deste tipo é a constante *None*. \n"
   ],
   "cell_type": "markdown",
   "metadata": {}
  },
  {
   "cell_type": "code",
   "execution_count": null,
   "metadata": {},
   "outputs": [],
   "source": [
    "type(None)"
   ]
  },
  {
   "source": [
    "### Criar e usar variáveis\n",
    "\n",
    "As constantes, como *True*, *False* ou *None*, nunca mudam. São _constantes_.\n",
    "\n",
    "Já as variáveis, são como caixas, onde colocamos conteúdo."
   ],
   "cell_type": "markdown",
   "metadata": {}
  },
  {
   "cell_type": "code",
   "execution_count": null,
   "metadata": {},
   "outputs": [],
   "source": [
    "distancia_em_polegadas = 30\n",
    "centimetros_por_polegada = 2.54\n",
    "ponto = 3 + 2j\n",
    "nome = 'Maria'\n",
    "resposta = 'A Maria escolheu 5'"
   ]
  },
  {
   "source": [
    "É muito útil pois assim conseguimos fazer programas que se podem aplicar em mais de um caso.\n",
    "Para usar, preferimos o nome ao conteúdo. Por exemplo,\n"
   ],
   "cell_type": "markdown",
   "metadata": {}
  },
  {
   "cell_type": "code",
   "execution_count": null,
   "metadata": {},
   "outputs": [],
   "source": [
    "# distância em centímetros\n",
    "distancia_em_polegadas*centimetros_por_polegada"
   ]
  },
  {
   "cell_type": "code",
   "execution_count": null,
   "metadata": {},
   "outputs": [],
   "source": [
    "distancia_em_polegadas = 10"
   ]
  },
  {
   "cell_type": "code",
   "execution_count": null,
   "metadata": {},
   "outputs": [],
   "source": [
    "# distância em centímetros\n",
    "distancia_em_polegadas*centimetros_por_polegada"
   ]
  },
  {
   "source": [
    "### Usar e definir funções\n",
    "\n",
    "A linguagem Python considera de raiz algumas funções, e permite-nos criar funções novas.\n",
    "No nosso primeiro programa, vimos a função *print*, e usámo-la para apresentar uma cadeia de carateres.   "
   ],
   "cell_type": "markdown",
   "metadata": {}
  },
  {
   "cell_type": "code",
   "execution_count": null,
   "metadata": {},
   "outputs": [],
   "source": [
    "print('Olá mundo')"
   ]
  },
  {
   "source": [
    "Usamos funções para reunir um conjunto de ações que vão considerar o que está dentro de parênteses. "
   ],
   "cell_type": "markdown",
   "metadata": {}
  },
  {
   "cell_type": "code",
   "execution_count": null,
   "metadata": {},
   "outputs": [],
   "source": [
    "print (distancia_em_polegadas)"
   ]
  },
  {
   "source": [
    "Se a função *print* apresenta o que está entre parênteses (argumento ou argumentos), podemos usar a função *print* para apresentar algo mais. "
   ],
   "cell_type": "markdown",
   "metadata": {}
  },
  {
   "cell_type": "code",
   "execution_count": null,
   "metadata": {},
   "outputs": [],
   "source": [
    "print ('Distância (in):', distancia_em_polegadas)\n",
    "print ('Distância (cm):', distancia_em_polegadas*centimetros_por_polegada)"
   ]
  },
  {
   "source": [
    "Se quisermos agilizar o processo, podemos criar uma função que recebe a distância em polegadas e a apresenta em centímetros.\n",
    "\n",
    "A ideia seria poder fazer\n",
    "\n",
    "> print ('Distância (in):', distancia_em_polegadas)\n",
    "\n",
    "> resultado = converte_polegada_para_centimetro(distancia_em_polegadas)\n",
    "\n",
    "> print('Distância (cm):', resultado)\n",
    "\n",
    "\n",
    "ou mesmo\n",
    "\n",
    "> print ('Distância (in):', distancia_em_polegadas)\n",
    "\n",
    "> print('Distância (cm):', converte_polegada_para_centimetro(distancia_em_polegadas))\n",
    "\n",
    "Em qualquer dos casos, queremos uma função com o nome *converte_polegada_para_centimento* que recebe a distância em polegadas e devolve a distância em centímetros."
   ],
   "cell_type": "markdown",
   "metadata": {}
  },
  {
   "cell_type": "code",
   "execution_count": null,
   "metadata": {},
   "outputs": [],
   "source": [
    "def converte_polegada_para_centimetro(dist_polegadas):\n",
    "    \"\"\"Função que converte uma distância de polegadas para centímetros.\"\"\"\n",
    "\n",
    "    centimetros_por_polegada = 2.54\n",
    "    resultado = distancia_em_polegadas * centimetros_por_polegada\n",
    "    return resultado "
   ]
  },
  {
   "source": [
    "Note que as instruções dentro da função estão alinhadas a quatro espaços (ou um `<tab>`).\n",
    "O alinhamento é _muito_ importante em Python, pois indica um bloco de código.\n",
    "\n",
    "Testemos então."
   ],
   "cell_type": "markdown",
   "metadata": {}
  },
  {
   "cell_type": "code",
   "execution_count": null,
   "metadata": {},
   "outputs": [],
   "source": [
    "print ('Distância (in):', distancia_em_polegadas)\n",
    "\n",
    "print('Distância (cm):', converte_polegada_para_centimetro(distancia_em_polegadas))"
   ]
  },
  {
   "source": [
    "Ou"
   ],
   "cell_type": "markdown",
   "metadata": {}
  },
  {
   "source": [
    "print (distancia_em_polegadas, '(in) corresponde a', converte_polegada_para_centimetro(distancia_em_polegadas), '(cm)')\n",
    "\n"
   ],
   "cell_type": "code",
   "metadata": {},
   "execution_count": null,
   "outputs": []
  },
  {
   "source": [
    "Agora é muito mais simples usar."
   ],
   "cell_type": "markdown",
   "metadata": {}
  },
  {
   "cell_type": "code",
   "execution_count": null,
   "metadata": {},
   "outputs": [],
   "source": [
    "distancia_em_polegadas = 15\n",
    "print (distancia_em_polegadas, '(in) corresponde a', converte_polegada_para_centimetro(distancia_em_polegadas), '(cm)')"
   ]
  },
  {
   "source": [
    "## Em resumo\n",
    "\n",
    "A linguagem Python considera diferentes tipos de dados. De entre os tipos de dados simples, vimos exemplos de dados numéricos, alfanuméricos, lógicos e do tipo TypeNone. Para saber qual é o tipo, podemos usar a função *type*.\n",
    "\n",
    "As variáveis são identificadas por um nome (identificador) e são criadas de forma dinâmica quando lhes atribuímos conteúdo. Depois de criada uma variável, em vez de referirmos o conteúdo, referimos o nome. \n",
    "\n",
    "Para usar uma função, indicamos dentro dos parênteses o valor ou variável que a função deve considerar. Para criarmos uma função, usamos `def ` seguido do nome que queremos dar à função e indicando dentro de parênteses o identificador do argumento. Entre as três aspas duplas colocamos a informação de ajuda. As instruções que fazem parte da função devem estar alinhadas a quatro espaços (ou um `<tab>`), pelo menos. Usamos o return para indicar o valor ou variável que a função calculou.\n",
    "\n"
   ],
   "cell_type": "markdown",
   "metadata": {}
  }
 ]
}