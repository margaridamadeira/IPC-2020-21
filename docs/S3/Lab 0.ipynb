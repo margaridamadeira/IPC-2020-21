{
 "metadata": {
  "language_info": {
   "codemirror_mode": {
    "name": "ipython",
    "version": 3
   },
   "file_extension": ".py",
   "mimetype": "text/x-python",
   "name": "python",
   "nbconvert_exporter": "python",
   "pygments_lexer": "ipython3",
   "version": "3.7.8-final"
  },
  "orig_nbformat": 2,
  "kernelspec": {
   "name": "Python 3.7.8 64-bit ('IPC-2020-21': conda)",
   "display_name": "Python 3.7.8 64-bit ('IPC-2020-21': conda)",
   "metadata": {
    "interpreter": {
     "hash": "52b0b3f9645449004de42dc784d0c6cee9a46049a2ed1367549c50e9b2766480"
    }
   }
  }
 },
 "nbformat": 4,
 "nbformat_minor": 2,
 "cells": [
  {
   "source": [],
   "cell_type": "markdown",
   "metadata": {}
  },
  {
   "source": [
    "# Lab 0\n",
    "\n",
    "Neste primeiro guião, vamos submeter problemas ao Mooshak. Veja a explicação primeiro.\n",
    "\n",
    "## Tarefa A \n",
    "\n",
    "\n",
    "\n",
    "\n",
    "\n"
   ],
   "cell_type": "markdown",
   "metadata": {}
  }
 ]
}