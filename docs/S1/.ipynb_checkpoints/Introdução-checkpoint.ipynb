{
 "cells": [
  {
   "cell_type": "markdown",
   "metadata": {
    "slideshow": {
     "slide_type": "slide"
    }
   },
   "source": [
    "# Introdução\n",
    "\n",
    "[Começamos](https://calendar.google.com/calendar/event?eid=NHE0MnA0amgzNXV2dmNvbHE2ZDBqYmtrZ2pfMjAyMDEwMDZUMTEwMDAwWiBlZzVhNTRpMmtiZmdjZTlpZDd2bWV0OW9pMEBn&ctz=GMT+01:00) devagar, para nos habituarmos ao ambiente de trabalho, desde encontrar os materiais até ao uso das várias ferramentas."
   ]
  },
  {
   "cell_type": "markdown",
   "metadata": {
    "slideshow": {
     "slide_type": "slide"
    }
   },
   "source": [
    "## Objetivos de aprendizagem\n",
    "\n",
    "Nesta lição veremos:\n",
    "\n",
    "1.  Porque escolhemos Python\n",
    "1.  Como funcionam os computadores\n",
    "1.  O que é uma linguagem de programação\n",
    "1.  Uma breve apresentação de Python"
   ]
  },
  {
   "cell_type": "markdown",
   "metadata": {
    "slideshow": {
     "slide_type": "slide"
    }
   },
   "source": [
    "### Porque escolhemos Python?\n",
    "\n",
    "Um dos pontos fortes do Python é a existência de múltiplos recursos,\n",
    "livres e gratuitos. E assim, existem muitas formas de abordar a\n",
    "programação em Python. Nós vamos optar por uma forma que facilitará o\n",
    "uso ao longo do curso em Bioengenharia, mas também facilita o uso\n",
    "futuro.\n",
    "\n",
    "Há uma proposta de princípios de *Open Science* (ciência aberta, veja\n",
    "<https://vimeo.com/162062013>). Essa proposta surge frequentemente a par\n",
    "da promoção das sequintes características dos repositórios de dados: os\n",
    "dados devem poder ser encontrados, acedidos, entendidos, movidos entre\n",
    "sistemas e reutilizados."
   ]
  },
  {
   "cell_type": "markdown",
   "metadata": {
    "slideshow": {
     "slide_type": "slide"
    }
   },
   "source": [
    "Esta visão de *FAIR data* foi também adotada pela\n",
    "União Europeia e pelos G20. \n",
    "> Veja <https://pt.wikipedia.org/wiki/Dados_FAIR>\n",
    "\n",
    "A sigla *FAIR* representa:\n",
    "\n",
    "+ *Findability*: os dados devem poder ser encontrados\n",
    "\n",
    "+ *Accessibility*: uma vez encontrados, deve ser claro se/como podem ser acedidos\n",
    "\n",
    "+ *Interoperability*: não existir uma restrição técnica de como os dados poderão ser\n",
    "    tratados\n",
    "\n",
    "+ *Reusability*: os dados devem poder ser reutilizados.\n",
    "\n",
    "É com estes princípio que vamos começar a programar em Python e fazer\n",
    "ciência aberta. Assim, vamos usar o ambiente Jupyter, vamos usar dados\n",
    "publicados na Internet e, programando em Python, vamos obter as nossas\n",
    "próprias conclusões."
   ]
  },
  {
   "cell_type": "markdown",
   "metadata": {
    "slideshow": {
     "slide_type": "slide"
    }
   },
   "source": [
    "### Como funcionam os computadores?\n",
    "\n",
    "Um computador é um equipamento constituído por vários componentes.\n",
    "Quando respondemos a uma pergunta do tipo *Que computador tens?*\n",
    "tipicamente indicamos o processador, a quantidade de memória *RAM* e a\n",
    "dimensão do disco rígido.\n",
    "\n",
    "Mas há outros componentes num computador que, de tão comuns, nem nos\n",
    "lembramos de referir. Por exemplo, o teclado, o rato, o monitor.\n",
    "\n",
    "Na figura vemos a representação de alguns dos dispositivos que compõem um computador."
   ]
  },
  {
   "cell_type": "markdown",
   "metadata": {
    "slideshow": {
     "slide_type": "slide"
    }
   },
   "source": [
    "\n",
    "\n",
    "<img src=\"figures/sketch/computer_sk_transp.png\" alt=\"Esquema-computador\" title=\"Diagrama simplificado de um computador\" style=\"width: 500px;\"/>\n"
   ]
  },
  {
   "cell_type": "markdown",
   "metadata": {
    "slideshow": {
     "slide_type": "slide"
    }
   },
   "source": [
    "A ideia básica é que quando o computador recebe um estímulo (pelo rato ou teclado), \n",
    "para produzir o resultado correspondente (apresentar no monitor) irá fazer processamento\n",
    "sobre esse estímulo, processamento esse que pode incluir alguns anteriores (que estão em memória ou no disco).\n",
    "\n",
    "\n",
    "> Sugere-se a leitura da secção [Arquitetura de hardware](https://pt.wikipedia.org/wiki/Computador#Arquitetura_de_hardware) na Wikipédia.\n"
   ]
  },
  {
   "cell_type": "markdown",
   "metadata": {
    "slideshow": {
     "slide_type": "slide"
    }
   },
   "source": [
    "### O que é uma linguagem de programação?\n",
    "\n",
    "Uma linguagem de programação é uma forma de descrever um conjunto de\n",
    "actividades que pretendemos que sejam efetuadas para atingir um\n",
    "determinado fim.\n",
    "\n",
    "O conjunto de atividades necessárias para atingir esse fim é designado *algoritmo*.\n",
    "\n",
    "Um programa ou uma aplicação é a expressão de um algoritmo usando linguagem de programação.\n",
    "\n",
    "Assim, para um caso, ou para um problema, temos que saber como resolver para depois \n",
    "podermos fazer o programa.\n",
    "\n",
    "As linguagens de programação podem ser classificadas de acordo com as funcionalidades que \n",
    "oferecem ou com a abordagem (método) para a descrição da solução. "
   ]
  },
  {
   "cell_type": "markdown",
   "metadata": {
    "slideshow": {
     "slide_type": "slide"
    }
   },
   "source": [
    "> A linguagem que vamos usar é [Python](https://www.python.org/). Veja também a [descrição de Python](https://pt.wikipedia.org/wiki/Python) na Wikipédia."
   ]
  },
  {
   "cell_type": "markdown",
   "metadata": {
    "slideshow": {
     "slide_type": "fragment"
    }
   },
   "source": [
    "Há muitas linguagens de programação. Normalmente, para termos a certeza que tudo está a funcionar \n",
    "como desejável, faz-se um pequeno programa *Hello World*. \n",
    "\n",
    "> Até há uma coleção desses programas [Hello World](http://helloworldcollection.de/)."
   ]
  },
  {
   "cell_type": "markdown",
   "metadata": {
    "slideshow": {
     "slide_type": "-"
    }
   },
   "source": [
    "Como somos portugueses, o nosso cumprimento em Python seria"
   ]
  },
  {
   "cell_type": "code",
   "execution_count": null,
   "metadata": {
    "slideshow": {
     "slide_type": "-"
    },
    "tags": []
   },
   "outputs": [],
   "source": [
    "print('Olá mundo')"
   ]
  },
  {
   "cell_type": "markdown",
   "metadata": {
    "slideshow": {
     "slide_type": "slide"
    }
   },
   "source": [
    "### Breve apresentação de Python\n",
    "\n",
    "#### O IPython como interpretador de comandos\n",
    "\n",
    "O ambiente IPython, simples e interactivo, é extremamente conveniente para a aprendizagem da programação em Python, pois permite a elaboração de pequenos programas e sua experimentação. "
   ]
  },
  {
   "cell_type": "markdown",
   "metadata": {
    "slideshow": {
     "slide_type": "slide"
    }
   },
   "source": [
    "Na maioria dos tutoriais, a primeira proposta de utilização do Python é como [calculadora](https://docs.python.org/3/tutorial/introduction.html) simples. \n",
    "\n",
    "Isto porque o Python disponibiliza à partida, para além de algumas funcionalidades básicas, várias operações numéricas que podemos utilizar:\n",
    "\n",
    "    + (adição)\n",
    "    - (subtração)\n",
    "    * (multiplicação)\n",
    "    / (divisão)\n",
    "    ** (exponenciação)\n",
    "    // (divisão inteira)\n",
    "    % (resto da divisão inteira)"
   ]
  },
  {
   "cell_type": "markdown",
   "metadata": {
    "slideshow": {
     "slide_type": "slide"
    }
   },
   "source": [
    "A utilização das operações de adição, subtração, multiplicação e divisão é muito simples.\n",
    "O único cuidado que temos que ter é lembrarmo-nos da prioridade das operações e usar parenteses se for caso disso.\n",
    "Vejamos alguns exemplos."
   ]
  },
  {
   "cell_type": "code",
   "execution_count": null,
   "metadata": {
    "slideshow": {
     "slide_type": "fragment"
    }
   },
   "outputs": [],
   "source": [
    "5+4*2"
   ]
  },
  {
   "cell_type": "code",
   "execution_count": null,
   "metadata": {
    "slideshow": {
     "slide_type": "-"
    }
   },
   "outputs": [],
   "source": [
    "(5+4)*2"
   ]
  },
  {
   "cell_type": "markdown",
   "metadata": {
    "slideshow": {
     "slide_type": "slide"
    }
   },
   "source": [
    "A exponenciação é usada para calcular potências."
   ]
  },
  {
   "cell_type": "code",
   "execution_count": null,
   "metadata": {
    "slideshow": {
     "slide_type": "fragment"
    }
   },
   "outputs": [],
   "source": [
    "2**3 "
   ]
  },
  {
   "cell_type": "code",
   "execution_count": null,
   "metadata": {
    "slideshow": {
     "slide_type": "-"
    }
   },
   "outputs": [],
   "source": [
    "5**2"
   ]
  },
  {
   "cell_type": "markdown",
   "metadata": {
    "slideshow": {
     "slide_type": "slide"
    }
   },
   "source": [
    "A divisão inteira e resto da divisão inteira merece alguma atenção. Na divisão normal, teriamos"
   ]
  },
  {
   "cell_type": "code",
   "execution_count": null,
   "metadata": {
    "slideshow": {
     "slide_type": "fragment"
    }
   },
   "outputs": [],
   "source": [
    "7/2"
   ]
  },
  {
   "cell_type": "markdown",
   "metadata": {
    "slideshow": {
     "slide_type": "slide"
    }
   },
   "source": [
    "Na divisão inteira, o resultado é um número inteiro e poderá haver resto"
   ]
  },
  {
   "cell_type": "code",
   "execution_count": null,
   "metadata": {
    "slideshow": {
     "slide_type": "fragment"
    }
   },
   "outputs": [],
   "source": [
    "7//2"
   ]
  },
  {
   "cell_type": "code",
   "execution_count": null,
   "metadata": {
    "slideshow": {
     "slide_type": "fragment"
    }
   },
   "outputs": [],
   "source": [
    "7%2"
   ]
  },
  {
   "cell_type": "markdown",
   "metadata": {
    "slideshow": {
     "slide_type": "slide"
    }
   },
   "source": [
    "Existem funções, disponíveis em Python, que iremos conhecendo aos poucos. Tente determinar o resultado antes de executar a célula.\n",
    "\n",
    "    abs(-1)*max(1, 2, 3) + min(4, 5, 6)\n",
    "\n",
    "Para executar a célUla abaixo, remova o carater '#' que indica um comentário.\n"
   ]
  },
  {
   "cell_type": "code",
   "execution_count": null,
   "metadata": {
    "slideshow": {
     "slide_type": "fragment"
    }
   },
   "outputs": [],
   "source": [
    "# abs(-1)*max(1, 2, 3) + min(4, 5, 6)"
   ]
  },
  {
   "cell_type": "markdown",
   "metadata": {
    "slideshow": {
     "slide_type": "slide"
    }
   },
   "source": [
    "Pode consultar a documentação, embora a forma exata possa variar consoante a ferramenta que está a usar (Spyder ou Jupyter). E frequentemente, há mais de uma maneira de obter essa documentação. Por exemplo,"
   ]
  },
  {
   "cell_type": "code",
   "execution_count": null,
   "metadata": {
    "slideshow": {
     "slide_type": "fragment"
    }
   },
   "outputs": [],
   "source": [
    "?abs"
   ]
  },
  {
   "cell_type": "code",
   "execution_count": null,
   "metadata": {
    "slideshow": {
     "slide_type": "-"
    }
   },
   "outputs": [],
   "source": [
    "abs?"
   ]
  },
  {
   "cell_type": "code",
   "execution_count": null,
   "metadata": {
    "slideshow": {
     "slide_type": "-"
    },
    "tags": []
   },
   "outputs": [],
   "source": [
    "help(abs)"
   ]
  },
  {
   "cell_type": "markdown",
   "metadata": {
    "slideshow": {
     "slide_type": "slide"
    }
   },
   "source": [
    "#### Uso de bibliotecas\n",
    "\n",
    "É de notar que existem numerosas e diversas bibliotecas com extensões à linguagem básica, que servem os mais diversos fins. Há bibliotecas que dão suporte a mecanismos de cálculo e visualização gráfica que poderão ser bastante úteis.\n"
   ]
  },
  {
   "cell_type": "markdown",
   "metadata": {
    "slideshow": {
     "slide_type": "fragment"
    }
   },
   "source": [
    "Nesta unidade curricular iremos por vezes usar alguns desses mecanismos. Iniciamos com a programação em Python e avançamos depois para a utilização das bibliotecas. \n",
    "\n",
    "Um exemplo é *Math*."
   ]
  },
  {
   "cell_type": "code",
   "execution_count": null,
   "metadata": {
    "slideshow": {
     "slide_type": "slide"
    }
   },
   "outputs": [],
   "source": [
    "from math import *"
   ]
  },
  {
   "cell_type": "code",
   "execution_count": null,
   "metadata": {
    "slideshow": {
     "slide_type": "fragment"
    }
   },
   "outputs": [],
   "source": [
    "pi"
   ]
  },
  {
   "cell_type": "code",
   "execution_count": null,
   "metadata": {
    "slideshow": {
     "slide_type": "-"
    }
   },
   "outputs": [],
   "source": [
    "cos(pi)"
   ]
  },
  {
   "cell_type": "markdown",
   "metadata": {
    "slideshow": {
     "slide_type": "-"
    }
   },
   "source": [
    "> *Sugestão*: Crie uma nova célula antes de importar *math* e tente obter o valor de $ \\pi $, ou o $ cos(2\\pi) $. A execução da célula vai falhar. Explique porquê."
   ]
  },
  {
   "cell_type": "code",
   "execution_count": null,
   "metadata": {
    "slideshow": {
     "slide_type": "slide"
    }
   },
   "outputs": [],
   "source": [
    "log(e**5)"
   ]
  },
  {
   "cell_type": "code",
   "execution_count": null,
   "metadata": {
    "slideshow": {
     "slide_type": "fragment"
    }
   },
   "outputs": [],
   "source": [
    "log2(1024)-log10(1000)"
   ]
  },
  {
   "cell_type": "markdown",
   "metadata": {
    "slideshow": {
     "slide_type": "slide"
    }
   },
   "source": [
    "Outro exemplo do que usaremos é *Matplotlib*.  "
   ]
  },
  {
   "cell_type": "code",
   "execution_count": null,
   "metadata": {
    "slideshow": {
     "slide_type": "fragment"
    }
   },
   "outputs": [],
   "source": [
    "?matplotlib"
   ]
  },
  {
   "cell_type": "markdown",
   "metadata": {
    "slideshow": {
     "slide_type": "slide"
    }
   },
   "source": [
    "No futuro, para se trabalhar com vetores e matrizes, podemos usar *NumPy* ou outras alternativas. "
   ]
  },
  {
   "cell_type": "markdown",
   "metadata": {
    "slideshow": {
     "slide_type": "slide"
    }
   },
   "source": [
    "A instrução precedida de % é aquilo a que na terminologia do IPython se denomina *magic*, uma extensão à linguagem Python que facilita a interacção com o sistema. Introduziremos, quando necessário, outras magias do IPython. Para vermos os gráficos nesta página, fazemos"
   ]
  },
  {
   "cell_type": "code",
   "execution_count": null,
   "metadata": {
    "slideshow": {
     "slide_type": "slide"
    },
    "tags": []
   },
   "outputs": [],
   "source": [
    "%matplotlib inline"
   ]
  },
  {
   "cell_type": "markdown",
   "metadata": {
    "slideshow": {
     "slide_type": "slide"
    }
   },
   "source": [
    "Neste caso e para efeitos de demonstração, precisamos de algumas *peças*. "
   ]
  },
  {
   "cell_type": "code",
   "execution_count": null,
   "metadata": {},
   "outputs": [],
   "source": [
    "from numpy import arange\n",
    "import matplotlib.pyplot"
   ]
  },
  {
   "cell_type": "markdown",
   "metadata": {
    "slideshow": {
     "slide_type": "fragment"
    }
   },
   "source": [
    "E já temos algumas funcionalidades disponíveis, por exemplo, para gerar gráficos."
   ]
  },
  {
   "cell_type": "markdown",
   "metadata": {
    "slideshow": {
     "slide_type": "slide"
    }
   },
   "source": [
    "#### Geração de gráficos\n",
    "\n",
    "A representação gráfica é uma parte importante e, felizmente, não é complicada.\n",
    "Vejamos como faríamos para representar a função $f(x) = x² $ quando o conjunto de partida é $ \\{0, 1, 2, 3, 4, 5 \\} $"
   ]
  },
  {
   "cell_type": "code",
   "execution_count": null,
   "metadata": {
    "slideshow": {
     "slide_type": "fragment"
    }
   },
   "outputs": [],
   "source": [
    "x = arange(6) # "
   ]
  },
  {
   "cell_type": "code",
   "execution_count": null,
   "metadata": {
    "slideshow": {
     "slide_type": "-"
    },
    "tags": []
   },
   "outputs": [],
   "source": [
    "# O que está afinal no eixo do x\n",
    "print (x)"
   ]
  },
  {
   "cell_type": "code",
   "execution_count": null,
   "metadata": {
    "slideshow": {
     "slide_type": "slide"
    }
   },
   "outputs": [],
   "source": [
    "plot(x, x**2)"
   ]
  },
  {
   "cell_type": "markdown",
   "metadata": {
    "slideshow": {
     "slide_type": "slide"
    }
   },
   "source": [
    "E como faríamos para representar as funções seno e coseno no mesmo gráfico?"
   ]
  },
  {
   "cell_type": "code",
   "execution_count": null,
   "metadata": {
    "slideshow": {
     "slide_type": "fragment"
    }
   },
   "outputs": [],
   "source": [
    "x=arange(0,10,0.1); "
   ]
  },
  {
   "cell_type": "code",
   "execution_count": null,
   "metadata": {
    "slideshow": {
     "slide_type": "-"
    }
   },
   "outputs": [],
   "source": [
    "plot(x, sin(x), 'r', x, 1+cos(x),'b')"
   ]
  },
  {
   "cell_type": "markdown",
   "metadata": {
    "slideshow": {
     "slide_type": "slide"
    }
   },
   "source": [
    "Há outros tipos de gráficos para além do *plot*, e quando chegarmos lá veremos melhor. Uma *espreitadela* rápida ao que seremos capazes de fazer."
   ]
  },
  {
   "cell_type": "code",
   "execution_count": null,
   "metadata": {
    "slideshow": {
     "slide_type": "fragment"
    }
   },
   "outputs": [],
   "source": [
    "?pie"
   ]
  },
  {
   "cell_type": "code",
   "execution_count": null,
   "metadata": {
    "slideshow": {
     "slide_type": "slide"
    }
   },
   "outputs": [],
   "source": [
    "pie([45,30,10,10,4,1], labels=[45,30,10,19,4,1],frame=0)"
   ]
  },
  {
   "cell_type": "code",
   "execution_count": null,
   "metadata": {
    "slideshow": {
     "slide_type": "slide"
    }
   },
   "outputs": [],
   "source": [
    "from matplotlib.pyplot import plot as dataplot "
   ]
  },
  {
   "cell_type": "code",
   "execution_count": null,
   "metadata": {
    "slideshow": {
     "slide_type": "fragment"
    }
   },
   "outputs": [],
   "source": [
    "?dataplot"
   ]
  },
  {
   "cell_type": "code",
   "execution_count": null,
   "metadata": {
    "slideshow": {
     "slide_type": "slide"
    }
   },
   "outputs": [],
   "source": [
    "dataplot([1,2,3,4,5])"
   ]
  },
  {
   "cell_type": "code",
   "execution_count": null,
   "metadata": {
    "slideshow": {
     "slide_type": "slide"
    }
   },
   "outputs": [],
   "source": [
    "dataplot([1,-2,3,-4,5],\"ro-\")"
   ]
  },
  {
   "cell_type": "code",
   "execution_count": null,
   "metadata": {
    "slideshow": {
     "slide_type": "slide"
    }
   },
   "outputs": [],
   "source": [
    "dataplot([1,5,3,4,2,6],\"g*--\")"
   ]
  },
  {
   "cell_type": "code",
   "execution_count": null,
   "metadata": {
    "slideshow": {
     "slide_type": "slide"
    }
   },
   "outputs": [],
   "source": [
    "dataplot([1,2,3,4,5], \"go-\", label=\"line 1\", linewidth=2)\n",
    "dataplot([2,9,0,4], \"rs\",  label=\"line 2\")\n",
    "axis([-2, 8, -2, 10])\n",
    "legend()"
   ]
  },
  {
   "cell_type": "markdown",
   "metadata": {
    "slideshow": {
     "slide_type": "slide"
    }
   },
   "source": [
    "## Em resumo\n",
    "\n",
    "* O IPython é um ambiente de programação interactivo muito simples, apropriado à experimentação rápida de programas em Python, e portanto adequado à aprendizagem da programação\n",
    "* Munido das extensões adequadas o ambiente IPython pode ser utilizado como poderosa ferramenta de cálculo numérico e simbólico, e de visualização gráfica, extremamente útil em aplicações científicas, matemática e engenharia\n",
    "* A biblioteca Matplotlib fornece um ambiente de computação essencialmente equivalente ao popular sistema proprietário MATLAB, também muito usado em aplicações científicas. "
   ]
  }
 ],
 "metadata": {
  "celltoolbar": "Slideshow",
  "kernelspec": {
   "display_name": "Python 3",
   "language": "python",
   "name": "python3"
  },
  "language_info": {
   "codemirror_mode": {
    "name": "ipython",
    "version": 3
   },
   "file_extension": ".py",
   "mimetype": "text/x-python",
   "name": "python",
   "nbconvert_exporter": "python",
   "pygments_lexer": "ipython3",
   "version": "3.7.8"
  }
 },
 "nbformat": 4,
 "nbformat_minor": 4
}
