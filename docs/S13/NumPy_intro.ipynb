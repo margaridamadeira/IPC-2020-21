{
 "cells": [
  {
   "cell_type": "markdown",
   "metadata": {
    "slideshow": {
     "slide_type": "slide"
    }
   },
   "source": [
    "## Introdução ao NumPy\n",
    "\n",
    "\n",
    "*NumPy* é particularmente útil para produzir soluções rápidas de processamento vetorial. \n",
    "\n",
    "Leitura inicial:\n",
    "https://numpy.org/devdocs/user/quickstart.html\n",
    "\n",
    "Leitura recomendada:\n",
    "http://www.scipy-lectures.org/intro/numpy\n",
    "\n",
    "Documentação de referência:\n",
    "http://docs.scipy.org/\n"
   ]
  },
  {
   "cell_type": "code",
   "execution_count": 1,
   "metadata": {
    "slideshow": {
     "slide_type": "slide"
    }
   },
   "outputs": [
    {
     "output_type": "execute_result",
     "data": {
      "text/plain": [
       "array([0, 1, 2, 3])"
      ]
     },
     "metadata": {},
     "execution_count": 1
    }
   ],
   "source": [
    "# Um exemplo\n",
    "import numpy as np\n",
    "a = np.array([0, 1, 2, 3])\n",
    "a"
   ]
  },
  {
   "cell_type": "code",
   "execution_count": 2,
   "metadata": {
    "slideshow": {
     "slide_type": "fragment"
    }
   },
   "outputs": [
    {
     "output_type": "execute_result",
     "data": {
      "text/plain": [
       "array([[0, 1, 2],\n",
       "       [3, 4, 5]])"
      ]
     },
     "metadata": {},
     "execution_count": 2
    }
   ],
   "source": [
    "b = np.array([[0,1, 2],\n",
    "              [3, 4, 5]])\n",
    "b"
   ]
  },
  {
   "cell_type": "code",
   "execution_count": 3,
   "metadata": {
    "slideshow": {
     "slide_type": "fragment"
    }
   },
   "outputs": [
    {
     "output_type": "execute_result",
     "data": {
      "text/plain": [
       "(2, 3)"
      ]
     },
     "metadata": {},
     "execution_count": 3
    }
   ],
   "source": [
    "# dimensão da matriz\n",
    "b.shape"
   ]
  },
  {
   "cell_type": "markdown",
   "metadata": {
    "slideshow": {
     "slide_type": "slide"
    }
   },
   "source": [
    "### Documentação"
   ]
  },
  {
   "cell_type": "code",
   "execution_count": 4,
   "metadata": {
    "slideshow": {
     "slide_type": "fragment"
    }
   },
   "outputs": [
    {
     "output_type": "stream",
     "name": "stdout",
     "text": [
      "Help on built-in function array in module numpy:\n\narray(...)\n    array(object, dtype=None, *, copy=True, order='K', subok=False, ndmin=0)\n    \n    Create an array.\n    \n    Parameters\n    ----------\n    object : array_like\n        An array, any object exposing the array interface, an object whose\n        __array__ method returns an array, or any (nested) sequence.\n    dtype : data-type, optional\n        The desired data-type for the array.  If not given, then the type will\n        be determined as the minimum type required to hold the objects in the\n        sequence.\n    copy : bool, optional\n        If true (default), then the object is copied.  Otherwise, a copy will\n        only be made if __array__ returns a copy, if obj is a nested sequence,\n        or if a copy is needed to satisfy any of the other requirements\n        (`dtype`, `order`, etc.).\n    order : {'K', 'A', 'C', 'F'}, optional\n        Specify the memory layout of the array. If object is not an array, the\n        newly created array will be in C order (row major) unless 'F' is\n        specified, in which case it will be in Fortran order (column major).\n        If object is an array the following holds.\n    \n        ===== ========= ===================================================\n        order  no copy                     copy=True\n        ===== ========= ===================================================\n        'K'   unchanged F & C order preserved, otherwise most similar order\n        'A'   unchanged F order if input is F and not C, otherwise C order\n        'C'   C order   C order\n        'F'   F order   F order\n        ===== ========= ===================================================\n    \n        When ``copy=False`` and a copy is made for other reasons, the result is\n        the same as if ``copy=True``, with some exceptions for `A`, see the\n        Notes section. The default order is 'K'.\n    subok : bool, optional\n        If True, then sub-classes will be passed-through, otherwise\n        the returned array will be forced to be a base-class array (default).\n    ndmin : int, optional\n        Specifies the minimum number of dimensions that the resulting\n        array should have.  Ones will be pre-pended to the shape as\n        needed to meet this requirement.\n    \n    Returns\n    -------\n    out : ndarray\n        An array object satisfying the specified requirements.\n    \n    See Also\n    --------\n    empty_like : Return an empty array with shape and type of input.\n    ones_like : Return an array of ones with shape and type of input.\n    zeros_like : Return an array of zeros with shape and type of input.\n    full_like : Return a new array with shape of input filled with value.\n    empty : Return a new uninitialized array.\n    ones : Return a new array setting values to one.\n    zeros : Return a new array setting values to zero.\n    full : Return a new array of given shape filled with value.\n    \n    \n    Notes\n    -----\n    When order is 'A' and `object` is an array in neither 'C' nor 'F' order,\n    and a copy is forced by a change in dtype, then the order of the result is\n    not necessarily 'C' as expected. This is likely a bug.\n    \n    Examples\n    --------\n    >>> np.array([1, 2, 3])\n    array([1, 2, 3])\n    \n    Upcasting:\n    \n    >>> np.array([1, 2, 3.0])\n    array([ 1.,  2.,  3.])\n    \n    More than one dimension:\n    \n    >>> np.array([[1, 2], [3, 4]])\n    array([[1, 2],\n           [3, 4]])\n    \n    Minimum dimensions 2:\n    \n    >>> np.array([1, 2, 3], ndmin=2)\n    array([[1, 2, 3]])\n    \n    Type provided:\n    \n    >>> np.array([1, 2, 3], dtype=complex)\n    array([ 1.+0.j,  2.+0.j,  3.+0.j])\n    \n    Data-type consisting of more than one element:\n    \n    >>> x = np.array([(1,2),(3,4)],dtype=[('a','<i4'),('b','<i4')])\n    >>> x['a']\n    array([1, 3])\n    \n    Creating an array from sub-classes:\n    \n    >>> np.array(np.mat('1 2; 3 4'))\n    array([[1, 2],\n           [3, 4]])\n    \n    >>> np.array(np.mat('1 2; 3 4'), subok=True)\n    matrix([[1, 2],\n            [3, 4]])\n\n"
     ]
    }
   ],
   "source": [
    "# Acesso à documentação \n",
    "help (np.array)"
   ]
  },
  {
   "cell_type": "code",
   "execution_count": 5,
   "metadata": {
    "slideshow": {
     "slide_type": "fragment"
    }
   },
   "outputs": [
    {
     "output_type": "stream",
     "text": [
      "\u001b[0;31mDocstring:\u001b[0m\n",
      "array(object, dtype=None, *, copy=True, order='K', subok=False, ndmin=0)\n",
      "\n",
      "Create an array.\n",
      "\n",
      "Parameters\n",
      "----------\n",
      "object : array_like\n",
      "    An array, any object exposing the array interface, an object whose\n",
      "    __array__ method returns an array, or any (nested) sequence.\n",
      "dtype : data-type, optional\n",
      "    The desired data-type for the array.  If not given, then the type will\n",
      "    be determined as the minimum type required to hold the objects in the\n",
      "    sequence.\n",
      "copy : bool, optional\n",
      "    If true (default), then the object is copied.  Otherwise, a copy will\n",
      "    only be made if __array__ returns a copy, if obj is a nested sequence,\n",
      "    or if a copy is needed to satisfy any of the other requirements\n",
      "    (`dtype`, `order`, etc.).\n",
      "order : {'K', 'A', 'C', 'F'}, optional\n",
      "    Specify the memory layout of the array. If object is not an array, the\n",
      "    newly created array will be in C order (row major) unless 'F' is\n",
      "    specified, in which case it will be in Fortran order (column major).\n",
      "    If object is an array the following holds.\n",
      "\n",
      "    ===== ========= ===================================================\n",
      "    order  no copy                     copy=True\n",
      "    ===== ========= ===================================================\n",
      "    'K'   unchanged F & C order preserved, otherwise most similar order\n",
      "    'A'   unchanged F order if input is F and not C, otherwise C order\n",
      "    'C'   C order   C order\n",
      "    'F'   F order   F order\n",
      "    ===== ========= ===================================================\n",
      "\n",
      "    When ``copy=False`` and a copy is made for other reasons, the result is\n",
      "    the same as if ``copy=True``, with some exceptions for `A`, see the\n",
      "    Notes section. The default order is 'K'.\n",
      "subok : bool, optional\n",
      "    If True, then sub-classes will be passed-through, otherwise\n",
      "    the returned array will be forced to be a base-class array (default).\n",
      "ndmin : int, optional\n",
      "    Specifies the minimum number of dimensions that the resulting\n",
      "    array should have.  Ones will be pre-pended to the shape as\n",
      "    needed to meet this requirement.\n",
      "\n",
      "Returns\n",
      "-------\n",
      "out : ndarray\n",
      "    An array object satisfying the specified requirements.\n",
      "\n",
      "See Also\n",
      "--------\n",
      "empty_like : Return an empty array with shape and type of input.\n",
      "ones_like : Return an array of ones with shape and type of input.\n",
      "zeros_like : Return an array of zeros with shape and type of input.\n",
      "full_like : Return a new array with shape of input filled with value.\n",
      "empty : Return a new uninitialized array.\n",
      "ones : Return a new array setting values to one.\n",
      "zeros : Return a new array setting values to zero.\n",
      "full : Return a new array of given shape filled with value.\n",
      "\n",
      "\n",
      "Notes\n",
      "-----\n",
      "When order is 'A' and `object` is an array in neither 'C' nor 'F' order,\n",
      "and a copy is forced by a change in dtype, then the order of the result is\n",
      "not necessarily 'C' as expected. This is likely a bug.\n",
      "\n",
      "Examples\n",
      "--------\n",
      ">>> np.array([1, 2, 3])\n",
      "array([1, 2, 3])\n",
      "\n",
      "Upcasting:\n",
      "\n",
      ">>> np.array([1, 2, 3.0])\n",
      "array([ 1.,  2.,  3.])\n",
      "\n",
      "More than one dimension:\n",
      "\n",
      ">>> np.array([[1, 2], [3, 4]])\n",
      "array([[1, 2],\n",
      "       [3, 4]])\n",
      "\n",
      "Minimum dimensions 2:\n",
      "\n",
      ">>> np.array([1, 2, 3], ndmin=2)\n",
      "array([[1, 2, 3]])\n",
      "\n",
      "Type provided:\n",
      "\n",
      ">>> np.array([1, 2, 3], dtype=complex)\n",
      "array([ 1.+0.j,  2.+0.j,  3.+0.j])\n",
      "\n",
      "Data-type consisting of more than one element:\n",
      "\n",
      ">>> x = np.array([(1,2),(3,4)],dtype=[('a','<i4'),('b','<i4')])\n",
      ">>> x['a']\n",
      "array([1, 3])\n",
      "\n",
      "Creating an array from sub-classes:\n",
      "\n",
      ">>> np.array(np.mat('1 2; 3 4'))\n",
      "array([[1, 2],\n",
      "       [3, 4]])\n",
      "\n",
      ">>> np.array(np.mat('1 2; 3 4'), subok=True)\n",
      "matrix([[1, 2],\n",
      "        [3, 4]])\n",
      "\u001b[0;31mType:\u001b[0m      builtin_function_or_method\n"
     ],
     "name": "stdout"
    }
   ],
   "source": [
    "# Em alternativa\n",
    "np.array?"
   ]
  },
  {
   "cell_type": "code",
   "execution_count": 6,
   "metadata": {
    "slideshow": {
     "slide_type": "fragment"
    }
   },
   "outputs": [
    {
     "output_type": "stream",
     "name": "stdout",
     "text": [
      "Search results for 'create array'\n---------------------------------\nnumpy.array\n    Create an array.\nnumpy.memmap\n    Create a memory-map to an array stored in a *binary* file on disk.\nnumpy.diagflat\n    Create a two-dimensional array with the flattened input as a diagonal.\nnumpy.fromiter\n    Create a new 1-dimensional array from an iterable object.\nnumpy.partition\n    Return a partitioned copy of an array.\nnumpy.ctypeslib.as_array\n    Create a numpy array from a ctypes array or POINTER.\nnumpy.ma.diagflat\n    Create a two-dimensional array with the flattened input as a diagonal.\nnumpy.ma.make_mask\n    Create a boolean mask from an array.\nnumpy.lib.Arrayterator\n    Buffered iterator for big arrays.\nnumpy.ctypeslib.as_ctypes\n    Create and return a ctypes object from a numpy array.  Actually\nnumpy.ma.mrecords.fromarrays\n    Creates a mrecarray from a (flat) list of masked arrays.\nnumpy.ma.mvoid.__new__\n    Create a new masked array from scratch.\nnumpy.ma.MaskedArray.__new__\n    Create a new masked array from scratch.\nnumpy.ma.mrecords.fromtextfile\n    Creates a mrecarray from data stored in the file `filename`.\nnumpy.asarray\n    Convert the input to an array.\nnumpy.ndarray\n    ndarray(shape, dtype=float, buffer=None, offset=0,\nnumpy.recarray\n    Construct an ndarray that allows field access using attributes.\nnumpy.chararray\n    chararray(shape, itemsize=1, unicode=False, buffer=None, offset=0,\nnumpy.exp\n    Calculate the exponential of all elements in the input array.\nnumpy.pad\n    Pad an array.\nnumpy.asanyarray\n    Convert the input to an ndarray, but pass ndarray subclasses through.\nnumpy.cbrt\n    Return the cube-root of an array, element-wise.\nnumpy.copy\n    Return an array copy of the given object.\nnumpy.diag\n    Extract a diagonal or construct a diagonal array.\nnumpy.exp2\n    Calculate `2**p` for all `p` in the input array.\nnumpy.fmax\n    Element-wise maximum of array elements.\nnumpy.fmin\n    Element-wise minimum of array elements.\nnumpy.load\n    Load arrays or pickled objects from ``.npy``, ``.npz`` or pickled files.\nnumpy.modf\n    Return the fractional and integral parts of an array, element-wise.\nnumpy.rint\n    Round elements of the array to the nearest integer.\nnumpy.sort\n    Return a sorted copy of an array.\nnumpy.sqrt\n    Return the non-negative square-root of an array, element-wise.\nnumpy.array_equiv\n    Returns True if input arrays are shape consistent and all elements equal.\nnumpy.dtype\n    Create a data type object.\nnumpy.expm1\n    Calculate ``exp(x) - 1`` for all elements in the array.\nnumpy.isnan\n    Test element-wise for NaN and return result as a boolean array.\nnumpy.isnat\n    Test element-wise for NaT (not a time) and return result as a boolean array.\nnumpy.log10\n    Return the base 10 logarithm of the input array, element-wise.\nnumpy.log1p\n    Return the natural logarithm of one plus the input array, element-wise.\nnumpy.power\n    First array elements raised to powers from second array, element-wise.\nnumpy.ufunc\n    Functions that operate element by element on whole arrays.\nnumpy.choose\n    Construct an array from an index array and a set of arrays to choose from.\nnumpy.nditer\n    Efficient multi-dimensional iterator object to iterate over arrays.\nnumpy.maximum\n    Element-wise maximum of array elements.\nnumpy.minimum\n    Element-wise minimum of array elements.\nnumpy.swapaxes\n    Interchange two axes of an array.\nnumpy.full_like\n    Return a full array with the same shape and type as a given array.\nnumpy.ones_like\n    Return an array of ones with the same shape and type as a given array.\nnumpy.bitwise_or\n    Compute the bit-wise OR of two arrays element-wise.\nnumpy.empty_like\n    Return a new array with the same shape and type as a given array.\nnumpy.zeros_like\n    Return an array of zeros with the same shape and type as a given array.\nnumpy.asarray_chkfinite\n    Convert the input to an array, checking for NaNs or Infs.\nnumpy.bitwise_and\n    Compute the bit-wise AND of two arrays element-wise.\nnumpy.bitwise_xor\n    Compute the bit-wise XOR of two arrays element-wise.\nnumpy.float_power\n    First array elements raised to powers from second array, element-wise.\nnumpy.ma.exp\n    Calculate the exponential of all elements in the input array.\nnumpy.diag_indices\n    Return the indices to access the main diagonal of an array.\nnumpy.nested_iters\n    Create nditers for use in nested loops\nnumpy.ma.mrecords.MaskedRecords.__new__\n    Create a new masked array from scratch.\nnumpy.ma.sqrt\n    Return the non-negative square-root of an array, element-wise.\nnumpy.ma.log10\n    Return the base 10 logarithm of the input array, element-wise.\nnumpy.chararray.tolist\n    a.tolist()\nnumpy.put_along_axis\n    Put values into the destination array by matching 1d index and data slices.\nnumpy.ma.choose\n    Use an index array to construct a new array from a set of choices.\nnumpy.ma.maximum\n    Element-wise maximum of array elements.\nnumpy.ma.minimum\n    Element-wise minimum of array elements.\nnumpy.savez_compressed\n    Save several arrays into a single file in compressed ``.npz`` format.\nnumpy.matlib.rand\n    Return a matrix of random values with given shape.\nnumpy.datetime_as_string\n    Convert an array of datetimes into an array of strings.\nnumpy.ma.bitwise_or\n    Compute the bit-wise OR of two arrays element-wise.\nnumpy.ma.bitwise_and\n    Compute the bit-wise AND of two arrays element-wise.\nnumpy.ma.bitwise_xor\n    Compute the bit-wise XOR of two arrays element-wise.\nnumpy.ma.make_mask_none\n    Return a boolean mask of the given shape, filled with False.\nnumpy.ma.tests.test_subclassing.MSubArray.__new__\n    Create a new masked array from scratch.\nnumpy.core._multiarray_umath.clip\n    Clip (limit) the values in an array.\nnumpy.ma.tests.test_subclassing.SubMaskedArray.__new__\n    Create a new masked array from scratch.\nnumpy.ma.mrecords.fromrecords\n    Creates a MaskedRecords from a list of records.\nnumpy.core._multiarray_umath.empty_like\n    Return a new array with the same shape and type as a given array.\nnumpy.core._dtype._construction_repr\n    Creates a string repr of the dtype, excluding the 'dtype()' part\nnumpy.abs\n    Calculate the absolute value element-wise.\nnumpy.add\n    Add arguments element-wise.\nnumpy.cos\n    Cosine element-wise.\nnumpy.log\n    Natural logarithm, element-wise.\nnumpy.lib.recfunctions.require_fields\n    Casts a structured array to a new dtype using assignment by field-name.\nnumpy.mod\n    Return element-wise remainder of division.\nnumpy.sin\n    Trigonometric sine, element-wise.\nnumpy.tan\n    Compute tangent element-wise.\nnumpy.ceil\n    Return the ceiling of the input, element-wise.\nnumpy.conj\n    Return the complex conjugate, element-wise.\nnumpy.cosh\n    Hyperbolic cosine, element-wise.\nnumpy.fabs\n    Compute the absolute values element-wise.\nnumpy.fmod\n    Return the element-wise remainder of division.\nnumpy.less\n    Return the truth value of (x1 < x2) element-wise.\nnumpy.log2\n    Base-2 logarithm of `x`.\nnumpy.sign\n    Returns an element-wise indication of the sign of a number.\nnumpy.sinh\n    Hyperbolic sine, element-wise.\nnumpy.tanh\n    Compute hyperbolic tangent element-wise.\nnumpy.core._multiarray_umath.datetime_as_string\n    Convert an array of datetimes into an array of strings.\nnumpy.equal\n    Return (x1 == x2) element-wise.\nnumpy.floor\n    Return the floor of the input, element-wise.\nnumpy.frexp\n    Decompose the elements of x into mantissa and twos exponent.\nnumpy.hypot\n    Given the \"legs\" of a right triangle, return its hypotenuse.\nnumpy.isinf\n    Test element-wise for positive or negative infinity.\nnumpy.ldexp\n    Returns x1 * 2**x2, element-wise.\nnumpy.trunc\n    Return the truncated value of the input, element-wise.\nnumpy.arccos\n    Trigonometric inverse cosine, element-wise.\nnumpy.arcsin\n    Inverse sine, element-wise.\nnumpy.arctan\n    Trigonometric inverse tangent, element-wise.\nnumpy.around\n    Evenly round to the given number of decimals.\nnumpy.divide\n    Returns a true division of the inputs, element-wise.\nnumpy.divmod\n    Return element-wise quotient and remainder simultaneously.\nnumpy.source\n    Print or write to a file the source code for a NumPy object.\nnumpy.square\n    Return the element-wise square of the input.\nnumpy.arccosh\n    Inverse hyperbolic cosine, element-wise.\nnumpy.arcsinh\n    Inverse hyperbolic sine element-wise.\nnumpy.arctan2\n    Element-wise arc tangent of ``x1/x2`` choosing the quadrant correctly.\nnumpy.arctanh\n    Inverse hyperbolic tangent element-wise.\nnumpy.deg2rad\n    Convert angles from degrees to radians.\nnumpy.degrees\n    Convert angles from radians to degrees.\nnumpy.greater\n    Return the truth value of (x1 > x2) element-wise.\nnumpy.rad2deg\n    Convert angles from radians to degrees.\nnumpy.radians\n    Convert angles from degrees to radians.\nnumpy.signbit\n    Returns element-wise True where signbit is set (less than zero).\nnumpy.spacing\n    Return the distance between x and the nearest adjacent number.\nnumpy.copysign\n    Change the sign of x1 to that of x2, element-wise.\nnumpy.diagonal\n    Return specified diagonals.\nnumpy.isfinite\n    Test element-wise for finiteness (not infinity or not Not a Number).\nnumpy.multiply\n    Multiply arguments element-wise.\nnumpy.negative\n    Numerical negative, element-wise.\nnumpy.subtract\n    Subtract arguments, element-wise.\nnumpy.heaviside\n    Compute the Heaviside step function.\nnumpy.logaddexp\n    Logarithm of the sum of exponentiations of the inputs.\nnumpy.nextafter\n    Return the next floating-point value after x1 towards x2, element-wise.\nnumpy.not_equal\n    Return (x1 != x2) element-wise.\nnumpy.left_shift\n    Shift the bits of an integer to the left.\nnumpy.less_equal\n    Return the truth value of (x1 =< x2) element-wise.\nnumpy.logaddexp2\n    Logarithm of the sum of exponentiations of the inputs in base-2.\nnumpy.logical_or\n    Compute the truth value of x1 OR x2 element-wise.\nnumpy.nan_to_num\n    Replace NaN with zero and infinity with large finite numbers (default\nnumpy.reciprocal\n    Return the reciprocal of the argument, element-wise.\nnumpy.bitwise_not\n    Compute bit-wise inversion, or bit-wise NOT, element-wise.\nnumpy.einsum_path\n    Evaluates the lowest cost contraction order for an einsum expression by\nnumpy.histogram2d\n    Compute the bi-dimensional histogram of two data samples.\nnumpy.logical_and\n    Compute the truth value of x1 AND x2 element-wise.\nnumpy.logical_not\n    Compute the truth value of NOT x element-wise.\nnumpy.logical_xor\n    Compute the truth value of x1 XOR x2, element-wise.\nnumpy.right_shift\n    Shift the bits of an integer to the right.\nnumpy.ma.abs\n    Calculate the absolute value element-wise.\nnumpy.ma.add\n    Add arguments element-wise.\nnumpy.ma.cos\n    Cosine element-wise.\nnumpy.ma.log\n    Natural logarithm, element-wise.\nnumpy.ma.mod\n    Return element-wise remainder of division.\nnumpy.ma.sin\n    Trigonometric sine, element-wise.\nnumpy.ma.tan\n    Compute tangent element-wise.\nnumpy.floor_divide\n    Return the largest integer smaller or equal to the division of the inputs.\nnumpy.ma.ceil\n    Return the ceiling of the input, element-wise.\nnumpy.ma.cosh\n    Hyperbolic cosine, element-wise.\nnumpy.fft.ifft\n    Compute the one-dimensional inverse discrete Fourier Transform.\nnumpy.ma.fabs\n    Compute the absolute values element-wise.\nnumpy.ma.fmod\n    Return the element-wise remainder of division.\nnumpy.ma.less\n    Return the truth value of (x1 < x2) element-wise.\nnumpy.ma.log2\n    Base-2 logarithm of `x`.\nnumpy.ma.sinh\n    Hyperbolic sine, element-wise.\nnumpy.ma.tanh\n    Compute hyperbolic tangent element-wise.\nnumpy.greater_equal\n    Return the truth value of (x1 >= x2) element-wise.\nnumpy.fft.ifftn\n    Compute the N-dimensional inverse discrete Fourier Transform.\nnumpy.ma.equal\n    Return (x1 == x2) element-wise.\nnumpy.ma.floor\n    Return the floor of the input, element-wise.\nnumpy.ma.hypot\n    Given the \"legs\" of a right triangle, return its hypotenuse.\nnumpy.busdaycalendar\n    A business day calendar object that efficiently stores information\nnumpy.ma.tests.test_subclassing.SubArray\n    ndarray(shape, dtype=float, buffer=None, offset=0,\nnumpy.ma.arccos\n    Trigonometric inverse cosine, element-wise.\nnumpy.ma.arcsin\n    Inverse sine, element-wise.\nnumpy.ma.arctan\n    Trigonometric inverse tangent, element-wise.\nnumpy.ma.divide\n    Returns a true division of the inputs, element-wise.\nnumpy.lib.recfunctions.unstructured_to_structured\n    Converts and n-D unstructured array into an (n-1)-D structured array.\nnumpy.ma.arccosh\n    Inverse hyperbolic cosine, element-wise.\nnumpy.ma.arcsinh\n    Inverse hyperbolic sine element-wise.\nnumpy.ma.arctan2\n    Element-wise arc tangent of ``x1/x2`` choosing the quadrant correctly.\nnumpy.ma.arctanh\n    Inverse hyperbolic tangent element-wise.\nnumpy.ma.greater\n    Return the truth value of (x1 > x2) element-wise.\nnumpy.ma.multiply\n    Multiply arguments element-wise.\nnumpy.ma.negative\n    Numerical negative, element-wise.\nnumpy.ma.subtract\n    Subtract arguments, element-wise.\nnumpy.ma.conjugate\n    Return the complex conjugate, element-wise.\nnumpy.ma.not_equal\n    Return (x1 != x2) element-wise.\nnumpy.ma.remainder\n    Return element-wise remainder of division.\nnumpy.ma.empty_like\n    empty_like(prototype, dtype=None, order='K', subok=True, shape=None)\nnumpy.ma.less_equal\n    Return the truth value of (x1 =< x2) element-wise.\nnumpy.ma.logical_or\n    Compute the truth value of x1 OR x2 element-wise.\nnumpy.ma.logical_and\n    Compute the truth value of x1 AND x2 element-wise.\nnumpy.ma.logical_not\n    Compute the truth value of NOT x element-wise.\nnumpy.ma.logical_xor\n    Compute the truth value of x1 XOR x2, element-wise.\nnumpy.ma.true_divide\n    Returns a true division of the inputs, element-wise.\nnumpy.ma.floor_divide\n    Return the largest integer smaller or equal to the division of the inputs.\nnumpy.ma.greater_equal\n    Return the truth value of (x1 >= x2) element-wise.\nnumpy.lib.tests.test_stride_tricks.SimpleSubClass\n    ndarray(shape, dtype=float, buffer=None, offset=0,\nnumpy.core.tests.test_function_base.PhysicalQuantity2\n    ndarray(shape, dtype=float, buffer=None, offset=0,\nnumpy.ma.tests.test_subclassing.ComplicatedSubArray\n    ndarray(shape, dtype=float, buffer=None, offset=0,\nnumpy.lib.tests.test_stride_tricks.VerySimpleSubClass\n    ndarray(shape, dtype=float, buffer=None, offset=0,\nnumpy.testing._gen_alignment_data\n    generator producing data with different alignment and offsets\nnumpy.random.RandomState.rand\n    Random values in a given shape."
     ]
    }
   ],
   "source": [
    "# ou ainda\n",
    "np.lookfor('create array')"
   ]
  },
  {
   "cell_type": "code",
   "execution_count": 7,
   "metadata": {
    "slideshow": {
     "slide_type": "fragment"
    }
   },
   "outputs": [
    {
     "output_type": "stream",
     "text": [
      "np.concatenate\n",
      "np.conj\n",
      "np.conjugate\n",
      "np.convolve"
     ],
     "name": "stdout"
    }
   ],
   "source": [
    "# ou ainda\n",
    "np.con*?\n"
   ]
  },
  {
   "cell_type": "markdown",
   "metadata": {
    "slideshow": {
     "slide_type": "slide"
    }
   },
   "source": [
    "### Alguns exemplos"
   ]
  },
  {
   "cell_type": "code",
   "execution_count": 8,
   "metadata": {
    "slideshow": {
     "slide_type": "fragment"
    }
   },
   "outputs": [
    {
     "output_type": "execute_result",
     "data": {
      "text/plain": [
       "array([[1., 1., 1.],\n",
       "       [1., 1., 1.],\n",
       "       [1., 1., 1.]])"
      ]
     },
     "metadata": {},
     "execution_count": 8
    }
   ],
   "source": [
    "# matriz com 1s\n",
    "a = np.ones((3, 3)) \n",
    "a"
   ]
  },
  {
   "cell_type": "code",
   "execution_count": 9,
   "metadata": {
    "slideshow": {
     "slide_type": "fragment"
    }
   },
   "outputs": [
    {
     "output_type": "execute_result",
     "data": {
      "text/plain": [
       "array([[0., 0.],\n",
       "       [0., 0.]])"
      ]
     },
     "metadata": {},
     "execution_count": 9
    }
   ],
   "source": [
    "# matriz com 0s\n",
    "b = np.zeros((2, 2))\n",
    "b"
   ]
  },
  {
   "cell_type": "code",
   "execution_count": 10,
   "metadata": {
    "slideshow": {
     "slide_type": "slide"
    }
   },
   "outputs": [
    {
     "output_type": "execute_result",
     "data": {
      "text/plain": [
       "array([[1, 0, 0],\n",
       "       [0, 1, 0],\n",
       "       [0, 0, 1]])"
      ]
     },
     "metadata": {},
     "execution_count": 10
    }
   ],
   "source": [
    "# Matrix com 1 na diagonal e demais elementos a zero\n",
    "c = np.eye(3, dtype=int) \n",
    "c"
   ]
  },
  {
   "cell_type": "code",
   "execution_count": 11,
   "metadata": {
    "slideshow": {
     "slide_type": "fragment"
    }
   },
   "outputs": [
    {
     "output_type": "execute_result",
     "data": {
      "text/plain": [
       "array([[1., 0., 0.],\n",
       "       [0., 1., 0.],\n",
       "       [0., 0., 1.]])"
      ]
     },
     "metadata": {},
     "execution_count": 11
    }
   ],
   "source": [
    "# Matrix com 1.0 na diagonal e demais elementos a zero\n",
    "c = np.eye(3, dtype=float) \n",
    "c"
   ]
  },
  {
   "cell_type": "code",
   "execution_count": 12,
   "metadata": {
    "slideshow": {
     "slide_type": "slide"
    }
   },
   "outputs": [
    {
     "output_type": "execute_result",
     "data": {
      "text/plain": [
       "array([[1, 0, 0, 0],\n",
       "       [0, 2, 0, 0],\n",
       "       [0, 0, 3, 0],\n",
       "       [0, 0, 0, 4]])"
      ]
     },
     "metadata": {},
     "execution_count": 12
    }
   ],
   "source": [
    "d = np.diag(np.array([1, 2, 3, 4]))\n",
    "d"
   ]
  },
  {
   "cell_type": "code",
   "execution_count": 13,
   "metadata": {
    "slideshow": {
     "slide_type": "fragment"
    }
   },
   "outputs": [
    {
     "output_type": "execute_result",
     "data": {
      "text/plain": [
       "array([0, 1, 2, 3, 4, 5, 6, 7, 8, 9])"
      ]
     },
     "metadata": {},
     "execution_count": 13
    }
   ],
   "source": [
    "a = np.arange(10)\n",
    "a"
   ]
  },
  {
   "cell_type": "code",
   "execution_count": 14,
   "metadata": {
    "slideshow": {
     "slide_type": "fragment"
    }
   },
   "outputs": [
    {
     "output_type": "execute_result",
     "data": {
      "text/plain": [
       "array([2, 5, 8])"
      ]
     },
     "metadata": {},
     "execution_count": 14
    }
   ],
   "source": [
    "a[2:9:3] # [start:end:step]"
   ]
  },
  {
   "cell_type": "code",
   "execution_count": 15,
   "metadata": {
    "slideshow": {
     "slide_type": "slide"
    }
   },
   "outputs": [
    {
     "output_type": "execute_result",
     "data": {
      "text/plain": [
       "array([[0, 0, 0],\n",
       "       [0, 1, 0],\n",
       "       [0, 0, 2]])"
      ]
     },
     "metadata": {},
     "execution_count": 15
    }
   ],
   "source": [
    "# Indexação dos elementos das matrizes\n",
    "a = np.diag(np.arange(3))\n",
    "a"
   ]
  },
  {
   "cell_type": "code",
   "execution_count": 16,
   "metadata": {
    "slideshow": {
     "slide_type": "fragment"
    }
   },
   "outputs": [
    {
     "output_type": "execute_result",
     "data": {
      "text/plain": [
       "1"
      ]
     },
     "metadata": {},
     "execution_count": 16
    }
   ],
   "source": [
    "a[1, 1]"
   ]
  },
  {
   "cell_type": "code",
   "execution_count": 17,
   "metadata": {
    "slideshow": {
     "slide_type": "fragment"
    }
   },
   "outputs": [],
   "source": [
    "a[2, 1] = 10 # third line, second column"
   ]
  },
  {
   "cell_type": "code",
   "execution_count": 18,
   "metadata": {
    "slideshow": {
     "slide_type": "fragment"
    }
   },
   "outputs": [
    {
     "output_type": "execute_result",
     "data": {
      "text/plain": [
       "array([[ 0,  0,  0],\n",
       "       [ 0,  1,  0],\n",
       "       [ 0, 10,  2]])"
      ]
     },
     "metadata": {},
     "execution_count": 18
    }
   ],
   "source": [
    "a"
   ]
  },
  {
   "cell_type": "code",
   "execution_count": 19,
   "metadata": {
    "slideshow": {
     "slide_type": "fragment"
    }
   },
   "outputs": [
    {
     "output_type": "execute_result",
     "data": {
      "text/plain": [
       "array([0, 1, 0])"
      ]
     },
     "metadata": {},
     "execution_count": 19
    }
   ],
   "source": [
    "# a segunda linha\n",
    "a[1]"
   ]
  },
  {
   "cell_type": "code",
   "execution_count": 20,
   "metadata": {
    "slideshow": {
     "slide_type": "fragment"
    }
   },
   "outputs": [
    {
     "output_type": "execute_result",
     "data": {
      "text/plain": [
       "array([ 0,  1, 10])"
      ]
     },
     "metadata": {},
     "execution_count": 20
    }
   ],
   "source": [
    "# a segunda coluna\n",
    "a[:,1]"
   ]
  },
  {
   "cell_type": "markdown",
   "metadata": {
    "slideshow": {
     "slide_type": "slide"
    }
   },
   "source": [
    "### Operações elementares"
   ]
  },
  {
   "cell_type": "code",
   "execution_count": 21,
   "metadata": {
    "slideshow": {
     "slide_type": "fragment"
    }
   },
   "outputs": [
    {
     "output_type": "execute_result",
     "data": {
      "text/plain": [
       "array([ 0, 10, 20, 30])"
      ]
     },
     "metadata": {},
     "execution_count": 21
    }
   ],
   "source": [
    "a = np.array( 10 * np.arange(4) )\n",
    "a"
   ]
  },
  {
   "cell_type": "code",
   "execution_count": 22,
   "metadata": {
    "slideshow": {
     "slide_type": "fragment"
    }
   },
   "outputs": [
    {
     "output_type": "execute_result",
     "data": {
      "text/plain": [
       "array([0, 1, 2, 3])"
      ]
     },
     "metadata": {},
     "execution_count": 22
    }
   ],
   "source": [
    "b = np.arange( 4 )\n",
    "b"
   ]
  },
  {
   "cell_type": "code",
   "execution_count": 23,
   "metadata": {
    "slideshow": {
     "slide_type": "slide"
    }
   },
   "outputs": [
    {
     "output_type": "execute_result",
     "data": {
      "text/plain": [
       "array([ 0,  9, 18, 27])"
      ]
     },
     "metadata": {},
     "execution_count": 23
    }
   ],
   "source": [
    "c = a-b\n",
    "c"
   ]
  },
  {
   "cell_type": "code",
   "execution_count": 24,
   "metadata": {
    "slideshow": {
     "slide_type": "fragment"
    }
   },
   "outputs": [
    {
     "output_type": "execute_result",
     "data": {
      "text/plain": [
       "array([0, 1, 4, 9])"
      ]
     },
     "metadata": {},
     "execution_count": 24
    }
   ],
   "source": [
    "d = b**2\n",
    "d"
   ]
  },
  {
   "cell_type": "code",
   "execution_count": 25,
   "metadata": {
    "slideshow": {
     "slide_type": "fragment"
    }
   },
   "outputs": [
    {
     "output_type": "execute_result",
     "data": {
      "text/plain": [
       "array([ 5,  6,  9, 14])"
      ]
     },
     "metadata": {},
     "execution_count": 25
    }
   ],
   "source": [
    "d1 = d + 5\n",
    "d1"
   ]
  },
  {
   "cell_type": "code",
   "execution_count": 26,
   "metadata": {
    "slideshow": {
     "slide_type": "slide"
    }
   },
   "outputs": [],
   "source": [
    "A = np.array( [[1,1],\n",
    "            [0,1]] )\n",
    "B = np.array( [[2,0],\n",
    "            [3,4]] )"
   ]
  },
  {
   "cell_type": "code",
   "execution_count": 27,
   "metadata": {
    "slideshow": {
     "slide_type": "fragment"
    }
   },
   "outputs": [
    {
     "output_type": "execute_result",
     "data": {
      "text/plain": [
       "array([[2, 0],\n",
       "       [0, 4]])"
      ]
     },
     "metadata": {},
     "execution_count": 27
    }
   ],
   "source": [
    "C = A * B                       # produto elemento a elemento\n",
    "C"
   ]
  },
  {
   "cell_type": "code",
   "execution_count": 28,
   "metadata": {
    "slideshow": {
     "slide_type": "fragment"
    }
   },
   "outputs": [
    {
     "output_type": "execute_result",
     "data": {
      "text/plain": [
       "array([[5, 4],\n",
       "       [3, 4]])"
      ]
     },
     "metadata": {},
     "execution_count": 28
    }
   ],
   "source": [
    "D = A @ B                       # produto de matrizes\n",
    "D"
   ]
  },
  {
   "cell_type": "code",
   "execution_count": 29,
   "metadata": {
    "slideshow": {
     "slide_type": "fragment"
    }
   },
   "outputs": [
    {
     "output_type": "execute_result",
     "data": {
      "text/plain": [
       "array([[5, 4],\n",
       "       [3, 4]])"
      ]
     },
     "metadata": {},
     "execution_count": 29
    }
   ],
   "source": [
    "A.dot(B)                    # outra forma de multiplicar matrizes"
   ]
  },
  {
   "cell_type": "markdown",
   "metadata": {
    "slideshow": {
     "slide_type": "slide"
    }
   },
   "source": [
    "### Exercícios\n",
    "Crie as matrizes abaixo (e atenção aos tipos de dados)"
   ]
  },
  {
   "cell_type": "code",
   "execution_count": 30,
   "metadata": {
    "slideshow": {
     "slide_type": "fragment"
    }
   },
   "outputs": [
    {
     "output_type": "execute_result",
     "data": {
      "text/plain": [
       "[[0.0, 0.0, 0.0, 0.0, 0.0],\n",
       " [2.0, 0.0, 0.0, 0.0, 0.0],\n",
       " [0.0, 3.0, 0.0, 0.0, 0.0],\n",
       " [0.0, 0.0, 4.0, 0.0, 0.0],\n",
       " [0.0, 0.0, 0.0, 5.0, 0.0],\n",
       " [0.0, 0.0, 0.0, 0.0, 6.0]]"
      ]
     },
     "metadata": {},
     "execution_count": 30
    }
   ],
   "source": [
    "\n",
    "[[1, 1, 1, 1],\n",
    " [1, 1, 1, 1],\n",
    " [1, 1, 1, 2],\n",
    " [1, 6, 1, 1]]\n",
    "\n",
    "[[0., 0., 0., 0., 0.],\n",
    " [2., 0., 0., 0., 0.],\n",
    " [0., 3., 0., 0., 0.],\n",
    " [0., 0., 4., 0., 0.],\n",
    " [0., 0., 0., 5., 0.],\n",
    " [0., 0., 0., 0., 6.]]\n"
   ]
  }
 ],
 "metadata": {
  "celltoolbar": "Slideshow",
  "kernelspec": {
   "display_name": "Python 3",
   "language": "python",
   "name": "python3"
  },
  "language_info": {
   "codemirror_mode": {
    "name": "ipython",
    "version": 3
   },
   "file_extension": ".py",
   "mimetype": "text/x-python",
   "name": "python",
   "nbconvert_exporter": "python",
   "pygments_lexer": "ipython3",
   "version": "3.7.9-final"
  }
 },
 "nbformat": 4,
 "nbformat_minor": 1
}