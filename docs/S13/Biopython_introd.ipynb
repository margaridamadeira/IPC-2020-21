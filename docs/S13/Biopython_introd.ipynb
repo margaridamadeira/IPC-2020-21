{
 "cells": [
  {
   "cell_type": "markdown",
   "metadata": {},
   "source": [
    "# Introdução ao Biopython\n",
    "\n",
    "[Biopython](https://biopython.org/) facilita o trabalho em biologia computacional usando Python. Biopython disponibiliza um conjunto de ferramentas de entre as quais se destacam as funcionalidades para:\n",
    "\n",
    "+ manipular, em Python, de ficheiros com formatos específicos da bioinformática como BLAST, FASTA, GenBank e outros;\n",
    "+ aceder a recursos em linha como NCBI ou ExPASy;\n",
    "+ efetuar em modo gráfico algumas das operações mais frequentes;\n",
    "\n",
    "e documentação sobre o uso dos módulos, que inclui tutorial e receitas."
   ]
  },
  {
   "cell_type": "markdown",
   "metadata": {},
   "source": [
    "## Instalação\n",
    "\n",
    "Usando a distribuição de Python da Anaconda, a instalação do BioPython é conseguida com o comando\n",
    "\n",
    "    conda install biopython\n",
    "    \n",
    "Na imagem abaixo, podemos ver que inicialmente o Biopython não estava instalado. Tendo emitido o comando para instalar, e indicado que pretendemos prosseguir o módulo é instalado. Finalmente, quando importamos o módulo na *prompt* do python, o comando é bem sucedido.\n",
    "\n",
    "\n",
    "![Instalação do módulo Biopython](img/Biopython_instalar.png \"Instalação\")"
   ]
  },
  {
   "cell_type": "markdown",
   "metadata": {},
   "source": [
    "A verificação da versão instalada, consegue-se com "
   ]
  },
  {
   "cell_type": "code",
   "execution_count": null,
   "metadata": {},
   "outputs": [],
   "source": [
    "import Bio\n",
    "Bio.__version__"
   ]
  },
  {
   "cell_type": "markdown",
   "metadata": {},
   "source": [
    "## Visão panorâmica\n",
    "\n",
    "O [tutorial](http://biopython.org/DIST/docs/tutorial/Tutorial.html) do Biopython ilustra as funcionalidades com alguns exemplos, que a seguir se transcrevem.\n",
    "\n",
    "Um tipo fundamental na bioinformática é a **sequência**. Uma sequência é uma coleção ordenada de letras, tal como surge em vários formatos de ficheiros com dados biológicos.\n"
   ]
  },
  {
   "cell_type": "code",
   "execution_count": null,
   "metadata": {},
   "outputs": [],
   "source": [
    "from Bio.Seq import Seq\n",
    "my_seq = Seq(\"AGTACACTGGT\")\n",
    "my_seq"
   ]
  },
  {
   "cell_type": "code",
   "execution_count": null,
   "metadata": {},
   "outputs": [],
   "source": [
    "print (my_seq)"
   ]
  },
  {
   "cell_type": "markdown",
   "metadata": {},
   "source": [
    "Nas sequências, de forma semelhante às strings, as operações de indexação, corte e iteração estão disponíveis."
   ]
  },
  {
   "cell_type": "code",
   "execution_count": null,
   "metadata": {},
   "outputs": [],
   "source": [
    "my_seq[2]"
   ]
  },
  {
   "cell_type": "code",
   "execution_count": null,
   "metadata": {},
   "outputs": [],
   "source": [
    "my_second_seq = my_seq[0:4]\n",
    "print(my_second_seq)"
   ]
  },
  {
   "cell_type": "code",
   "execution_count": null,
   "metadata": {},
   "outputs": [],
   "source": [
    "for item in my_second_seq:\n",
    "    print (item, end=' ')"
   ]
  },
  {
   "cell_type": "code",
   "execution_count": null,
   "metadata": {},
   "outputs": [],
   "source": [
    "# A ajuda em linha  \n",
    "my_seq?"
   ]
  },
  {
   "cell_type": "code",
   "execution_count": null,
   "metadata": {},
   "outputs": [],
   "source": [
    "# Experimentemos os exemplos\n",
    "# from Bio.Seq import Seq # Já tínhamos importado este módulo\n",
    "from Bio.Alphabet import IUPAC\n",
    "my_seq = Seq(\"MKQHKAMIVALIVICITAVVAALVTRKDLCEVHIRTGQTEVAVF\",IUPAC.protein)"
   ]
  },
  {
   "cell_type": "code",
   "execution_count": null,
   "metadata": {},
   "outputs": [],
   "source": [
    "my_seq"
   ]
  },
  {
   "cell_type": "code",
   "execution_count": null,
   "metadata": {},
   "outputs": [],
   "source": [
    "print (my_seq)"
   ]
  },
  {
   "cell_type": "code",
   "execution_count": null,
   "metadata": {},
   "outputs": [],
   "source": [
    "my_seq.alphabet"
   ]
  },
  {
   "cell_type": "markdown",
   "metadata": {},
   "source": [
    "A sequência inclui alguns métodos que a string não contém. "
   ]
  },
  {
   "cell_type": "code",
   "execution_count": null,
   "metadata": {},
   "outputs": [],
   "source": [
    "my_seq = Seq(\"AGTACACTGGT\")\n",
    "my_seq.alphabet"
   ]
  },
  {
   "cell_type": "code",
   "execution_count": null,
   "metadata": {},
   "outputs": [],
   "source": [
    "my_seq_complement = my_seq.complement()\n",
    "my_seq_complement"
   ]
  },
  {
   "cell_type": "code",
   "execution_count": null,
   "metadata": {},
   "outputs": [],
   "source": [
    "my_seq_rc = my_seq.reverse_complement()\n",
    "my_seq_rc\n"
   ]
  },
  {
   "cell_type": "markdown",
   "metadata": {},
   "source": [
    "### Ficheiros FASTA "
   ]
  },
  {
   "cell_type": "code",
   "execution_count": null,
   "metadata": {},
   "outputs": [],
   "source": [
    "from Bio import SeqIO\n",
    "for seq_record in SeqIO.parse(\"data\\ls_orchid.fasta\", \"fasta\"):\n",
    "    print(seq_record.id)\n",
    "    print(repr(seq_record.seq))\n",
    "    print(len(seq_record))"
   ]
  },
  {
   "cell_type": "markdown",
   "metadata": {},
   "source": [
    "### Ficheiros GenBank"
   ]
  },
  {
   "cell_type": "code",
   "execution_count": null,
   "metadata": {},
   "outputs": [],
   "source": [
    "from Bio import SeqIO\n",
    "for seq_record in SeqIO.parse(\"data\\ls_orchid.gbk\", \"genbank\"):\n",
    "    print(seq_record.id)\n",
    "    print(repr(seq_record.seq))\n",
    "    print(len(seq_record))"
   ]
  },
  {
   "cell_type": "markdown",
   "metadata": {},
   "source": [
    "## Outros recursos\n",
    "### Rosalind"
   ]
  },
  {
   "cell_type": "markdown",
   "metadata": {},
   "source": [
    "[Rosalind](http://rosalind.info/about/) é uma plataforma disponível em linha para a aprendizagem de bioinformática pela resolução de problemas. \n",
    "\n",
    "Na seção [Bioinformatics Armory](http://rosalind.info/problems/list-view/?location=bioinformatics-armory) privilegia-se a resolução de problemas usando ferramentas já disponíveis. O primeiro problema ilustra a utilização de Biopython no separador *Programming Shortcut*."
   ]
  },
  {
   "cell_type": "code",
   "execution_count": null,
   "metadata": {},
   "outputs": [],
   "source": [
    "from Bio.Seq import Seq\n",
    "my_seq = Seq(\"AGTACACTGGT\")\n",
    "my_seq.count(\"A\")"
   ]
  },
  {
   "cell_type": "markdown",
   "metadata": {},
   "source": [
    "Sugere-se a resolução desses exercícios."
   ]
  },
  {
   "cell_type": "markdown",
   "metadata": {},
   "source": [
    "### Cookbook\n",
    "\n",
    "Em [Cookbook Entries](https://biopython.org/wiki/Category%3ACookbook) estão disponíveis vários exemplos que facilitam a familiarização com este módulo.\n",
    "\n"
   ]
  }
 ],
 "metadata": {
  "kernelspec": {
   "display_name": "Python 3",
   "language": "python",
   "name": "python3"
  },
  "language_info": {
   "codemirror_mode": {
    "name": "ipython",
    "version": 3
   },
   "file_extension": ".py",
   "mimetype": "text/x-python",
   "name": "python",
   "nbconvert_exporter": "python",
   "pygments_lexer": "ipython3",
   "version": "3.7.9-final"
  }
 },
 "nbformat": 4,
 "nbformat_minor": 2
}