{
 "cells": [
  {
   "cell_type": "markdown",
   "metadata": {
    "slideshow": {
     "slide_type": "slide"
    }
   },
   "source": [
    "# Programação em Python \n"
   ]
  },
  {
   "cell_type": "markdown",
   "metadata": {},
   "source": [
    "## Objetivos de aprendizagem\n",
    "\n",
    "Nesta lição, veremos de forma mais abrangente, a linguagem Python.\n",
    "\n",
    "\n",
    "1. Expressões com tipos de dados nativos simples, incluindo a indexação de strings\n",
    "1. Interrogações e ciclo *while*\n"
   ]
  },
  {
   "cell_type": "markdown",
   "metadata": {
    "slideshow": {
     "slide_type": "slide"
    }
   },
   "source": [
    "### Expressões com tipos de dados nativos simples\n",
    "\n",
    "Na semana passada tivemos a oportunidade de experimentar conhecer alguns tipos de dados nativos simples. Já tivemos a oportunidade de ver algumas expressões aritméticas elementares. Mas também é possível usar expressões para outras expressões, numéricas, cadeias de carateres ou lógicas."
   ]
  },
  {
   "source": [
    "#### Operações com *strings*\n",
    "\n",
    "As cadeias de carateres (vulgo, *strings*) armazenam sequências alfanuméricas. Usamos:\n",
    "\n",
    "    + para justaposição, isto é, concatenar\n",
    "    * para repetição\n",
    "    [pos] para indicar a posição do caracter a que nos referimos\n",
    "    [pos1:pos2] para indicar a sequência que começa em *pos1* e vai até (não incluindo) *pos2*"
   ],
   "cell_type": "markdown",
   "metadata": {}
  },
  {
   "source": [
    "##### Exemplos"
   ],
   "cell_type": "markdown",
   "metadata": {}
  },
  {
   "cell_type": "code",
   "execution_count": 1,
   "metadata": {},
   "outputs": [
    {
     "output_type": "execute_result",
     "data": {
      "text/plain": [
       "'Maria Moura'"
      ]
     },
     "metadata": {},
     "execution_count": 1
    }
   ],
   "source": [
    "nome = 'Maria'\n",
    "apelido = 'Moura'\n",
    "nome + ' ' + apelido "
   ]
  },
  {
   "cell_type": "code",
   "execution_count": 2,
   "metadata": {
    "slideshow": {
     "slide_type": "subslide"
    }
   },
   "outputs": [
    {
     "output_type": "stream",
     "name": "stdout",
     "text": [
      "Maria Moura\n"
     ]
    }
   ],
   "source": [
    "print (nome, apelido) "
   ]
  },
  {
   "cell_type": "code",
   "execution_count": 3,
   "metadata": {},
   "outputs": [
    {
     "output_type": "stream",
     "name": "stdout",
     "text": [
      "Bom dia, Maria Moura!!!\n"
     ]
    }
   ],
   "source": [
    "nome_completo = nome + ' ' + apelido \n",
    "saudar = 'Bom dia,' + ' ' + nome_completo + '!'*3\n",
    "print(saudar)"
   ]
  },
  {
   "cell_type": "code",
   "execution_count": 4,
   "metadata": {},
   "outputs": [],
   "source": [
    "frase = 'Python é muito giro e interessante!'"
   ]
  },
  {
   "cell_type": "code",
   "execution_count": 5,
   "metadata": {},
   "outputs": [
    {
     "output_type": "execute_result",
     "data": {
      "text/plain": [
       "'P'"
      ]
     },
     "metadata": {},
     "execution_count": 5
    }
   ],
   "source": [
    "# Isto é muito importante, note que começa em 0\n",
    "frase[0]"
   ]
  },
  {
   "cell_type": "code",
   "execution_count": 6,
   "metadata": {},
   "outputs": [
    {
     "output_type": "execute_result",
     "data": {
      "text/plain": [
       "'Python'"
      ]
     },
     "metadata": {},
     "execution_count": 6
    }
   ],
   "source": [
    "frase[0:6]"
   ]
  },
  {
   "source": [
    "Os índices negativos podem ser entendidos como *a contar do fim*"
   ],
   "cell_type": "markdown",
   "metadata": {}
  },
  {
   "cell_type": "code",
   "execution_count": 7,
   "metadata": {},
   "outputs": [
    {
     "output_type": "execute_result",
     "data": {
      "text/plain": [
       "'!'"
      ]
     },
     "metadata": {},
     "execution_count": 7
    }
   ],
   "source": [
    "frase[-1]"
   ]
  },
  {
   "cell_type": "code",
   "execution_count": 8,
   "metadata": {},
   "outputs": [
    {
     "output_type": "execute_result",
     "data": {
      "text/plain": [
       "'interessante'"
      ]
     },
     "metadata": {},
     "execution_count": 8
    }
   ],
   "source": [
    "frase[-13:-1]"
   ]
  },
  {
   "cell_type": "markdown",
   "metadata": {
    "slideshow": {
     "slide_type": "slide"
    }
   },
   "source": [
    "#### Operações com valores lógicos\n",
    "\n",
    "Os valores lógicos (de tipo *bool*) podem assumir os valores **False** e **True**. Usamos:\n",
    "\n",
    "    == para a igualdade. E não confunda com = da atribuição\n",
    "    != para a negação\n",
    "    not() também para a negação\n",
    "    or para conjunção\n",
    "    and para a disjunção\n",
    "\n",
    "\n",
    "##### Exemplos"
   ]
  },
  {
   "cell_type": "code",
   "execution_count": 9,
   "metadata": {
    "slideshow": {
     "slide_type": "subslide"
    }
   },
   "outputs": [
    {
     "output_type": "execute_result",
     "data": {
      "text/plain": [
       "True"
      ]
     },
     "metadata": {},
     "execution_count": 9
    }
   ],
   "source": [
    "True "
   ]
  },
  {
   "cell_type": "code",
   "execution_count": 10,
   "metadata": {},
   "outputs": [
    {
     "output_type": "execute_result",
     "data": {
      "text/plain": [
       "False"
      ]
     },
     "metadata": {},
     "execution_count": 10
    }
   ],
   "source": [
    "False"
   ]
  },
  {
   "cell_type": "code",
   "execution_count": 11,
   "metadata": {},
   "outputs": [
    {
     "output_type": "execute_result",
     "data": {
      "text/plain": [
       "True"
      ]
     },
     "metadata": {},
     "execution_count": 11
    }
   ],
   "source": [
    "True == True"
   ]
  },
  {
   "cell_type": "code",
   "execution_count": 12,
   "metadata": {},
   "outputs": [
    {
     "output_type": "execute_result",
     "data": {
      "text/plain": [
       "False"
      ]
     },
     "metadata": {},
     "execution_count": 12
    }
   ],
   "source": [
    "not(True) "
   ]
  },
  {
   "cell_type": "code",
   "execution_count": 13,
   "metadata": {},
   "outputs": [
    {
     "output_type": "execute_result",
     "data": {
      "text/plain": [
       "True"
      ]
     },
     "metadata": {},
     "execution_count": 13
    }
   ],
   "source": [
    "True or False "
   ]
  },
  {
   "cell_type": "code",
   "execution_count": 14,
   "metadata": {},
   "outputs": [
    {
     "output_type": "execute_result",
     "data": {
      "text/plain": [
       "False"
      ]
     },
     "metadata": {},
     "execution_count": 14
    }
   ],
   "source": [
    "True and False "
   ]
  },
  {
   "cell_type": "markdown",
   "metadata": {
    "slideshow": {
     "slide_type": "subslide"
    }
   },
   "source": [
    "#### Recordar os operadores lógicos\n",
    "\n",
    "##### not (Negação)\n",
    "\n",
    "| A | not A |\n",
    "| - |  ----------|\n",
    "| True|False|\n",
    "| False|True|"
   ]
  },
  {
   "cell_type": "markdown",
   "metadata": {
    "slideshow": {
     "slide_type": "subslide"
    }
   },
   "source": [
    "##### and (e lógico)\n",
    "\n",
    "| A | B | A and B |\n",
    "| - | - | ----------|\n",
    "| False | False| False|\n",
    "| False|True| False |\n",
    "| True | False | False|\n",
    "| True | True | True |"
   ]
  },
  {
   "cell_type": "markdown",
   "metadata": {
    "slideshow": {
     "slide_type": "subslide"
    }
   },
   "source": [
    "##### or ( ou lógico)\n",
    "\n",
    "| A | B | A or B |\n",
    "| - | - | ----------|\n",
    "| False | False | False |\n",
    "| False | True | True |\n",
    "| True | False | True|\n",
    "| True | True | True |"
   ]
  },
  {
   "cell_type": "code",
   "execution_count": 15,
   "metadata": {
    "scrolled": true,
    "slideshow": {
     "slide_type": "subslide"
    }
   },
   "outputs": [
    {
     "output_type": "execute_result",
     "data": {
      "text/plain": [
       "False"
      ]
     },
     "metadata": {},
     "execution_count": 15
    }
   ],
   "source": [
    "# Experimente: faça variar os valores de a e b e a operação lógica\n",
    "a = True; b = not a; a and b "
   ]
  },
  {
   "cell_type": "markdown",
   "metadata": {
    "slideshow": {
     "slide_type": "slide"
    }
   },
   "source": [
    "### Interrogações e ciclo *while*\n",
    "\n",
    "É do conhecimento geral que os computadores fazem aquilo para que foram programados. Mas representar \"coisas\", dar-lhes nomes, e operar com/sobre elas, usando expressões, não é suficiente.\n",
    "\n",
    "As ações a desempenhar dependem das circunstâncias. Por isso, surgiram formas de definir o que vai ser, ou não, feito. Na base do controlo de execução estão a avaliação das circunstâncias pela interrogação de estados significativos e a decisão de prosseguir ou repetir.\n",
    "\n"
   ]
  },
  {
   "source": [
    "Vejamos então, duas formas de controlar o fluxo de execução.\n",
    "\n",
    "    - if\n",
    "        Se <algo se verifica> <faça-se>\n",
    "        Se <acabou o filme> <sair da sala>\n",
    "        \n",
    "    - while\n",
    "        Enquanto <algo se verifica> <faça-se>\n",
    "        Enquanto <o filme decorre> <silêncio>"
   ],
   "cell_type": "markdown",
   "metadata": {}
  },
  {
   "source": [
    "#### Exemplos\n",
    "\n",
    "Queremos apresentar uma mensagem a indicar se um número é maior, igual, ou menor que zero.\n",
    "\n",
    "Vamos esboçar a solução e melhorando progressivamente.\n",
    "\n",
    "\n",
    "A variável *num* representará o nosso número neste caso."
   ],
   "cell_type": "markdown",
   "metadata": {}
  },
  {
   "cell_type": "code",
   "execution_count": 16,
   "metadata": {},
   "outputs": [],
   "source": [
    "num = 4"
   ]
  },
  {
   "source": [
    "Para começar, queremos a mensagem para indicar se o número é maior que zero "
   ],
   "cell_type": "markdown",
   "metadata": {}
  },
  {
   "cell_type": "code",
   "execution_count": 17,
   "metadata": {},
   "outputs": [
    {
     "output_type": "stream",
     "name": "stdout",
     "text": [
      "4 é maior que zero\n"
     ]
    }
   ],
   "source": [
    "if (num > 0):\n",
    "    # a identação é importante\n",
    "    print('{} é maior que zero'.format(num))"
   ]
  },
  {
   "source": [
    "Agora que isso está, acrescentamos outro caso. E para testar esse caso, mudamos o valor de *num*"
   ],
   "cell_type": "markdown",
   "metadata": {}
  },
  {
   "cell_type": "code",
   "execution_count": 18,
   "metadata": {},
   "outputs": [],
   "source": [
    "num = -2"
   ]
  },
  {
   "cell_type": "code",
   "execution_count": 19,
   "metadata": {},
   "outputs": [
    {
     "output_type": "stream",
     "name": "stdout",
     "text": [
      "-2 não é maior que zero\n"
     ]
    }
   ],
   "source": [
    "if (num > 0):\n",
    "    print('{} é maior que zero'.format(num))\n",
    "else:\n",
    "    print('{} não é maior que zero'.format(num))"
   ]
  },
  {
   "source": [
    "Mas não ser maior que zero, não é suficiente. \n",
    "\n",
    "Agora precisávamos de outro teste para saber se é zero, ou menor que zero."
   ],
   "cell_type": "markdown",
   "metadata": {}
  },
  {
   "cell_type": "code",
   "execution_count": 20,
   "metadata": {},
   "outputs": [],
   "source": [
    "num = 0 "
   ]
  },
  {
   "cell_type": "code",
   "execution_count": 21,
   "metadata": {},
   "outputs": [
    {
     "output_type": "stream",
     "name": "stdout",
     "text": [
      "0 é igual a zero\n"
     ]
    }
   ],
   "source": [
    "if (num > 0):\n",
    "    print('{} é maior que zero'.format(num))\n",
    "elif (num == 0):\n",
    "    print('{} é igual a zero'.format(num))\n",
    "else:\n",
    "    print('{} é menor que zero'.format(num))"
   ]
  },
  {
   "source": [
    "Vejamos outro exemplo: queremos saber se um número é par.\n",
    "\n",
    "Ora um número par é divisível por 2, ou seja, o resto da divisão por dois é zero."
   ],
   "cell_type": "markdown",
   "metadata": {}
  },
  {
   "cell_type": "code",
   "execution_count": 22,
   "metadata": {},
   "outputs": [],
   "source": [
    "num = 6"
   ]
  },
  {
   "cell_type": "code",
   "execution_count": 23,
   "metadata": {
    "slideshow": {
     "slide_type": "subslide"
    }
   },
   "outputs": [
    {
     "output_type": "stream",
     "name": "stdout",
     "text": [
      "6 é par\n"
     ]
    }
   ],
   "source": [
    "if (num%2) == 0:\n",
    "    # a identação é importante\n",
    "    print(num, 'é par')"
   ]
  },
  {
   "cell_type": "code",
   "execution_count": 24,
   "metadata": {},
   "outputs": [],
   "source": [
    "num = 5"
   ]
  },
  {
   "cell_type": "code",
   "execution_count": 25,
   "metadata": {
    "slideshow": {
     "slide_type": "-"
    }
   },
   "outputs": [
    {
     "output_type": "stream",
     "name": "stdout",
     "text": [
      "5 não é par\n"
     ]
    }
   ],
   "source": [
    "if (num%2) == 0:\n",
    "   print(num, 'é par')\n",
    "else:\n",
    "   print(num, 'não é par')"
   ]
  },
  {
   "source": [
    "Por vezes, queremos tratar toda uma gama de elementos, mas não sabemos quantos são.\n",
    "Sabemos, isso sim, em que condições queremos fazer esse \"tratamento\".\n",
    "\n",
    "Por exemplo, queremos apresentar os elementos $a$ do intervalo $ [0, 5[ $ sabendo que $a \\in N$"
   ],
   "cell_type": "markdown",
   "metadata": {}
  },
  {
   "cell_type": "code",
   "execution_count": 26,
   "metadata": {},
   "outputs": [
    {
     "output_type": "stream",
     "name": "stdout",
     "text": [
      "0\n1\n2\n3\n4\n"
     ]
    }
   ],
   "source": [
    "a = 0\n",
    "while (a < 5):\n",
    "    # a identação é importante\n",
    "    print (a)\n",
    "    a += 1 # O mesmo que a = a + 1\n"
   ]
  },
  {
   "source": [
    "Se quisessemos os valores de $[0, 3]$ por ordem decrescente, podíamos fazer"
   ],
   "cell_type": "markdown",
   "metadata": {}
  },
  {
   "cell_type": "code",
   "execution_count": 27,
   "metadata": {
    "slideshow": {
     "slide_type": "subslide"
    }
   },
   "outputs": [
    {
     "output_type": "stream",
     "name": "stdout",
     "text": [
      "3\n2\n1\n0\n"
     ]
    }
   ],
   "source": [
    "a = 3\n",
    "while (a >= 0):\n",
    "    # a identação é importante\n",
    "    print (a)\n",
    "    a -= 1 # O mesmo que a = a - 1"
   ]
  },
  {
   "source": [
    "Criando expressões com estes operadores e conseguindo moldar o nosso programa às circunstâncias, já conseguimos fazer muitas coisas."
   ],
   "cell_type": "markdown",
   "metadata": {}
  },
  {
   "source": [
    "Vejamos agora o cálculo do fatorial de um número."
   ],
   "cell_type": "markdown",
   "metadata": {}
  },
  {
   "source": [
    "Queremos calcular o fatorial de um número usando a expressão $n! = n * (n-1)!$, para  $n > 1$"
   ],
   "cell_type": "markdown",
   "metadata": {}
  },
  {
   "cell_type": "code",
   "execution_count": 28,
   "metadata": {},
   "outputs": [],
   "source": [
    "def fatorial_r(n):\n",
    "    \"\"\"Calculo do fatorial de um número.\n",
    "    n! = n * (n-1)! para n > 1\n",
    "    \"\"\"\n",
    "    \n",
    "    resultado = 1 # Elemento neutro da multiplicação \n",
    "    if (n>1):\n",
    "        resultado = n * fatorial_r(n-1)\n",
    "    \n",
    "    return resultado\n",
    "    \n"
   ]
  },
  {
   "cell_type": "code",
   "execution_count": 29,
   "metadata": {},
   "outputs": [
    {
     "output_type": "stream",
     "name": "stdout",
     "text": [
      "120\n"
     ]
    }
   ],
   "source": [
    "print(fatorial_r(5))"
   ]
  },
  {
   "source": [
    "Queremos agora calcular o fatorial de um número usando a expressão $n! = n * (n-1) * ... * 2$, para  $n > 0$"
   ],
   "cell_type": "markdown",
   "metadata": {}
  },
  {
   "cell_type": "code",
   "execution_count": 30,
   "metadata": {},
   "outputs": [],
   "source": [
    "def fatorial_i(n):\n",
    "    \"\"\"Calculo do fatorial de um número.\n",
    "    n! = n * (n-1) * ... * 2\n",
    "    \"\"\"\n",
    "    \n",
    "    resultado = 1 # Elemento neutro da multiplicação \n",
    "    while (n>1):\n",
    "        resultado *= n \n",
    "        n -= 1        \n",
    "    \n",
    "    return resultado"
   ]
  },
  {
   "cell_type": "code",
   "execution_count": 31,
   "metadata": {},
   "outputs": [
    {
     "output_type": "stream",
     "name": "stdout",
     "text": [
      "120\n"
     ]
    }
   ],
   "source": [
    "print(fatorial_i(5))"
   ]
  }
 ],
 "metadata": {
  "celltoolbar": "Slideshow",
  "kernelspec": {
   "display_name": "Python 3",
   "language": "python",
   "name": "python3"
  },
  "language_info": {
   "codemirror_mode": {
    "name": "ipython",
    "version": 3
   },
   "file_extension": ".py",
   "mimetype": "text/x-python",
   "name": "python",
   "nbconvert_exporter": "python",
   "pygments_lexer": "ipython3",
   "version": "3.7.8-final"
  }
 },
 "nbformat": 4,
 "nbformat_minor": 1
}