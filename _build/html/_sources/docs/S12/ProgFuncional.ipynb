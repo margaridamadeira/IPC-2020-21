{
 "cells": [
  {
   "source": [
    "# Programação funcional"
   ],
   "cell_type": "markdown",
   "metadata": {}
  },
  {
   "source": [
    "## Objetivos de aprendizagem\n",
    "\n",
    "Vamos ver uma outra forma de abordar o desenho de um algoritmo, o paradigma funcional, nomeadamente:\n",
    "\n",
    "+ iteração\n",
    "+ *filter*, *reduce*, *map*\n",
    "+ funções lambda "
   ],
   "cell_type": "markdown",
   "metadata": {}
  },
  {
   "cell_type": "markdown",
   "metadata": {
    "slideshow": {
     "slide_type": "slide"
    }
   },
   "source": [
    "## Introdução\n",
    "\n",
    "A programação funcional decompõe um problema num conjunto de funções. Idealmente as funções recebem dados e produzem resultados e não têm estados internos que possam afetar o comportamento da função.\n",
    "\n",
    "Num programa funcional, os dados fluem pelas funções. Por ação de cada função, o domínio dá origem ao contradomínio. Há que ter atenção a possível efeitos colaterais, evitando que as estruturas sejam alteradas pela aplicação das funções, garantindo assim que o resultado depende única e exclusivamente da aplicação da função aos dados de entrada."
   ]
  },
  {
   "source": [
    "## Sequências e iteradores\n",
    "\n",
    "Ao referirmos os tipos de dados falámos de sequências. As sequências básicas em Python são *list*, *tuple* e *range*. As *strings* são sequências imutáveis.\n",
    "\n",
    "Numa sequência podemos referir um elemento pela sua posição relativa, que designamos *índice*. E podemos obter uma parte, segmentando, indicando o início e fim. \n"
   ],
   "cell_type": "markdown",
   "metadata": {}
  },
  {
   "cell_type": "code",
   "execution_count": 69,
   "metadata": {},
   "outputs": [
    {
     "output_type": "stream",
     "name": "stdout",
     "text": [
      "Indexando a segunda posição, obtemos 4\nSegmentando obtemos a segunda metade da lista : [12, 14, 16, 18, 20]\n"
     ]
    }
   ],
   "source": [
    "lista = [2, 4, 6, 8, 10, 12, 14, 16, 18, 20]\n",
    "print('Indexando a segunda posição, obtemos {}'.format(lista[1]))\n",
    "print('Segmentando obtemos a segunda metade da lista :', lista[len(lista)//2:])"
   ]
  },
  {
   "source": [
    "Por uma lista ser um tipo iterável podemos usar a instrução *in* e apoiar o ciclo\n",
    "```\n",
    "for elemento in lista:\n",
    "```\n",
    "\n",
    "Um iterador permite percorrer uma sequência, um elemento de cada vez, e sinaliza o fim de uma sequência pela exceção **StopIteration**. \n",
    "\n",
    "Python suporta a iteração sobre sequências. Conforme o tipo de dados em causa, a forma de criar um iterador poderá variar."
   ],
   "cell_type": "markdown",
   "metadata": {}
  },
  {
   "cell_type": "markdown",
   "metadata": {},
   "source": [
    "## Criação e uso de um iterador\n",
    "\n",
    "A linguagem Python disponibiliza um conjunto de operações que permitem definir listas. Já usámos algumas dessas operações, como por exemplo *range*. "
   ]
  },
  {
   "cell_type": "code",
   "execution_count": 70,
   "metadata": {},
   "outputs": [
    {
     "output_type": "execute_result",
     "data": {
      "text/plain": [
       "[0, 1, 2, 3, 4, 5, 6, 7, 8, 9]"
      ]
     },
     "metadata": {},
     "execution_count": 70
    }
   ],
   "source": [
    "list(range(10))"
   ]
  },
  {
   "cell_type": "markdown",
   "metadata": {
    "slideshow": {
     "slide_type": "slide"
    }
   },
   "source": [
    "De facto, a operação *range* produz aquilo a que se chama um **iterador**, um conceito interessante na programação funcional. Um iterador representa um fluxo de dados, devolvendo um elemento de cada vez.\n",
    "\n",
    "Criemos então um iterador *it* sobre a lista *c*:\n"
   ]
  },
  {
   "cell_type": "code",
   "execution_count": 71,
   "metadata": {
    "slideshow": {
     "slide_type": "subslide"
    }
   },
   "outputs": [
    {
     "output_type": "execute_result",
     "data": {
      "text/plain": [
       "<list_iterator at 0x7f7a090cb2d0>"
      ]
     },
     "metadata": {},
     "execution_count": 71
    }
   ],
   "source": [
    "c = [1, 3, 5, 8]\n",
    "it = iter(c)\n",
    "it"
   ]
  },
  {
   "source": [
    "Para obtermos cada elemento, usamos o *next*."
   ],
   "cell_type": "markdown",
   "metadata": {}
  },
  {
   "cell_type": "code",
   "execution_count": 72,
   "metadata": {},
   "outputs": [
    {
     "output_type": "execute_result",
     "data": {
      "text/plain": [
       "1"
      ]
     },
     "metadata": {},
     "execution_count": 72
    }
   ],
   "source": [
    "next(it)"
   ]
  },
  {
   "cell_type": "code",
   "execution_count": 73,
   "metadata": {
    "slideshow": {
     "slide_type": "-"
    }
   },
   "outputs": [
    {
     "output_type": "execute_result",
     "data": {
      "text/plain": [
       "3"
      ]
     },
     "metadata": {},
     "execution_count": 73
    }
   ],
   "source": [
    "next(it)"
   ]
  },
  {
   "cell_type": "code",
   "execution_count": 74,
   "metadata": {
    "slideshow": {
     "slide_type": "-"
    }
   },
   "outputs": [
    {
     "output_type": "execute_result",
     "data": {
      "text/plain": [
       "5"
      ]
     },
     "metadata": {},
     "execution_count": 74
    }
   ],
   "source": [
    "next(it)"
   ]
  },
  {
   "cell_type": "code",
   "execution_count": 75,
   "metadata": {
    "slideshow": {
     "slide_type": "-"
    }
   },
   "outputs": [
    {
     "output_type": "execute_result",
     "data": {
      "text/plain": [
       "8"
      ]
     },
     "metadata": {},
     "execution_count": 75
    }
   ],
   "source": [
    "next(it)"
   ]
  },
  {
   "cell_type": "markdown",
   "metadata": {},
   "source": [
    "Se tentarmos ir além do último elemento, surge a exceção *StopIteration*"
   ]
  },
  {
   "cell_type": "code",
   "execution_count": 76,
   "metadata": {
    "slideshow": {
     "slide_type": "-"
    }
   },
   "outputs": [],
   "source": [
    "# Experimente, retirando o comentário da linha abaixo\n",
    "# next(it)"
   ]
  },
  {
   "cell_type": "markdown",
   "metadata": {},
   "source": [
    "É de notar que, uma vez concluída a iteração, se necessitarmos de operar novamente sobre o fluxo de dados é necessário criar outro iterador."
   ]
  },
  {
   "source": [
    "Para lidarmos com a exceção, num programa, usamos *try*-*except*. Vejamos este exemplo, desde o início, intercetando a exceção para que não haja um erro."
   ],
   "cell_type": "markdown",
   "metadata": {}
  },
  {
   "cell_type": "code",
   "execution_count": 77,
   "metadata": {},
   "outputs": [
    {
     "output_type": "stream",
     "name": "stdout",
     "text": [
      "1\n3\n5\n8\nAcabou\nTerminado!\n"
     ]
    }
   ],
   "source": [
    "c = [1, 3, 5, 8]\n",
    "it = iter(c)\n",
    "\n",
    "while True:\n",
    "    try:\n",
    "        print(next(it))\n",
    "    except StopIteration:\n",
    "        print('Acabou')\n",
    "        break\n",
    "print('Terminado!')"
   ]
  },
  {
   "cell_type": "code",
   "execution_count": null,
   "metadata": {},
   "outputs": [],
   "source": []
  },
  {
   "cell_type": "markdown",
   "metadata": {
    "slideshow": {
     "slide_type": "slide"
    }
   },
   "source": [
    "## Geradores\n",
    "\n",
    "Numa construção *for* Python espera um objeto iterável.\n",
    "\n",
    "E, estando definida uma ação (ou função), podemos aplicá-la a cada elemento. \n",
    "\n",
    "Não precisamos de definir uma função, podemos usar um gerador.\n"
   ]
  },
  {
   "cell_type": "code",
   "execution_count": 78,
   "metadata": {},
   "outputs": [
    {
     "output_type": "execute_result",
     "data": {
      "text/plain": [
       "[0, 1, 4, 9, 16, 25, 36, 49, 64, 81]"
      ]
     },
     "metadata": {},
     "execution_count": 78
    }
   ],
   "source": [
    "[x**2 for x in range(10)]"
   ]
  },
  {
   "cell_type": "code",
   "execution_count": 79,
   "metadata": {},
   "outputs": [
    {
     "output_type": "execute_result",
     "data": {
      "text/plain": [
       "[1, 9, 25, 64, 100, 225, 289]"
      ]
     },
     "metadata": {},
     "execution_count": 79
    }
   ],
   "source": [
    "c=[1, 3, 5, 8, 10, 15, 17]\n",
    "[x**2 for x in c]"
   ]
  },
  {
   "cell_type": "code",
   "execution_count": 80,
   "metadata": {},
   "outputs": [
    {
     "output_type": "execute_result",
     "data": {
      "text/plain": [
       "[1, 9, 25, 225, 289]"
      ]
     },
     "metadata": {},
     "execution_count": 80
    }
   ],
   "source": [
    "[x**2 for x in c if x%2]"
   ]
  },
  {
   "cell_type": "code",
   "execution_count": 81,
   "metadata": {},
   "outputs": [
    {
     "output_type": "execute_result",
     "data": {
      "text/plain": [
       "[[0, 0], [0, 1], [1, 0], [1, 1]]"
      ]
     },
     "metadata": {},
     "execution_count": 81
    }
   ],
   "source": [
    "[[x, y] for x in range(2) for y in range(2)]"
   ]
  },
  {
   "cell_type": "code",
   "execution_count": 82,
   "metadata": {},
   "outputs": [],
   "source": [
    "# Experimente, retirando o comentário da linha abaixo\n",
    "# a, b = [int(x) for x in input().split()]"
   ]
  },
  {
   "cell_type": "markdown",
   "metadata": {
    "slideshow": {
     "slide_type": "slide"
    }
   },
   "source": [
    "### Filter\n",
    "\n",
    "Uma das aplicações comuns de iteradores é para aplicação de **filter**.\n",
    "\n",
    "Até agora, se pretendessemos obter os números pares de uma lista, podíamos ter a seguinte implementação:"
   ]
  },
  {
   "cell_type": "code",
   "execution_count": 83,
   "metadata": {},
   "outputs": [
    {
     "output_type": "stream",
     "name": "stdout",
     "text": [
      "[0, 2, 4, 6, 8]\n"
     ]
    }
   ],
   "source": [
    "def is_even(x):\n",
    "    return (x % 2) == 0\n",
    "\n",
    "lista = []\n",
    "for elem in range(10):\n",
    "    if is_even(elem):\n",
    "        lista.append(elem)\n",
    "        \n",
    "print(lista)"
   ]
  },
  {
   "cell_type": "markdown",
   "metadata": {
    "slideshow": {
     "slide_type": "slide"
    }
   },
   "source": [
    "Embora esta construção por enquanto pareça estranha, podemos usar a iteração sobre listas para criar uma nova lista em que os elementos respeitam uma condição."
   ]
  },
  {
   "cell_type": "code",
   "execution_count": 84,
   "metadata": {},
   "outputs": [
    {
     "output_type": "execute_result",
     "data": {
      "text/plain": [
       "[0, 2, 4, 6, 8]"
      ]
     },
     "metadata": {},
     "execution_count": 84
    }
   ],
   "source": [
    "def pares(w):\n",
    "    return [y for y in w if y%2 == 0]\n",
    "\n",
    "pares(range(10))"
   ]
  },
  {
   "cell_type": "markdown",
   "metadata": {},
   "source": [
    "A operação *pares* é um **filtro** porque seleciona alguns dos elementos da lista."
   ]
  },
  {
   "cell_type": "markdown",
   "metadata": {
    "slideshow": {
     "slide_type": "slide"
    }
   },
   "source": [
    "Mas também podemos usar a seguinte implementação, talvez mais intuitiva:"
   ]
  },
  {
   "cell_type": "code",
   "execution_count": 85,
   "metadata": {
    "slideshow": {
     "slide_type": "-"
    }
   },
   "outputs": [
    {
     "output_type": "execute_result",
     "data": {
      "text/plain": [
       "[0, 2, 4, 6, 8]"
      ]
     },
     "metadata": {},
     "execution_count": 85
    }
   ],
   "source": [
    "list(filter(is_even, range(10)))"
   ]
  },
  {
   "source": [
    "Com a aplicação de *filter* obtemos apenas os elementos para os quais a função *is_even* produziu True."
   ],
   "cell_type": "markdown",
   "metadata": {}
  },
  {
   "cell_type": "markdown",
   "metadata": {
    "slideshow": {
     "slide_type": "slide"
    }
   },
   "source": [
    "### Reduce\n",
    "\n",
    "Outro exemplo da aplicação da programação funcional é **reduce**. \n",
    "\n",
    "Algumas funções do *Python*, como *sum*, *max* e *min*, recebem como argumento um objeto iterável."
   ]
  },
  {
   "cell_type": "code",
   "execution_count": 86,
   "metadata": {
    "slideshow": {
     "slide_type": "-"
    }
   },
   "outputs": [
    {
     "output_type": "execute_result",
     "data": {
      "text/plain": [
       "10"
      ]
     },
     "metadata": {},
     "execution_count": 86
    }
   ],
   "source": [
    "lista2 = list(range(5))\n",
    "sum(lista2)"
   ]
  },
  {
   "cell_type": "code",
   "execution_count": 87,
   "metadata": {},
   "outputs": [
    {
     "output_type": "execute_result",
     "data": {
      "text/plain": [
       "4"
      ]
     },
     "metadata": {},
     "execution_count": 87
    }
   ],
   "source": [
    "max(lista2)"
   ]
  },
  {
   "cell_type": "code",
   "execution_count": 88,
   "metadata": {},
   "outputs": [
    {
     "output_type": "execute_result",
     "data": {
      "text/plain": [
       "0"
      ]
     },
     "metadata": {},
     "execution_count": 88
    }
   ],
   "source": [
    "min(lista2)"
   ]
  },
  {
   "cell_type": "markdown",
   "metadata": {
    "collapsed": true
   },
   "source": [
    "As operações de **redução** produzem, a partir de uma sequência de valores, um único elemento.\n",
    "\n",
    "Suponha que queremos o produto dos elementos da lista. \n",
    "Para definirmos a nossa operação de redução, temos que importar *reduce* do módulo *functools*.\n"
   ]
  },
  {
   "cell_type": "code",
   "execution_count": 89,
   "metadata": {},
   "outputs": [],
   "source": [
    "from functools import reduce"
   ]
  },
  {
   "cell_type": "code",
   "execution_count": 90,
   "metadata": {},
   "outputs": [
    {
     "output_type": "stream",
     "name": "stdout",
     "text": [
      "120\n"
     ]
    }
   ],
   "source": [
    "def produto(x, y):\n",
    "    return x*y\n",
    "\n",
    "print(reduce(produto,range(1, 6)))"
   ]
  },
  {
   "cell_type": "markdown",
   "metadata": {
    "slideshow": {
     "slide_type": "slide"
    }
   },
   "source": [
    "### Map\n",
    "\n",
    "Outra exemplo do suporte que *Python* oferece para a programação funcional é **map**.\n",
    "\n",
    "Neste caso, sobre um objeto iterável, aplica-se uma operação ou função."
   ]
  },
  {
   "cell_type": "code",
   "execution_count": 91,
   "metadata": {
    "slideshow": {
     "slide_type": "-"
    }
   },
   "outputs": [
    {
     "output_type": "execute_result",
     "data": {
      "text/plain": [
       "[0, 1, 8, 27, 64, 125, 216, 343, 512, 729]"
      ]
     },
     "metadata": {},
     "execution_count": 91
    }
   ],
   "source": [
    "def cubo(x):\n",
    "    return x*x*x\n",
    "\n",
    "list(map(cubo, range(10)))"
   ]
  },
  {
   "source": [
    "## Funções lambda \n",
    "\n",
    "A criação de uma função com uma única instrução pode ser evitada usando **lambda**.\n",
    "\n",
    "\n",
    "O formato é\n",
    "```\n",
    "lambda argumentos: expressão\n",
    "```\n",
    "\n",
    "Vejamos então os exemplos anteriores, usando estas funções lambda.\n"
   ],
   "cell_type": "markdown",
   "metadata": {}
  },
  {
   "cell_type": "code",
   "execution_count": 92,
   "metadata": {},
   "outputs": [
    {
     "output_type": "execute_result",
     "data": {
      "text/plain": [
       "[0, 2, 4, 6, 8]"
      ]
     },
     "metadata": {},
     "execution_count": 92
    }
   ],
   "source": [
    "# is_even\n",
    "list(filter(lambda x: x%2==0, range(10)))"
   ]
  },
  {
   "cell_type": "code",
   "execution_count": 93,
   "metadata": {},
   "outputs": [
    {
     "output_type": "stream",
     "name": "stdout",
     "text": [
      "120\n"
     ]
    }
   ],
   "source": [
    "from functools import reduce\n",
    "\n",
    "# Note a diferença, reduce consome dois elementos para produzir um\n",
    "print(reduce(lambda x, y: x*y, range(1,6)))"
   ]
  },
  {
   "cell_type": "code",
   "execution_count": 94,
   "metadata": {},
   "outputs": [
    {
     "output_type": "execute_result",
     "data": {
      "text/plain": [
       "[0, 1, 8, 27, 64, 125, 216, 343, 512, 729]"
      ]
     },
     "metadata": {},
     "execution_count": 94
    }
   ],
   "source": [
    "list(map(lambda x: x*x*x, range(10)))"
   ]
  },
  {
   "cell_type": "markdown",
   "metadata": {},
   "source": [
    "## Resumo\n",
    "\n",
    "As operações de **filter** produzem uma sequência com os valores da sequência original onde a função de filtro foi avaliada como True.\n",
    "\n",
    "As operações de **reduce** produzem um valor que resulta da aplicação da função de redução aos elementos da sequência.\n",
    "\n",
    "As operações de **map** produzem uma sequência de valores pela aplicação da função a cada elemento do objeto iterável.\n",
    "\n",
    "A expressão *lambda* permite criar uma transformação pela aplicação de uma instrução."
   ]
  },
  {
   "cell_type": "markdown",
   "metadata": {
    "slideshow": {
     "slide_type": "slide"
    }
   },
   "source": [
    "### Bibliografia\n",
    "\n",
    "*Think Python: How to think like a computer scientist*: A. Downey, Green Tea Press, 2012\n",
    "http://greenteapress.com/thinkpython2/html/thinkpython2011.html#sec120\n",
    "\n",
    "Sobre suporte ao paradigma funcional https://docs.python.org/3/howto/functional.html"
   ]
  },
  {
   "cell_type": "markdown",
   "metadata": {
    "slideshow": {
     "slide_type": "slide"
    }
   },
   "source": [
    "### Exercícios\n",
    "\n",
    "Sem usar ciclos for, implemente soluções para os seguintes casos:\n",
    "Considere que temos vários nomes\n",
    "\n",
    "1. Pretende-se retirar as partículas 'de' 'da' 'do'\n",
    "1. Pretende-se garantir que todas as palavras começam por maiúscula.\n",
    "\n"
   ]
  },
  {
   "cell_type": "code",
   "execution_count": 95,
   "metadata": {
    "collapsed": true
   },
   "outputs": [],
   "source": [
    "nome = 'ana maria da silva'"
   ]
  },
  {
   "cell_type": "code",
   "execution_count": 96,
   "metadata": {
    "slideshow": {
     "slide_type": "skip"
    }
   },
   "outputs": [],
   "source": [
    "nome_partido = nome.split()"
   ]
  },
  {
   "cell_type": "code",
   "execution_count": 97,
   "metadata": {
    "collapsed": true,
    "slideshow": {
     "slide_type": "skip"
    }
   },
   "outputs": [],
   "source": [
    "def nao_particula(palavra):\n",
    "    return (palavra not in ['de', 'da', 'do'])"
   ]
  },
  {
   "cell_type": "code",
   "execution_count": 98,
   "metadata": {
    "collapsed": true,
    "slideshow": {
     "slide_type": "skip"
    }
   },
   "outputs": [],
   "source": [
    "nome_simples = list(filter(nao_particula, nome.split()))"
   ]
  },
  {
   "cell_type": "code",
   "execution_count": 99,
   "metadata": {
    "collapsed": true,
    "slideshow": {
     "slide_type": "skip"
    }
   },
   "outputs": [],
   "source": [
    "def maiuscula (palavra):\n",
    "    return palavra.capitalize()"
   ]
  },
  {
   "cell_type": "code",
   "execution_count": 100,
   "metadata": {
    "collapsed": true,
    "slideshow": {
     "slide_type": "skip"
    }
   },
   "outputs": [],
   "source": [
    "nome_corrigido = list(map(maiuscula, nome_simples))"
   ]
  },
  {
   "cell_type": "code",
   "execution_count": 101,
   "metadata": {
    "slideshow": {
     "slide_type": "-"
    }
   },
   "outputs": [
    {
     "output_type": "stream",
     "name": "stdout",
     "text": [
      "ana maria da silva\n"
     ]
    }
   ],
   "source": [
    "print(nome)"
   ]
  },
  {
   "cell_type": "code",
   "execution_count": 102,
   "metadata": {
    "slideshow": {
     "slide_type": "-"
    }
   },
   "outputs": [
    {
     "output_type": "stream",
     "name": "stdout",
     "text": [
      "['Ana', 'Maria', 'Silva']\n"
     ]
    }
   ],
   "source": [
    "print(nome_corrigido)"
   ]
  }
 ],
 "metadata": {
  "celltoolbar": "Slideshow",
  "kernelspec": {
   "display_name": "Python 3",
   "language": "python",
   "name": "python3"
  },
  "language_info": {
   "codemirror_mode": {
    "name": "ipython",
    "version": 3
   },
   "file_extension": ".py",
   "mimetype": "text/x-python",
   "name": "python",
   "nbconvert_exporter": "python",
   "pygments_lexer": "ipython3",
   "version": "3.7.9-final"
  }
 },
 "nbformat": 4,
 "nbformat_minor": 1
}