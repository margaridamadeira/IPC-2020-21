{
 "cells": [
  {
   "cell_type": "markdown",
   "metadata": {},
   "source": [
    "## Introdução ao SymPy\n",
    "\n",
    "(Fonte: http://www.sympy.org/en/index.html)\n",
    "\n",
    "Um sistema de computação algébrica e simbólica - em inglês *CAS (Computer Algebra System)* é um software com a capacidade de manipular expressões matemáticas em forma simbólica e capacidade de realizar cálculos numéricos sobre as expressões matemáticas.\n",
    "\n",
    "**Sympy** é um módulo em Python para computação simbólica.\n",
    "\n",
    "Não é o único, __[vejamos uma lista](https://en.wikipedia.org/wiki/List_of_computer_algebra_systems) __\n",
    "\n",
    "### Panorâmica geral\n"
   ]
  },
  {
   "cell_type": "code",
   "execution_count": 1,
   "metadata": {},
   "outputs": [],
   "source": [
    "from sympy import *"
   ]
  },
  {
   "cell_type": "code",
   "execution_count": 2,
   "metadata": {},
   "outputs": [],
   "source": [
    "x, y, z, t = symbols('x y z t')"
   ]
  },
  {
   "cell_type": "code",
   "execution_count": 3,
   "metadata": {},
   "outputs": [],
   "source": [
    "k, m, n = symbols('k m n', integer=True)"
   ]
  },
  {
   "cell_type": "code",
   "execution_count": 4,
   "metadata": {},
   "outputs": [],
   "source": [
    "f, g, h = symbols('f g h', cls=Function)"
   ]
  },
  {
   "cell_type": "code",
   "execution_count": 5,
   "metadata": {},
   "outputs": [],
   "source": [
    "init_printing()"
   ]
  },
  {
   "cell_type": "code",
   "execution_count": 6,
   "metadata": {},
   "outputs": [
    {
     "data": {
      "image/png": "[encoded data removed]",
      "text/latex": [
       "$\\displaystyle 1$"
      ],
      "text/plain": [
       "1"
      ]
     },
     "execution_count": 6,
     "metadata": {
      "filenames": {
       "image/png": "/home/mmadeira/Documents/ServDocente/online/IPC-2020-21/_build/jupyter_execute/docs/S13/Apresent_sympy_6_0.png"
      }
     },
     "output_type": "execute_result"
    }
   ],
   "source": [
    "limit(sin(x)/x, x, 0)"
   ]
  },
  {
   "cell_type": "code",
   "execution_count": 7,
   "metadata": {},
   "outputs": [
    {
     "data": {
      "image/png": "[encoded data removed]",
      "text/latex": [
       "$\\displaystyle \\log{\\left(x \\right)}$"
      ],
      "text/plain": [
       "log(x)"
      ]
     },
     "execution_count": 7,
     "metadata": {
      "filenames": {
       "image/png": "/home/mmadeira/Documents/ServDocente/online/IPC-2020-21/_build/jupyter_execute/docs/S13/Apresent_sympy_7_0.png"
      }
     },
     "output_type": "execute_result"
    }
   ],
   "source": [
    "integrate(1/x, x)"
   ]
  },
  {
   "cell_type": "code",
   "execution_count": 8,
   "metadata": {},
   "outputs": [],
   "source": [
    "a = Integral((3*x**2 + x), x)"
   ]
  },
  {
   "cell_type": "code",
   "execution_count": 9,
   "metadata": {},
   "outputs": [
    {
     "data": {
      "image/png": "[encoded data removed]",
      "text/latex": [
       "$\\displaystyle \\int \\left(3 x^{2} + x\\right)\\, dx = x^{3} + \\frac{x^{2}}{2}$"
      ],
      "text/plain": [
       "⌠                       2\n",
       "⎮ ⎛   2    ⎞       3   x \n",
       "⎮ ⎝3⋅x  + x⎠ dx = x  + ──\n",
       "⌡                      2 "
      ]
     },
     "execution_count": 9,
     "metadata": {
      "filenames": {
       "image/png": "/home/mmadeira/Documents/ServDocente/online/IPC-2020-21/_build/jupyter_execute/docs/S13/Apresent_sympy_9_0.png"
      }
     },
     "output_type": "execute_result"
    }
   ],
   "source": [
    "Eq(a, a.doit())"
   ]
  },
  {
   "cell_type": "code",
   "execution_count": 10,
   "metadata": {},
   "outputs": [],
   "source": [
    "a = Integral (cos(x) * exp(x), x)"
   ]
  },
  {
   "cell_type": "code",
   "execution_count": 11,
   "metadata": {},
   "outputs": [
    {
     "data": {
      "image/png": "[encoded data removed]",
      "text/latex": [
       "$\\displaystyle \\int e^{x} \\cos{\\left(x \\right)}\\, dx = \\frac{e^{x} \\sin{\\left(x \\right)}}{2} + \\frac{e^{x} \\cos{\\left(x \\right)}}{2}$"
      ],
      "text/plain": [
       "⌠                 x           x       \n",
       "⎮  x             ℯ ⋅sin(x)   ℯ ⋅cos(x)\n",
       "⎮ ℯ ⋅cos(x) dx = ───────── + ─────────\n",
       "⌡                    2           2    "
      ]
     },
     "execution_count": 11,
     "metadata": {
      "filenames": {
       "image/png": "/home/mmadeira/Documents/ServDocente/online/IPC-2020-21/_build/jupyter_execute/docs/S13/Apresent_sympy_11_0.png"
      }
     },
     "output_type": "execute_result"
    }
   ],
   "source": [
    "Eq(a, a.doit())"
   ]
  },
  {
   "cell_type": "markdown",
   "metadata": {},
   "source": [
    "#### Recursos online"
   ]
  },
  {
   "cell_type": "markdown",
   "metadata": {},
   "source": [
    "+ __[SymPy Gamma](http://gamma.sympy.org/)__\n",
    "\n",
    "+ __[SymPy Online Shell](http://live.sympy.org/)__\n",
    "\n",
    "+ __[SciPy 2013 SymPy Tutorial](http://certik.github.io/scipy-2013-tutorial/html/tutorial/intro.html)__"
   ]
  },
  {
   "cell_type": "markdown",
   "metadata": {},
   "source": [
    "### Visão gradual"
   ]
  },
  {
   "cell_type": "code",
   "execution_count": 12,
   "metadata": {},
   "outputs": [
    {
     "data": {
      "image/png": "[encoded data removed]",
      "text/latex": [
       "$\\displaystyle 3.0$"
      ],
      "text/plain": [
       "3.0"
      ]
     },
     "execution_count": 12,
     "metadata": {
      "filenames": {
       "image/png": "/home/mmadeira/Documents/ServDocente/online/IPC-2020-21/_build/jupyter_execute/docs/S13/Apresent_sympy_15_0.png"
      }
     },
     "output_type": "execute_result"
    }
   ],
   "source": [
    "# Comecemos com um exemplo. \n",
    "# Se quisessemos apenas calcular uma raíz quadrada poderíamos fazer\n",
    "import math\n",
    "math.sqrt(9)"
   ]
  },
  {
   "cell_type": "code",
   "execution_count": 13,
   "metadata": {},
   "outputs": [
    {
     "data": {
      "image/png": "[encoded data removed]",
      "text/latex": [
       "$\\displaystyle 2.8284271247461903$"
      ],
      "text/plain": [
       "2.8284271247461903"
      ]
     },
     "execution_count": 13,
     "metadata": {
      "filenames": {
       "image/png": "/home/mmadeira/Documents/ServDocente/online/IPC-2020-21/_build/jupyter_execute/docs/S13/Apresent_sympy_16_0.png"
      }
     },
     "output_type": "execute_result"
    }
   ],
   "source": [
    "# o que é útil para quadrados perfeitos, como 9. \n",
    "#\n",
    "# Para um valor que não seja um quadrado perfeito, podemos ter\n",
    "math.sqrt(8)"
   ]
  },
  {
   "cell_type": "code",
   "execution_count": 14,
   "metadata": {},
   "outputs": [
    {
     "data": {
      "image/png": "[encoded data removed]",
      "text/latex": [
       "$\\displaystyle 2 \\sqrt{2}$"
      ],
      "text/plain": [
       "2⋅√2"
      ]
     },
     "execution_count": 14,
     "metadata": {
      "filenames": {
       "image/png": "/home/mmadeira/Documents/ServDocente/online/IPC-2020-21/_build/jupyter_execute/docs/S13/Apresent_sympy_17_0.png"
      }
     },
     "output_type": "execute_result"
    }
   ],
   "source": [
    "# Com o sympy, por omissão temos a versão simplificada\n",
    "# import sympy\n",
    "sqrt(8)"
   ]
  },
  {
   "cell_type": "code",
   "execution_count": 15,
   "metadata": {},
   "outputs": [],
   "source": [
    "# Podemos ter expressões\n",
    "expr = x + 1\n",
    "expr2 = expr ** 2"
   ]
  },
  {
   "cell_type": "code",
   "execution_count": 16,
   "metadata": {},
   "outputs": [
    {
     "name": "stdout",
     "output_type": "stream",
     "text": [
      "(x + 1)**2\n"
     ]
    }
   ],
   "source": [
    "# A expressão expr2 é mantida simplificada\n",
    "print(expr2)"
   ]
  },
  {
   "cell_type": "code",
   "execution_count": 17,
   "metadata": {},
   "outputs": [
    {
     "data": {
      "image/png": "[encoded data removed]",
      "text/latex": [
       "$\\displaystyle \\left(x + 1\\right)^{2}$"
      ],
      "text/plain": [
       "       2\n",
       "(x + 1) "
      ]
     },
     "execution_count": 17,
     "metadata": {
      "filenames": {
       "image/png": "/home/mmadeira/Documents/ServDocente/online/IPC-2020-21/_build/jupyter_execute/docs/S13/Apresent_sympy_20_0.png"
      }
     },
     "output_type": "execute_result"
    }
   ],
   "source": [
    "# poque podemos pretender tê-la fatorizada\n",
    "factor(expr2)"
   ]
  },
  {
   "cell_type": "code",
   "execution_count": 18,
   "metadata": {},
   "outputs": [
    {
     "data": {
      "image/png": "[encoded data removed]",
      "text/latex": [
       "$\\displaystyle x^{2} + 2 x + 1$"
      ],
      "text/plain": [
       " 2          \n",
       "x  + 2⋅x + 1"
      ]
     },
     "execution_count": 18,
     "metadata": {
      "filenames": {
       "image/png": "/home/mmadeira/Documents/ServDocente/online/IPC-2020-21/_build/jupyter_execute/docs/S13/Apresent_sympy_21_0.png"
      }
     },
     "output_type": "execute_result"
    }
   ],
   "source": [
    "# ou expandida\n",
    "expand(expr2)"
   ]
  },
  {
   "cell_type": "code",
   "execution_count": 19,
   "metadata": {},
   "outputs": [
    {
     "data": {
      "image/png": "[encoded data removed]",
      "text/latex": [
       "$\\displaystyle 25$"
      ],
      "text/plain": [
       "25"
      ]
     },
     "execution_count": 19,
     "metadata": {
      "filenames": {
       "image/png": "/home/mmadeira/Documents/ServDocente/online/IPC-2020-21/_build/jupyter_execute/docs/S13/Apresent_sympy_22_0.png"
      }
     },
     "output_type": "execute_result"
    }
   ],
   "source": [
    "# ou escolher avaliar a expressão para x = 4\n",
    "expr2.subs(x, 4)\n"
   ]
  },
  {
   "cell_type": "code",
   "execution_count": 20,
   "metadata": {},
   "outputs": [
    {
     "name": "stdout",
     "output_type": "stream",
     "text": [
      "2*x + (x + 1)**2\n"
     ]
    }
   ],
   "source": [
    "expr3 = (expr2 + 2*x)\n",
    "print(expr3)\n"
   ]
  },
  {
   "cell_type": "code",
   "execution_count": 21,
   "metadata": {},
   "outputs": [
    {
     "data": {
      "image/png": "[encoded data removed]",
      "text/latex": [
       "$\\displaystyle x^{2} + 4 x + 1$"
      ],
      "text/plain": [
       " 2          \n",
       "x  + 4⋅x + 1"
      ]
     },
     "execution_count": 21,
     "metadata": {
      "filenames": {
       "image/png": "/home/mmadeira/Documents/ServDocente/online/IPC-2020-21/_build/jupyter_execute/docs/S13/Apresent_sympy_24_0.png"
      }
     },
     "output_type": "execute_result"
    }
   ],
   "source": [
    "expand(expr3)"
   ]
  },
  {
   "cell_type": "markdown",
   "metadata": {},
   "source": [
    "#### Outros exemplos\n",
    "\n",
    "__[Computação simbólica avançada](http://certik.github.io/scipy-2013-tutorial/html/tutorial/intro.html#the-power-of-symbolic-computation)__"
   ]
  },
  {
   "cell_type": "markdown",
   "metadata": {},
   "source": [
    "#### Cuidados a ter\n",
    "\n",
    "Na criação de módulos há que ter em atenção a distinção entre as entidades e métodos padrão em Python e símbolos e funções de lógica simbólica."
   ]
  },
  {
   "cell_type": "code",
   "execution_count": 22,
   "metadata": {},
   "outputs": [],
   "source": [
    "# %reset"
   ]
  },
  {
   "cell_type": "code",
   "execution_count": 23,
   "metadata": {},
   "outputs": [],
   "source": [
    "from sympy import *"
   ]
  },
  {
   "cell_type": "code",
   "execution_count": 24,
   "metadata": {},
   "outputs": [
    {
     "name": "stdout",
     "output_type": "stream",
     "text": [
      "2\n"
     ]
    }
   ],
   "source": [
    "# Posso fazer\n",
    "y = 1\n",
    "expr1 = y + 1\n",
    "print(expr1)"
   ]
  },
  {
   "cell_type": "code",
   "execution_count": 25,
   "metadata": {},
   "outputs": [],
   "source": [
    "# Mas se fizer\n",
    "try:\n",
    "    expr = x + 1 # como x é uma variável, ainda não definida, terei um erro\n",
    "except NameError as err:   \n",
    "    print (err)"
   ]
  },
  {
   "cell_type": "code",
   "execution_count": 26,
   "metadata": {},
   "outputs": [],
   "source": [
    "# É necessário indicar que x é um símbolo\n",
    "x = symbols('x')"
   ]
  },
  {
   "cell_type": "code",
   "execution_count": 27,
   "metadata": {},
   "outputs": [],
   "source": [
    "# e então já posso definir a expressão\n",
    "expr = x + 1"
   ]
  },
  {
   "cell_type": "code",
   "execution_count": 28,
   "metadata": {},
   "outputs": [
    {
     "name": "stdout",
     "output_type": "stream",
     "text": [
      "x + 1\n"
     ]
    }
   ],
   "source": [
    "print(expr)"
   ]
  },
  {
   "cell_type": "code",
   "execution_count": 29,
   "metadata": {},
   "outputs": [
    {
     "data": {
      "image/png": "[encoded data removed]",
      "text/latex": [
       "$\\displaystyle 3$"
      ],
      "text/plain": [
       "3"
      ]
     },
     "execution_count": 29,
     "metadata": {
      "filenames": {
       "image/png": "/home/mmadeira/Documents/ServDocente/online/IPC-2020-21/_build/jupyter_execute/docs/S13/Apresent_sympy_34_0.png"
      }
     },
     "output_type": "execute_result"
    }
   ],
   "source": [
    "# Se pretender que a expressão expr seja avaliada para  x = 2, \n",
    "# devo substituir x por 2 na expressão\n",
    "expr.subs (x, 2)"
   ]
  },
  {
   "cell_type": "markdown",
   "metadata": {},
   "source": [
    "Há também que ter algum cuidado com os tipos de dados. \n",
    "\n",
    "Ao operarmos:\n",
    "+ um tipo de Python com um tipo de Python, obtemos um tipo de Python\n",
    "+ um tipo de Python com um tipo de SymPy, obtemos um tipo de SymPy"
   ]
  },
  {
   "cell_type": "code",
   "execution_count": 30,
   "metadata": {},
   "outputs": [
    {
     "data": {
      "text/plain": [
       "int"
      ]
     },
     "execution_count": 30,
     "metadata": {},
     "output_type": "execute_result"
    }
   ],
   "source": [
    "type(int (1) + 1)"
   ]
  },
  {
   "cell_type": "code",
   "execution_count": 31,
   "metadata": {},
   "outputs": [
    {
     "data": {
      "text/plain": [
       "sympy.core.numbers.Integer"
      ]
     },
     "execution_count": 31,
     "metadata": {},
     "output_type": "execute_result"
    }
   ],
   "source": [
    "type(Integer (1) + 1)"
   ]
  },
  {
   "cell_type": "code",
   "execution_count": 32,
   "metadata": {},
   "outputs": [
    {
     "data": {
      "image/png": "[encoded data removed]",
      "text/latex": [
       "$\\displaystyle \\left( 0.5, \\  0\\right)$"
      ],
      "text/plain": [
       "(0.5, 0)"
      ]
     },
     "execution_count": 32,
     "metadata": {
      "filenames": {
       "image/png": "/home/mmadeira/Documents/ServDocente/online/IPC-2020-21/_build/jupyter_execute/docs/S13/Apresent_sympy_38_0.png"
      }
     },
     "output_type": "execute_result"
    }
   ],
   "source": [
    "1/2, 1//2"
   ]
  },
  {
   "cell_type": "code",
   "execution_count": 33,
   "metadata": {},
   "outputs": [
    {
     "data": {
      "image/png": "[encoded data removed]",
      "text/latex": [
       "$\\displaystyle \\frac{1}{2}$"
      ],
      "text/plain": [
       "1/2"
      ]
     },
     "execution_count": 33,
     "metadata": {
      "filenames": {
       "image/png": "/home/mmadeira/Documents/ServDocente/online/IPC-2020-21/_build/jupyter_execute/docs/S13/Apresent_sympy_39_0.png"
      }
     },
     "output_type": "execute_result"
    }
   ],
   "source": [
    "Integer(1)/2"
   ]
  },
  {
   "cell_type": "code",
   "execution_count": 34,
   "metadata": {},
   "outputs": [
    {
     "data": {
      "image/png": "[encoded data removed]",
      "text/latex": [
       "$\\displaystyle 1.5$"
      ],
      "text/plain": [
       "1.5"
      ]
     },
     "execution_count": 34,
     "metadata": {
      "filenames": {
       "image/png": "/home/mmadeira/Documents/ServDocente/online/IPC-2020-21/_build/jupyter_execute/docs/S13/Apresent_sympy_40_0.png"
      }
     },
     "output_type": "execute_result"
    }
   ],
   "source": [
    "1/2 + 1"
   ]
  },
  {
   "cell_type": "code",
   "execution_count": 35,
   "metadata": {},
   "outputs": [
    {
     "data": {
      "image/png": "[encoded data removed]",
      "text/latex": [
       "$\\displaystyle \\frac{3}{2}$"
      ],
      "text/plain": [
       "3/2"
      ]
     },
     "execution_count": 35,
     "metadata": {
      "filenames": {
       "image/png": "/home/mmadeira/Documents/ServDocente/online/IPC-2020-21/_build/jupyter_execute/docs/S13/Apresent_sympy_41_0.png"
      }
     },
     "output_type": "execute_result"
    }
   ],
   "source": [
    "Integer(1)/2 + 1 "
   ]
  },
  {
   "cell_type": "code",
   "execution_count": 36,
   "metadata": {},
   "outputs": [
    {
     "data": {
      "text/plain": [
       "True"
      ]
     },
     "execution_count": 36,
     "metadata": {},
     "output_type": "execute_result"
    }
   ],
   "source": [
    "# E porque estamos a falar da mesma quantidade\n",
    "1/2 + 1 == Integer(1)/2 + 1 "
   ]
  },
  {
   "cell_type": "markdown",
   "metadata": {},
   "source": [
    "### Operações básicas\n",
    "#### Substituição"
   ]
  },
  {
   "cell_type": "code",
   "execution_count": 37,
   "metadata": {},
   "outputs": [],
   "source": [
    "# %reset"
   ]
  },
  {
   "cell_type": "code",
   "execution_count": 38,
   "metadata": {},
   "outputs": [],
   "source": [
    "from sympy import *"
   ]
  },
  {
   "cell_type": "code",
   "execution_count": 39,
   "metadata": {},
   "outputs": [
    {
     "data": {
      "image/png": "[encoded data removed]",
      "text/latex": [
       "$\\displaystyle 25$"
      ],
      "text/plain": [
       "25"
      ]
     },
     "execution_count": 39,
     "metadata": {
      "filenames": {
       "image/png": "/home/mmadeira/Documents/ServDocente/online/IPC-2020-21/_build/jupyter_execute/docs/S13/Apresent_sympy_46_0.png"
      }
     },
     "output_type": "execute_result"
    }
   ],
   "source": [
    "# Já foi referida a substituição de um símbolo por uma constante\n",
    "x, y = symbols('x y')\n",
    "expr = (x + 1)**2\n",
    "expr.subs(x, 4)"
   ]
  },
  {
   "cell_type": "code",
   "execution_count": 40,
   "metadata": {},
   "outputs": [],
   "source": [
    "# Mas a substituição é mais versátil\n",
    "expr2 = expr.subs(x, y**2)"
   ]
  },
  {
   "cell_type": "code",
   "execution_count": 41,
   "metadata": {},
   "outputs": [
    {
     "data": {
      "image/png": "[encoded data removed]",
      "text/latex": [
       "$\\displaystyle \\left(y^{2} + 1\\right)^{2}$"
      ],
      "text/plain": [
       "        2\n",
       "⎛ 2    ⎞ \n",
       "⎝y  + 1⎠ "
      ]
     },
     "execution_count": 41,
     "metadata": {
      "filenames": {
       "image/png": "/home/mmadeira/Documents/ServDocente/online/IPC-2020-21/_build/jupyter_execute/docs/S13/Apresent_sympy_48_0.png"
      }
     },
     "output_type": "execute_result"
    }
   ],
   "source": [
    "expr2"
   ]
  },
  {
   "cell_type": "code",
   "execution_count": 42,
   "metadata": {},
   "outputs": [
    {
     "data": {
      "image/png": "[encoded data removed]",
      "text/latex": [
       "$\\displaystyle y^{4} + 2 y^{2} + 1$"
      ],
      "text/plain": [
       " 4      2    \n",
       "y  + 2⋅y  + 1"
      ]
     },
     "execution_count": 42,
     "metadata": {
      "filenames": {
       "image/png": "/home/mmadeira/Documents/ServDocente/online/IPC-2020-21/_build/jupyter_execute/docs/S13/Apresent_sympy_49_0.png"
      }
     },
     "output_type": "execute_result"
    }
   ],
   "source": [
    "expand(expr2)"
   ]
  },
  {
   "cell_type": "code",
   "execution_count": 43,
   "metadata": {},
   "outputs": [],
   "source": [
    "# Como as expressões são imutáveis, \n",
    "expr = x**y"
   ]
  },
  {
   "cell_type": "code",
   "execution_count": 44,
   "metadata": {},
   "outputs": [
    {
     "data": {
      "image/png": "[encoded data removed]",
      "text/latex": [
       "$\\displaystyle \\log{\\left(x \\right)}^{y}$"
      ],
      "text/plain": [
       "   y   \n",
       "log (x)"
      ]
     },
     "execution_count": 44,
     "metadata": {
      "filenames": {
       "image/png": "/home/mmadeira/Documents/ServDocente/online/IPC-2020-21/_build/jupyter_execute/docs/S13/Apresent_sympy_51_0.png"
      }
     },
     "output_type": "execute_result"
    }
   ],
   "source": [
    "# a substituição dá origem a uma nova expressão \n",
    "expr.subs(x, log(x))"
   ]
  },
  {
   "cell_type": "code",
   "execution_count": 45,
   "metadata": {},
   "outputs": [
    {
     "data": {
      "image/png": "[encoded data removed]",
      "text/latex": [
       "$\\displaystyle x^{y}$"
      ],
      "text/plain": [
       " y\n",
       "x "
      ]
     },
     "execution_count": 45,
     "metadata": {
      "filenames": {
       "image/png": "/home/mmadeira/Documents/ServDocente/online/IPC-2020-21/_build/jupyter_execute/docs/S13/Apresent_sympy_52_0.png"
      }
     },
     "output_type": "execute_result"
    }
   ],
   "source": [
    "# mas a expressão mantêm-se inalterada\n",
    "expr"
   ]
  },
  {
   "cell_type": "code",
   "execution_count": 46,
   "metadata": {},
   "outputs": [],
   "source": [
    "# Podemos, no entanto, redefinir a expressão\n",
    "expr1 = expr.subs(x, sin(x))"
   ]
  },
  {
   "cell_type": "code",
   "execution_count": 47,
   "metadata": {},
   "outputs": [],
   "source": [
    "expr1 = expr1.subs(y, 2)"
   ]
  },
  {
   "cell_type": "code",
   "execution_count": 48,
   "metadata": {},
   "outputs": [
    {
     "data": {
      "image/png": "[encoded data removed]",
      "text/latex": [
       "$\\displaystyle \\sin^{2}{\\left(x \\right)}$"
      ],
      "text/plain": [
       "   2   \n",
       "sin (x)"
      ]
     },
     "execution_count": 48,
     "metadata": {
      "filenames": {
       "image/png": "/home/mmadeira/Documents/ServDocente/online/IPC-2020-21/_build/jupyter_execute/docs/S13/Apresent_sympy_55_0.png"
      }
     },
     "output_type": "execute_result"
    }
   ],
   "source": [
    "expr1"
   ]
  },
  {
   "cell_type": "code",
   "execution_count": 49,
   "metadata": {},
   "outputs": [],
   "source": [
    "#Poderíamos ter feito as substituições de uma só vez\n",
    "expr2 = expr.subs([(x, sin(x)), (y, 2)])"
   ]
  },
  {
   "cell_type": "code",
   "execution_count": 50,
   "metadata": {},
   "outputs": [
    {
     "data": {
      "text/plain": [
       "True"
      ]
     },
     "execution_count": 50,
     "metadata": {},
     "output_type": "execute_result"
    }
   ],
   "source": [
    "expr1 == expr2"
   ]
  },
  {
   "cell_type": "markdown",
   "metadata": {},
   "source": [
    "#### Expressões simbólicas a partir de strings"
   ]
  },
  {
   "cell_type": "code",
   "execution_count": 51,
   "metadata": {},
   "outputs": [
    {
     "data": {
      "image/png": "[encoded data removed]",
      "text/latex": [
       "$\\displaystyle x^{2} + 3 x - \\frac{1}{2}$"
      ],
      "text/plain": [
       " 2         1\n",
       "x  + 3⋅x - ─\n",
       "           2"
      ]
     },
     "execution_count": 51,
     "metadata": {
      "filenames": {
       "image/png": "/home/mmadeira/Documents/ServDocente/online/IPC-2020-21/_build/jupyter_execute/docs/S13/Apresent_sympy_59_0.png"
      }
     },
     "output_type": "execute_result"
    }
   ],
   "source": [
    "# As strings de python podem ser convertidas em expressões simbólicas\n",
    "str_expr = \"x**2 + 3*x - 1/2\"\n",
    "expr_exempl = sympify(str_expr)\n",
    "expr_exempl"
   ]
  },
  {
   "cell_type": "code",
   "execution_count": 52,
   "metadata": {},
   "outputs": [
    {
     "data": {
      "image/png": "[encoded data removed]",
      "text/latex": [
       "$\\displaystyle \\frac{7}{2}$"
      ],
      "text/plain": [
       "7/2"
      ]
     },
     "execution_count": 52,
     "metadata": {
      "filenames": {
       "image/png": "/home/mmadeira/Documents/ServDocente/online/IPC-2020-21/_build/jupyter_execute/docs/S13/Apresent_sympy_60_0.png"
      }
     },
     "output_type": "execute_result"
    }
   ],
   "source": [
    "expr_exempl.subs(x, -4)"
   ]
  },
  {
   "cell_type": "markdown",
   "metadata": {},
   "source": [
    "#### Converter um valor para float(vírgula flutuante)"
   ]
  },
  {
   "cell_type": "code",
   "execution_count": 53,
   "metadata": {},
   "outputs": [
    {
     "data": {
      "image/png": "[encoded data removed]",
      "text/latex": [
       "$\\displaystyle 3.5$"
      ],
      "text/plain": [
       "3.5"
      ]
     },
     "execution_count": 53,
     "metadata": {
      "filenames": {
       "image/png": "/home/mmadeira/Documents/ServDocente/online/IPC-2020-21/_build/jupyter_execute/docs/S13/Apresent_sympy_62_0.png"
      }
     },
     "output_type": "execute_result"
    }
   ],
   "source": [
    "expr_exempl.subs(x, -4).evalf(2)"
   ]
  },
  {
   "cell_type": "code",
   "execution_count": 54,
   "metadata": {},
   "outputs": [
    {
     "data": {
      "image/png": "[encoded data removed]",
      "text/latex": [
       "$\\displaystyle 9.5$"
      ],
      "text/plain": [
       "9.5"
      ]
     },
     "execution_count": 54,
     "metadata": {
      "filenames": {
       "image/png": "/home/mmadeira/Documents/ServDocente/online/IPC-2020-21/_build/jupyter_execute/docs/S13/Apresent_sympy_63_0.png"
      }
     },
     "output_type": "execute_result"
    }
   ],
   "source": [
    "expr_exempl.evalf(2, subs={x: -5})"
   ]
  },
  {
   "cell_type": "markdown",
   "metadata": {},
   "source": [
    "### Simplificação\n",
    "\n",
    "A função *simplify* tenta traduzir as expressões na sua forma mais simples."
   ]
  },
  {
   "cell_type": "code",
   "execution_count": 55,
   "metadata": {},
   "outputs": [],
   "source": [
    "# %reset"
   ]
  },
  {
   "cell_type": "code",
   "execution_count": 56,
   "metadata": {},
   "outputs": [],
   "source": [
    "from sympy import *\n",
    "x, y, z = symbols('x y z')\n",
    "init_printing(use_unicode=True)\n"
   ]
  },
  {
   "cell_type": "code",
   "execution_count": 57,
   "metadata": {},
   "outputs": [
    {
     "data": {
      "image/png": "[encoded data removed]",
      "text/latex": [
       "$\\displaystyle \\sin^{2}{\\left(x \\right)} + \\cos^{2}{\\left(x \\right)}$"
      ],
      "text/plain": [
       "   2         2   \n",
       "sin (x) + cos (x)"
      ]
     },
     "execution_count": 57,
     "metadata": {
      "filenames": {
       "image/png": "/home/mmadeira/Documents/ServDocente/online/IPC-2020-21/_build/jupyter_execute/docs/S13/Apresent_sympy_67_0.png"
      }
     },
     "output_type": "execute_result"
    }
   ],
   "source": [
    "expr = sin(x)**2 + cos(x)**2 ; expr "
   ]
  },
  {
   "cell_type": "code",
   "execution_count": 58,
   "metadata": {},
   "outputs": [
    {
     "data": {
      "image/png": "[encoded data removed]",
      "text/latex": [
       "$\\displaystyle 1$"
      ],
      "text/plain": [
       "1"
      ]
     },
     "execution_count": 58,
     "metadata": {
      "filenames": {
       "image/png": "/home/mmadeira/Documents/ServDocente/online/IPC-2020-21/_build/jupyter_execute/docs/S13/Apresent_sympy_68_0.png"
      }
     },
     "output_type": "execute_result"
    }
   ],
   "source": [
    "simplify(expr)"
   ]
  },
  {
   "cell_type": "code",
   "execution_count": 59,
   "metadata": {},
   "outputs": [
    {
     "data": {
      "image/png": "[encoded data removed]",
      "text/latex": [
       "$\\displaystyle \\frac{x^{3} + x^{2} - x - 1}{x^{2} + 2 x + 1}$"
      ],
      "text/plain": [
       " 3    2        \n",
       "x  + x  - x - 1\n",
       "───────────────\n",
       "   2           \n",
       "  x  + 2⋅x + 1 "
      ]
     },
     "execution_count": 59,
     "metadata": {
      "filenames": {
       "image/png": "/home/mmadeira/Documents/ServDocente/online/IPC-2020-21/_build/jupyter_execute/docs/S13/Apresent_sympy_69_0.png"
      }
     },
     "output_type": "execute_result"
    }
   ],
   "source": [
    "expr = (x**3 + x**2 - x - 1)/(x**2 + 2*x + 1); expr"
   ]
  },
  {
   "cell_type": "code",
   "execution_count": 60,
   "metadata": {},
   "outputs": [
    {
     "data": {
      "image/png": "[encoded data removed]",
      "text/latex": [
       "$\\displaystyle x - 1$"
      ],
      "text/plain": [
       "x - 1"
      ]
     },
     "execution_count": 60,
     "metadata": {
      "filenames": {
       "image/png": "/home/mmadeira/Documents/ServDocente/online/IPC-2020-21/_build/jupyter_execute/docs/S13/Apresent_sympy_70_0.png"
      }
     },
     "output_type": "execute_result"
    }
   ],
   "source": [
    "simplify(expr)"
   ]
  },
  {
   "cell_type": "markdown",
   "metadata": {},
   "source": [
    "### Simplificação de funções polinomiais/racionais\n",
    "#### expand"
   ]
  },
  {
   "cell_type": "code",
   "execution_count": 61,
   "metadata": {},
   "outputs": [
    {
     "data": {
      "image/png": "[encoded data removed]",
      "text/latex": [
       "$\\displaystyle x^{2} + 2 x + 1$"
      ],
      "text/plain": [
       " 2          \n",
       "x  + 2⋅x + 1"
      ]
     },
     "execution_count": 61,
     "metadata": {
      "filenames": {
       "image/png": "/home/mmadeira/Documents/ServDocente/online/IPC-2020-21/_build/jupyter_execute/docs/S13/Apresent_sympy_72_0.png"
      }
     },
     "output_type": "execute_result"
    }
   ],
   "source": [
    "expand((x + 1)**2)"
   ]
  },
  {
   "cell_type": "code",
   "execution_count": 62,
   "metadata": {},
   "outputs": [
    {
     "data": {
      "image/png": "[encoded data removed]",
      "text/latex": [
       "$\\displaystyle x^{2} - x - 6$"
      ],
      "text/plain": [
       " 2        \n",
       "x  - x - 6"
      ]
     },
     "execution_count": 62,
     "metadata": {
      "filenames": {
       "image/png": "/home/mmadeira/Documents/ServDocente/online/IPC-2020-21/_build/jupyter_execute/docs/S13/Apresent_sympy_73_0.png"
      }
     },
     "output_type": "execute_result"
    }
   ],
   "source": [
    "expand((x + 2)*(x - 3))"
   ]
  },
  {
   "cell_type": "code",
   "execution_count": 63,
   "metadata": {},
   "outputs": [
    {
     "data": {
      "image/png": "[encoded data removed]",
      "text/latex": [
       "$\\displaystyle -2$"
      ],
      "text/plain": [
       "-2"
      ]
     },
     "execution_count": 63,
     "metadata": {
      "filenames": {
       "image/png": "/home/mmadeira/Documents/ServDocente/online/IPC-2020-21/_build/jupyter_execute/docs/S13/Apresent_sympy_74_0.png"
      }
     },
     "output_type": "execute_result"
    }
   ],
   "source": [
    "expand((x + 1)*(x - 2) - (x - 1)*x)"
   ]
  },
  {
   "cell_type": "markdown",
   "metadata": {},
   "source": [
    "#### factor"
   ]
  },
  {
   "cell_type": "code",
   "execution_count": 64,
   "metadata": {},
   "outputs": [
    {
     "data": {
      "image/png": "[encoded data removed]",
      "text/latex": [
       "$\\displaystyle \\left(x - 1\\right) \\left(x^{2} + 1\\right)$"
      ],
      "text/plain": [
       "        ⎛ 2    ⎞\n",
       "(x - 1)⋅⎝x  + 1⎠"
      ]
     },
     "execution_count": 64,
     "metadata": {
      "filenames": {
       "image/png": "/home/mmadeira/Documents/ServDocente/online/IPC-2020-21/_build/jupyter_execute/docs/S13/Apresent_sympy_76_0.png"
      }
     },
     "output_type": "execute_result"
    }
   ],
   "source": [
    "factor(x**3 - x**2 + x - 1)"
   ]
  },
  {
   "cell_type": "code",
   "execution_count": 65,
   "metadata": {},
   "outputs": [
    {
     "data": {
      "image/png": "[encoded data removed]",
      "text/latex": [
       "$\\displaystyle z \\left(x + 2 y\\right)^{2}$"
      ],
      "text/plain": [
       "           2\n",
       "z⋅(x + 2⋅y) "
      ]
     },
     "execution_count": 65,
     "metadata": {
      "filenames": {
       "image/png": "/home/mmadeira/Documents/ServDocente/online/IPC-2020-21/_build/jupyter_execute/docs/S13/Apresent_sympy_77_0.png"
      }
     },
     "output_type": "execute_result"
    }
   ],
   "source": [
    "factor(x**2*z + 4*x*y*z + 4*y**2*z)"
   ]
  },
  {
   "cell_type": "markdown",
   "metadata": {},
   "source": [
    "#### collect"
   ]
  },
  {
   "cell_type": "code",
   "execution_count": 66,
   "metadata": {},
   "outputs": [
    {
     "data": {
      "image/png": "[encoded data removed]",
      "text/latex": [
       "$\\displaystyle x^{3} - x^{2} z + 2 x^{2} + x y + x - 3$"
      ],
      "text/plain": [
       " 3    2        2              \n",
       "x  - x ⋅z + 2⋅x  + x⋅y + x - 3"
      ]
     },
     "execution_count": 66,
     "metadata": {
      "filenames": {
       "image/png": "/home/mmadeira/Documents/ServDocente/online/IPC-2020-21/_build/jupyter_execute/docs/S13/Apresent_sympy_79_0.png"
      }
     },
     "output_type": "execute_result"
    }
   ],
   "source": [
    "expr = x*y + x - 3 + 2*x**2 - z*x**2 + x**3; expr"
   ]
  },
  {
   "cell_type": "code",
   "execution_count": 67,
   "metadata": {},
   "outputs": [
    {
     "data": {
      "image/png": "[encoded data removed]",
      "text/latex": [
       "$\\displaystyle x^{3} + x^{2} \\left(2 - z\\right) + x \\left(y + 1\\right) - 3$"
      ],
      "text/plain": [
       " 3    2                        \n",
       "x  + x ⋅(2 - z) + x⋅(y + 1) - 3"
      ]
     },
     "execution_count": 67,
     "metadata": {
      "filenames": {
       "image/png": "/home/mmadeira/Documents/ServDocente/online/IPC-2020-21/_build/jupyter_execute/docs/S13/Apresent_sympy_80_0.png"
      }
     },
     "output_type": "execute_result"
    }
   ],
   "source": [
    "collected_expr = collect(expr, x); collected_expr"
   ]
  },
  {
   "cell_type": "markdown",
   "metadata": {},
   "source": [
    "#### cancel"
   ]
  },
  {
   "cell_type": "code",
   "execution_count": 68,
   "metadata": {},
   "outputs": [
    {
     "data": {
      "image/png": "[encoded data removed]",
      "text/latex": [
       "$\\displaystyle \\frac{x^{2} + 2 x + 1}{x^{2} + x}$"
      ],
      "text/plain": [
       " 2          \n",
       "x  + 2⋅x + 1\n",
       "────────────\n",
       "    2       \n",
       "   x  + x   "
      ]
     },
     "execution_count": 68,
     "metadata": {
      "filenames": {
       "image/png": "/home/mmadeira/Documents/ServDocente/online/IPC-2020-21/_build/jupyter_execute/docs/S13/Apresent_sympy_82_0.png"
      }
     },
     "output_type": "execute_result"
    }
   ],
   "source": [
    "expr = (x**2 + 2*x + 1)/(x**2 + x); expr"
   ]
  },
  {
   "cell_type": "code",
   "execution_count": 69,
   "metadata": {},
   "outputs": [
    {
     "data": {
      "image/png": "[encoded data removed]",
      "text/latex": [
       "$\\displaystyle \\frac{x + 1}{x}$"
      ],
      "text/plain": [
       "x + 1\n",
       "─────\n",
       "  x  "
      ]
     },
     "execution_count": 69,
     "metadata": {
      "filenames": {
       "image/png": "/home/mmadeira/Documents/ServDocente/online/IPC-2020-21/_build/jupyter_execute/docs/S13/Apresent_sympy_83_0.png"
      }
     },
     "output_type": "execute_result"
    }
   ],
   "source": [
    "cancel(expr)"
   ]
  },
  {
   "cell_type": "code",
   "execution_count": 70,
   "metadata": {},
   "outputs": [
    {
     "data": {
      "image/png": "[encoded data removed]",
      "text/latex": [
       "$\\displaystyle \\frac{\\frac{3 x}{2} - 2}{x - 4} + \\frac{1}{x}$"
      ],
      "text/plain": [
       "3⋅x        \n",
       "─── - 2    \n",
       " 2        1\n",
       "─────── + ─\n",
       " x - 4    x"
      ]
     },
     "execution_count": 70,
     "metadata": {
      "filenames": {
       "image/png": "/home/mmadeira/Documents/ServDocente/online/IPC-2020-21/_build/jupyter_execute/docs/S13/Apresent_sympy_84_0.png"
      }
     },
     "output_type": "execute_result"
    }
   ],
   "source": [
    "expr = 1/x + (3*x/2 - 2)/(x - 4);  expr\n"
   ]
  },
  {
   "cell_type": "code",
   "execution_count": 71,
   "metadata": {},
   "outputs": [
    {
     "data": {
      "image/png": "[encoded data removed]",
      "text/latex": [
       "$\\displaystyle \\frac{3 x^{2} - 2 x - 8}{2 x^{2} - 8 x}$"
      ],
      "text/plain": [
       "   2          \n",
       "3⋅x  - 2⋅x - 8\n",
       "──────────────\n",
       "     2        \n",
       "  2⋅x  - 8⋅x  "
      ]
     },
     "execution_count": 71,
     "metadata": {
      "filenames": {
       "image/png": "/home/mmadeira/Documents/ServDocente/online/IPC-2020-21/_build/jupyter_execute/docs/S13/Apresent_sympy_85_0.png"
      }
     },
     "output_type": "execute_result"
    }
   ],
   "source": [
    "cancel(expr)"
   ]
  },
  {
   "cell_type": "markdown",
   "metadata": {},
   "source": [
    "#### apart"
   ]
  },
  {
   "cell_type": "code",
   "execution_count": 72,
   "metadata": {},
   "outputs": [
    {
     "data": {
      "image/png": "[encoded data removed]",
      "text/latex": [
       "$\\displaystyle \\frac{4 x^{3} + 21 x^{2} + 10 x + 12}{x^{4} + 5 x^{3} + 5 x^{2} + 4 x}$"
      ],
      "text/plain": [
       "   3       2            \n",
       "4⋅x  + 21⋅x  + 10⋅x + 12\n",
       "────────────────────────\n",
       "  4      3      2       \n",
       " x  + 5⋅x  + 5⋅x  + 4⋅x "
      ]
     },
     "execution_count": 72,
     "metadata": {
      "filenames": {
       "image/png": "/home/mmadeira/Documents/ServDocente/online/IPC-2020-21/_build/jupyter_execute/docs/S13/Apresent_sympy_87_0.png"
      }
     },
     "output_type": "execute_result"
    }
   ],
   "source": [
    "expr = (4*x**3 + 21*x**2 + 10*x + 12)/(x**4 + 5*x**3 + 5*x**2 + 4*x); expr\n"
   ]
  },
  {
   "cell_type": "code",
   "execution_count": 73,
   "metadata": {},
   "outputs": [
    {
     "data": {
      "image/png": "[encoded data removed]",
      "text/latex": [
       "$\\displaystyle \\frac{2 x - 1}{x^{2} + x + 1} - \\frac{1}{x + 4} + \\frac{3}{x}$"
      ],
      "text/plain": [
       " 2⋅x - 1       1     3\n",
       "────────── - ───── + ─\n",
       " 2           x + 4   x\n",
       "x  + x + 1            "
      ]
     },
     "execution_count": 73,
     "metadata": {
      "filenames": {
       "image/png": "/home/mmadeira/Documents/ServDocente/online/IPC-2020-21/_build/jupyter_execute/docs/S13/Apresent_sympy_88_0.png"
      }
     },
     "output_type": "execute_result"
    }
   ],
   "source": [
    "apart(expr)"
   ]
  },
  {
   "cell_type": "markdown",
   "metadata": {},
   "source": [
    "### Simplificação trignométrica"
   ]
  },
  {
   "cell_type": "code",
   "execution_count": 74,
   "metadata": {},
   "outputs": [
    {
     "data": {
      "image/png": "[encoded data removed]",
      "text/latex": [
       "$\\displaystyle x$"
      ],
      "text/plain": [
       "x"
      ]
     },
     "execution_count": 74,
     "metadata": {
      "filenames": {
       "image/png": "/home/mmadeira/Documents/ServDocente/online/IPC-2020-21/_build/jupyter_execute/docs/S13/Apresent_sympy_90_0.png"
      }
     },
     "output_type": "execute_result"
    }
   ],
   "source": [
    "cos(acos(x))"
   ]
  },
  {
   "cell_type": "code",
   "execution_count": 75,
   "metadata": {},
   "outputs": [
    {
     "data": {
      "image/png": "[encoded data removed]",
      "text/latex": [
       "$\\displaystyle \\frac{\\pi}{2}$"
      ],
      "text/plain": [
       "π\n",
       "─\n",
       "2"
      ]
     },
     "execution_count": 75,
     "metadata": {
      "filenames": {
       "image/png": "/home/mmadeira/Documents/ServDocente/online/IPC-2020-21/_build/jupyter_execute/docs/S13/Apresent_sympy_91_0.png"
      }
     },
     "output_type": "execute_result"
    }
   ],
   "source": [
    "asin(1)"
   ]
  },
  {
   "cell_type": "markdown",
   "metadata": {},
   "source": [
    "#### trigsimp"
   ]
  },
  {
   "cell_type": "code",
   "execution_count": 76,
   "metadata": {},
   "outputs": [
    {
     "data": {
      "image/png": "[encoded data removed]",
      "text/latex": [
       "$\\displaystyle 1$"
      ],
      "text/plain": [
       "1"
      ]
     },
     "execution_count": 76,
     "metadata": {
      "filenames": {
       "image/png": "/home/mmadeira/Documents/ServDocente/online/IPC-2020-21/_build/jupyter_execute/docs/S13/Apresent_sympy_93_0.png"
      }
     },
     "output_type": "execute_result"
    }
   ],
   "source": [
    "trigsimp(sin(x)**2 + cos(x)**2)"
   ]
  },
  {
   "cell_type": "markdown",
   "metadata": {},
   "source": [
    "#### expand_trig"
   ]
  },
  {
   "cell_type": "code",
   "execution_count": 77,
   "metadata": {},
   "outputs": [
    {
     "data": {
      "image/png": "[encoded data removed]",
      "text/latex": [
       "$\\displaystyle \\sin{\\left(x \\right)} \\cos{\\left(y \\right)} + \\sin{\\left(y \\right)} \\cos{\\left(x \\right)}$"
      ],
      "text/plain": [
       "sin(x)⋅cos(y) + sin(y)⋅cos(x)"
      ]
     },
     "execution_count": 77,
     "metadata": {
      "filenames": {
       "image/png": "/home/mmadeira/Documents/ServDocente/online/IPC-2020-21/_build/jupyter_execute/docs/S13/Apresent_sympy_95_0.png"
      }
     },
     "output_type": "execute_result"
    }
   ],
   "source": [
    "expand_trig(sin(x + y))"
   ]
  },
  {
   "cell_type": "code",
   "execution_count": 78,
   "metadata": {},
   "outputs": [
    {
     "data": {
      "image/png": "[encoded data removed]",
      "text/latex": [
       "$\\displaystyle \\frac{2 \\tan{\\left(x \\right)}}{1 - \\tan^{2}{\\left(x \\right)}}$"
      ],
      "text/plain": [
       "  2⋅tan(x) \n",
       "───────────\n",
       "       2   \n",
       "1 - tan (x)"
      ]
     },
     "execution_count": 78,
     "metadata": {
      "filenames": {
       "image/png": "/home/mmadeira/Documents/ServDocente/online/IPC-2020-21/_build/jupyter_execute/docs/S13/Apresent_sympy_96_0.png"
      }
     },
     "output_type": "execute_result"
    }
   ],
   "source": [
    "expand_trig(tan(2*x))"
   ]
  },
  {
   "cell_type": "markdown",
   "metadata": {},
   "source": [
    "###  Potências\n",
    "ver __[Tutorial](http://docs.sympy.org/latest/tutorial/simplification.html#powers)__"
   ]
  },
  {
   "cell_type": "code",
   "execution_count": 79,
   "metadata": {},
   "outputs": [],
   "source": [
    "# %reset"
   ]
  },
  {
   "cell_type": "code",
   "execution_count": 80,
   "metadata": {},
   "outputs": [],
   "source": [
    "from sympy import *"
   ]
  },
  {
   "cell_type": "code",
   "execution_count": 81,
   "metadata": {},
   "outputs": [],
   "source": [
    "x, y = symbols('x y', positive=True)\n",
    "a, b = symbols('a b', real=True)\n",
    "z, t, c = symbols('z t c')"
   ]
  },
  {
   "cell_type": "code",
   "execution_count": 82,
   "metadata": {},
   "outputs": [
    {
     "data": {
      "image/png": "[encoded data removed]",
      "text/latex": [
       "$\\displaystyle x^{a} x^{b}$"
      ],
      "text/plain": [
       " a  b\n",
       "x ⋅x "
      ]
     },
     "execution_count": 82,
     "metadata": {
      "filenames": {
       "image/png": "/home/mmadeira/Documents/ServDocente/online/IPC-2020-21/_build/jupyter_execute/docs/S13/Apresent_sympy_101_0.png"
      }
     },
     "output_type": "execute_result"
    }
   ],
   "source": [
    "expr = x**a*x**b; expr"
   ]
  },
  {
   "cell_type": "code",
   "execution_count": 83,
   "metadata": {},
   "outputs": [
    {
     "data": {
      "image/png": "[encoded data removed]",
      "text/latex": [
       "$\\displaystyle x^{a + b}$"
      ],
      "text/plain": [
       " a + b\n",
       "x     "
      ]
     },
     "execution_count": 83,
     "metadata": {
      "filenames": {
       "image/png": "/home/mmadeira/Documents/ServDocente/online/IPC-2020-21/_build/jupyter_execute/docs/S13/Apresent_sympy_102_0.png"
      }
     },
     "output_type": "execute_result"
    }
   ],
   "source": [
    "powsimp(x**a*x**b)"
   ]
  },
  {
   "cell_type": "code",
   "execution_count": 84,
   "metadata": {},
   "outputs": [
    {
     "data": {
      "image/png": "[encoded data removed]",
      "text/latex": [
       "$\\displaystyle x^{a} y^{a}$"
      ],
      "text/plain": [
       " a  a\n",
       "x ⋅y "
      ]
     },
     "execution_count": 84,
     "metadata": {
      "filenames": {
       "image/png": "/home/mmadeira/Documents/ServDocente/online/IPC-2020-21/_build/jupyter_execute/docs/S13/Apresent_sympy_103_0.png"
      }
     },
     "output_type": "execute_result"
    }
   ],
   "source": [
    "expr = x**a*y**a ; expr"
   ]
  },
  {
   "cell_type": "code",
   "execution_count": 85,
   "metadata": {},
   "outputs": [
    {
     "data": {
      "image/png": "[encoded data removed]",
      "text/latex": [
       "$\\displaystyle \\left(x y\\right)^{a}$"
      ],
      "text/plain": [
       "     a\n",
       "(x⋅y) "
      ]
     },
     "execution_count": 85,
     "metadata": {
      "filenames": {
       "image/png": "/home/mmadeira/Documents/ServDocente/online/IPC-2020-21/_build/jupyter_execute/docs/S13/Apresent_sympy_104_0.png"
      }
     },
     "output_type": "execute_result"
    }
   ],
   "source": [
    "powsimp(x**a*y**a)"
   ]
  },
  {
   "cell_type": "code",
   "execution_count": 86,
   "metadata": {},
   "outputs": [
    {
     "data": {
      "image/png": "[encoded data removed]",
      "text/latex": [
       "$\\displaystyle t^{c} z^{c}$"
      ],
      "text/plain": [
       " c  c\n",
       "t ⋅z "
      ]
     },
     "execution_count": 86,
     "metadata": {
      "filenames": {
       "image/png": "/home/mmadeira/Documents/ServDocente/online/IPC-2020-21/_build/jupyter_execute/docs/S13/Apresent_sympy_105_0.png"
      }
     },
     "output_type": "execute_result"
    }
   ],
   "source": [
    "expr_careful = t**c*z**c ; expr_careful"
   ]
  },
  {
   "cell_type": "code",
   "execution_count": 87,
   "metadata": {},
   "outputs": [
    {
     "data": {
      "image/png": "[encoded data removed]",
      "text/latex": [
       "$\\displaystyle t^{c} z^{c}$"
      ],
      "text/plain": [
       " c  c\n",
       "t ⋅z "
      ]
     },
     "execution_count": 87,
     "metadata": {
      "filenames": {
       "image/png": "/home/mmadeira/Documents/ServDocente/online/IPC-2020-21/_build/jupyter_execute/docs/S13/Apresent_sympy_106_0.png"
      }
     },
     "output_type": "execute_result"
    }
   ],
   "source": [
    "powsimp(t**c*z**c)"
   ]
  },
  {
   "cell_type": "code",
   "execution_count": 88,
   "metadata": {},
   "outputs": [
    {
     "data": {
      "image/png": "[encoded data removed]",
      "text/latex": [
       "$\\displaystyle x^{a b}$"
      ],
      "text/plain": [
       " a⋅b\n",
       "x   "
      ]
     },
     "execution_count": 88,
     "metadata": {
      "filenames": {
       "image/png": "/home/mmadeira/Documents/ServDocente/online/IPC-2020-21/_build/jupyter_execute/docs/S13/Apresent_sympy_107_0.png"
      }
     },
     "output_type": "execute_result"
    }
   ],
   "source": [
    "expr = (x**a)**b ; expr"
   ]
  },
  {
   "cell_type": "code",
   "execution_count": 89,
   "metadata": {},
   "outputs": [
    {
     "data": {
      "image/png": "[encoded data removed]",
      "text/latex": [
       "$\\displaystyle x^{a b}$"
      ],
      "text/plain": [
       " a⋅b\n",
       "x   "
      ]
     },
     "execution_count": 89,
     "metadata": {
      "filenames": {
       "image/png": "/home/mmadeira/Documents/ServDocente/online/IPC-2020-21/_build/jupyter_execute/docs/S13/Apresent_sympy_108_0.png"
      }
     },
     "output_type": "execute_result"
    }
   ],
   "source": [
    "powdenest(expr)"
   ]
  },
  {
   "cell_type": "code",
   "execution_count": 90,
   "metadata": {},
   "outputs": [
    {
     "data": {
      "image/png": "[encoded data removed]",
      "text/latex": [
       "$\\displaystyle \\left(z^{a}\\right)^{b}$"
      ],
      "text/plain": [
       "    b\n",
       "⎛ a⎞ \n",
       "⎝z ⎠ "
      ]
     },
     "execution_count": 90,
     "metadata": {
      "filenames": {
       "image/png": "/home/mmadeira/Documents/ServDocente/online/IPC-2020-21/_build/jupyter_execute/docs/S13/Apresent_sympy_109_0.png"
      }
     },
     "output_type": "execute_result"
    }
   ],
   "source": [
    "expr_careful = (z**a)**b ; expr_careful"
   ]
  },
  {
   "cell_type": "code",
   "execution_count": 91,
   "metadata": {},
   "outputs": [
    {
     "data": {
      "image/png": "[encoded data removed]",
      "text/latex": [
       "$\\displaystyle \\left(z^{a}\\right)^{b}$"
      ],
      "text/plain": [
       "    b\n",
       "⎛ a⎞ \n",
       "⎝z ⎠ "
      ]
     },
     "execution_count": 91,
     "metadata": {
      "filenames": {
       "image/png": "/home/mmadeira/Documents/ServDocente/online/IPC-2020-21/_build/jupyter_execute/docs/S13/Apresent_sympy_110_0.png"
      }
     },
     "output_type": "execute_result"
    }
   ],
   "source": [
    "powdenest(expr_careful)"
   ]
  },
  {
   "cell_type": "markdown",
   "metadata": {},
   "source": [
    "### Exponenciais e logaritmos\n",
    "ver __[Tutorial](http://docs.sympy.org/latest/tutorial/simplification.html#exponentials-and-logarithms)__"
   ]
  },
  {
   "cell_type": "code",
   "execution_count": 92,
   "metadata": {},
   "outputs": [
    {
     "data": {
      "image/png": "[encoded data removed]",
      "text/latex": [
       "$\\displaystyle \\log{\\left(x \\right)}$"
      ],
      "text/plain": [
       "log(x)"
      ]
     },
     "execution_count": 92,
     "metadata": {
      "filenames": {
       "image/png": "/home/mmadeira/Documents/ServDocente/online/IPC-2020-21/_build/jupyter_execute/docs/S13/Apresent_sympy_112_0.png"
      }
     },
     "output_type": "execute_result"
    }
   ],
   "source": [
    "ln(x)"
   ]
  },
  {
   "cell_type": "code",
   "execution_count": 93,
   "metadata": {},
   "outputs": [],
   "source": [
    "x, y = symbols('x y', positive=True)\n",
    "n = symbols('n', real=True)\n"
   ]
  },
  {
   "cell_type": "code",
   "execution_count": 94,
   "metadata": {},
   "outputs": [
    {
     "data": {
      "image/png": "[encoded data removed]",
      "text/latex": [
       "$\\displaystyle \\log{\\left(x \\right)} + \\log{\\left(y \\right)}$"
      ],
      "text/plain": [
       "log(x) + log(y)"
      ]
     },
     "execution_count": 94,
     "metadata": {
      "filenames": {
       "image/png": "/home/mmadeira/Documents/ServDocente/online/IPC-2020-21/_build/jupyter_execute/docs/S13/Apresent_sympy_114_0.png"
      }
     },
     "output_type": "execute_result"
    }
   ],
   "source": [
    "expand_log(log(x*y))"
   ]
  },
  {
   "cell_type": "code",
   "execution_count": 95,
   "metadata": {},
   "outputs": [
    {
     "data": {
      "image/png": "[encoded data removed]",
      "text/latex": [
       "$\\displaystyle \\log{\\left(x \\right)} - \\log{\\left(y \\right)}$"
      ],
      "text/plain": [
       "log(x) - log(y)"
      ]
     },
     "execution_count": 95,
     "metadata": {
      "filenames": {
       "image/png": "/home/mmadeira/Documents/ServDocente/online/IPC-2020-21/_build/jupyter_execute/docs/S13/Apresent_sympy_115_0.png"
      }
     },
     "output_type": "execute_result"
    }
   ],
   "source": [
    "expand_log(log(x/y))"
   ]
  },
  {
   "cell_type": "code",
   "execution_count": 96,
   "metadata": {},
   "outputs": [
    {
     "data": {
      "image/png": "[encoded data removed]",
      "text/latex": [
       "$\\displaystyle 2 \\log{\\left(x \\right)}$"
      ],
      "text/plain": [
       "2⋅log(x)"
      ]
     },
     "execution_count": 96,
     "metadata": {
      "filenames": {
       "image/png": "/home/mmadeira/Documents/ServDocente/online/IPC-2020-21/_build/jupyter_execute/docs/S13/Apresent_sympy_116_0.png"
      }
     },
     "output_type": "execute_result"
    }
   ],
   "source": [
    "expand_log(log(x**2))"
   ]
  },
  {
   "cell_type": "code",
   "execution_count": 97,
   "metadata": {},
   "outputs": [
    {
     "data": {
      "image/png": "[encoded data removed]",
      "text/latex": [
       "$\\displaystyle n \\log{\\left(x \\right)}$"
      ],
      "text/plain": [
       "n⋅log(x)"
      ]
     },
     "execution_count": 97,
     "metadata": {
      "filenames": {
       "image/png": "/home/mmadeira/Documents/ServDocente/online/IPC-2020-21/_build/jupyter_execute/docs/S13/Apresent_sympy_117_0.png"
      }
     },
     "output_type": "execute_result"
    }
   ],
   "source": [
    "expand_log(log(x**n))"
   ]
  },
  {
   "cell_type": "code",
   "execution_count": 98,
   "metadata": {},
   "outputs": [
    {
     "data": {
      "image/png": "[encoded data removed]",
      "text/latex": [
       "$\\displaystyle \\log{\\left(t z \\right)}$"
      ],
      "text/plain": [
       "log(t⋅z)"
      ]
     },
     "execution_count": 98,
     "metadata": {
      "filenames": {
       "image/png": "/home/mmadeira/Documents/ServDocente/online/IPC-2020-21/_build/jupyter_execute/docs/S13/Apresent_sympy_118_0.png"
      }
     },
     "output_type": "execute_result"
    }
   ],
   "source": [
    "expand_log(log(z*t))"
   ]
  },
  {
   "cell_type": "code",
   "execution_count": 99,
   "metadata": {},
   "outputs": [
    {
     "data": {
      "image/png": "[encoded data removed]",
      "text/latex": [
       "$\\displaystyle \\log{\\left(x y \\right)}$"
      ],
      "text/plain": [
       "log(x⋅y)"
      ]
     },
     "execution_count": 99,
     "metadata": {
      "filenames": {
       "image/png": "/home/mmadeira/Documents/ServDocente/online/IPC-2020-21/_build/jupyter_execute/docs/S13/Apresent_sympy_119_0.png"
      }
     },
     "output_type": "execute_result"
    }
   ],
   "source": [
    "logcombine(log(x) + log(y))\n"
   ]
  },
  {
   "cell_type": "markdown",
   "metadata": {},
   "source": [
    "### Funções especiais"
   ]
  },
  {
   "cell_type": "code",
   "execution_count": 100,
   "metadata": {},
   "outputs": [],
   "source": [
    "# %reset"
   ]
  },
  {
   "cell_type": "code",
   "execution_count": 101,
   "metadata": {},
   "outputs": [],
   "source": [
    "from sympy import *"
   ]
  },
  {
   "cell_type": "code",
   "execution_count": 102,
   "metadata": {},
   "outputs": [],
   "source": [
    "x, y, z = symbols('x y z')\n",
    "k, m, n = symbols('k m n')"
   ]
  },
  {
   "cell_type": "code",
   "execution_count": 103,
   "metadata": {},
   "outputs": [
    {
     "data": {
      "image/png": "[encoded data removed]",
      "text/latex": [
       "$\\displaystyle n!$"
      ],
      "text/plain": [
       "n!"
      ]
     },
     "execution_count": 103,
     "metadata": {
      "filenames": {
       "image/png": "/home/mmadeira/Documents/ServDocente/online/IPC-2020-21/_build/jupyter_execute/docs/S13/Apresent_sympy_124_0.png"
      }
     },
     "output_type": "execute_result"
    }
   ],
   "source": [
    "factorial(n)"
   ]
  },
  {
   "cell_type": "code",
   "execution_count": 104,
   "metadata": {},
   "outputs": [
    {
     "data": {
      "image/png": "[encoded data removed]",
      "text/latex": [
       "$\\displaystyle n!!$"
      ],
      "text/plain": [
       "n!!"
      ]
     },
     "execution_count": 104,
     "metadata": {
      "filenames": {
       "image/png": "/home/mmadeira/Documents/ServDocente/online/IPC-2020-21/_build/jupyter_execute/docs/S13/Apresent_sympy_125_0.png"
      }
     },
     "output_type": "execute_result"
    }
   ],
   "source": [
    "factorial2(n)"
   ]
  },
  {
   "cell_type": "code",
   "execution_count": 105,
   "metadata": {},
   "outputs": [
    {
     "data": {
      "image/png": "[encoded data removed]",
      "text/latex": [
       "$\\displaystyle {\\binom{n}{k}}$"
      ],
      "text/plain": [
       "⎛n⎞\n",
       "⎜ ⎟\n",
       "⎝k⎠"
      ]
     },
     "execution_count": 105,
     "metadata": {
      "filenames": {
       "image/png": "/home/mmadeira/Documents/ServDocente/online/IPC-2020-21/_build/jupyter_execute/docs/S13/Apresent_sympy_126_0.png"
      }
     },
     "output_type": "execute_result"
    }
   ],
   "source": [
    "binomial(n, k)"
   ]
  },
  {
   "cell_type": "code",
   "execution_count": 106,
   "metadata": {},
   "outputs": [
    {
     "data": {
      "image/png": "[encoded data removed]",
      "text/latex": [
       "$\\displaystyle \\frac{2 \\sin^{2}{\\left(x \\right)}}{\\sin{\\left(2 x \\right)}}$"
      ],
      "text/plain": [
       "     2   \n",
       "2⋅sin (x)\n",
       "─────────\n",
       " sin(2⋅x)"
      ]
     },
     "execution_count": 106,
     "metadata": {
      "filenames": {
       "image/png": "/home/mmadeira/Documents/ServDocente/online/IPC-2020-21/_build/jupyter_execute/docs/S13/Apresent_sympy_127_0.png"
      }
     },
     "output_type": "execute_result"
    }
   ],
   "source": [
    "tan(x).rewrite(sin)"
   ]
  },
  {
   "cell_type": "code",
   "execution_count": 107,
   "metadata": {},
   "outputs": [
    {
     "data": {
      "image/png": "[encoded data removed]",
      "text/latex": [
       "$\\displaystyle \\frac{\\cos{\\left(x - \\frac{\\pi}{2} \\right)}}{\\cos{\\left(x \\right)}}$"
      ],
      "text/plain": [
       "   ⎛    π⎞\n",
       "cos⎜x - ─⎟\n",
       "   ⎝    2⎠\n",
       "──────────\n",
       "  cos(x)  "
      ]
     },
     "execution_count": 107,
     "metadata": {
      "filenames": {
       "image/png": "/home/mmadeira/Documents/ServDocente/online/IPC-2020-21/_build/jupyter_execute/docs/S13/Apresent_sympy_128_0.png"
      }
     },
     "output_type": "execute_result"
    }
   ],
   "source": [
    "tan(x).rewrite(cos)"
   ]
  },
  {
   "cell_type": "markdown",
   "metadata": {},
   "source": [
    "### Cálculo"
   ]
  },
  {
   "cell_type": "code",
   "execution_count": 108,
   "metadata": {},
   "outputs": [],
   "source": [
    "# %reset"
   ]
  },
  {
   "cell_type": "code",
   "execution_count": 109,
   "metadata": {},
   "outputs": [],
   "source": [
    "from sympy import *"
   ]
  },
  {
   "cell_type": "code",
   "execution_count": 110,
   "metadata": {},
   "outputs": [],
   "source": [
    "x, y, z = symbols('x y z')\n",
    "#init_printing(use_unicode=True)"
   ]
  },
  {
   "cell_type": "code",
   "execution_count": 111,
   "metadata": {},
   "outputs": [
    {
     "data": {
      "image/png": "[encoded data removed]",
      "text/latex": [
       "$\\displaystyle - \\sin{\\left(x \\right)}$"
      ],
      "text/plain": [
       "-sin(x)"
      ]
     },
     "execution_count": 111,
     "metadata": {
      "filenames": {
       "image/png": "/home/mmadeira/Documents/ServDocente/online/IPC-2020-21/_build/jupyter_execute/docs/S13/Apresent_sympy_133_0.png"
      }
     },
     "output_type": "execute_result"
    }
   ],
   "source": [
    "diff(cos(x), x) # derivada"
   ]
  },
  {
   "cell_type": "code",
   "execution_count": 112,
   "metadata": {},
   "outputs": [
    {
     "data": {
      "image/png": "[encoded data removed]",
      "text/latex": [
       "$\\displaystyle 2 x e^{x^{2}}$"
      ],
      "text/plain": [
       "     ⎛ 2⎞\n",
       "     ⎝x ⎠\n",
       "2⋅x⋅ℯ    "
      ]
     },
     "execution_count": 112,
     "metadata": {
      "filenames": {
       "image/png": "/home/mmadeira/Documents/ServDocente/online/IPC-2020-21/_build/jupyter_execute/docs/S13/Apresent_sympy_134_0.png"
      }
     },
     "output_type": "execute_result"
    }
   ],
   "source": [
    "diff(exp(x**2), x)"
   ]
  },
  {
   "cell_type": "code",
   "execution_count": 113,
   "metadata": {},
   "outputs": [
    {
     "data": {
      "image/png": "[encoded data removed]",
      "text/latex": [
       "$\\displaystyle 24 x$"
      ],
      "text/plain": [
       "24⋅x"
      ]
     },
     "execution_count": 113,
     "metadata": {
      "filenames": {
       "image/png": "/home/mmadeira/Documents/ServDocente/online/IPC-2020-21/_build/jupyter_execute/docs/S13/Apresent_sympy_135_0.png"
      }
     },
     "output_type": "execute_result"
    }
   ],
   "source": [
    "diff(x**4, x, x, x) "
   ]
  },
  {
   "cell_type": "code",
   "execution_count": 114,
   "metadata": {},
   "outputs": [
    {
     "data": {
      "image/png": "[encoded data removed]",
      "text/latex": [
       "$\\displaystyle e^{x y z}$"
      ],
      "text/plain": [
       " x⋅y⋅z\n",
       "ℯ     "
      ]
     },
     "execution_count": 114,
     "metadata": {
      "filenames": {
       "image/png": "/home/mmadeira/Documents/ServDocente/online/IPC-2020-21/_build/jupyter_execute/docs/S13/Apresent_sympy_136_0.png"
      }
     },
     "output_type": "execute_result"
    }
   ],
   "source": [
    "expr = exp(x*y*z) ; expr"
   ]
  },
  {
   "cell_type": "code",
   "execution_count": 115,
   "metadata": {},
   "outputs": [
    {
     "data": {
      "image/png": "[encoded data removed]",
      "text/latex": [
       "$\\displaystyle \\frac{\\partial}{\\partial x} e^{x y z}$"
      ],
      "text/plain": [
       "∂ ⎛ x⋅y⋅z⎞\n",
       "──⎝ℯ     ⎠\n",
       "∂x        "
      ]
     },
     "execution_count": 115,
     "metadata": {
      "filenames": {
       "image/png": "/home/mmadeira/Documents/ServDocente/online/IPC-2020-21/_build/jupyter_execute/docs/S13/Apresent_sympy_137_0.png"
      }
     },
     "output_type": "execute_result"
    }
   ],
   "source": [
    "deriv = Derivative(expr, x); deriv"
   ]
  },
  {
   "cell_type": "code",
   "execution_count": 116,
   "metadata": {},
   "outputs": [
    {
     "data": {
      "image/png": "[encoded data removed]",
      "text/latex": [
       "$\\displaystyle y z e^{x y z}$"
      ],
      "text/plain": [
       "     x⋅y⋅z\n",
       "y⋅z⋅ℯ     "
      ]
     },
     "execution_count": 116,
     "metadata": {
      "filenames": {
       "image/png": "/home/mmadeira/Documents/ServDocente/online/IPC-2020-21/_build/jupyter_execute/docs/S13/Apresent_sympy_138_0.png"
      }
     },
     "output_type": "execute_result"
    }
   ],
   "source": [
    "deriv.doit()"
   ]
  },
  {
   "cell_type": "code",
   "execution_count": 117,
   "metadata": {},
   "outputs": [
    {
     "data": {
      "image/png": "[encoded data removed]",
      "text/latex": [
       "$\\displaystyle \\sin{\\left(x \\right)}$"
      ],
      "text/plain": [
       "sin(x)"
      ]
     },
     "execution_count": 117,
     "metadata": {
      "filenames": {
       "image/png": "/home/mmadeira/Documents/ServDocente/online/IPC-2020-21/_build/jupyter_execute/docs/S13/Apresent_sympy_139_0.png"
      }
     },
     "output_type": "execute_result"
    }
   ],
   "source": [
    "integrate(cos(x), x)"
   ]
  },
  {
   "cell_type": "code",
   "execution_count": 118,
   "metadata": {},
   "outputs": [
    {
     "data": {
      "image/png": "[encoded data removed]",
      "text/latex": [
       "$\\displaystyle 1$"
      ],
      "text/plain": [
       "1"
      ]
     },
     "execution_count": 118,
     "metadata": {
      "filenames": {
       "image/png": "/home/mmadeira/Documents/ServDocente/online/IPC-2020-21/_build/jupyter_execute/docs/S13/Apresent_sympy_140_0.png"
      }
     },
     "output_type": "execute_result"
    }
   ],
   "source": [
    "integrate(exp(-x), (x, 0, oo))"
   ]
  },
  {
   "cell_type": "code",
   "execution_count": 119,
   "metadata": {},
   "outputs": [
    {
     "data": {
      "image/png": "[encoded data removed]",
      "text/latex": [
       "$\\displaystyle \\int x^{2}\\, dx$"
      ],
      "text/plain": [
       "⌠      \n",
       "⎮  2   \n",
       "⎮ x  dx\n",
       "⌡      "
      ]
     },
     "execution_count": 119,
     "metadata": {
      "filenames": {
       "image/png": "/home/mmadeira/Documents/ServDocente/online/IPC-2020-21/_build/jupyter_execute/docs/S13/Apresent_sympy_141_0.png"
      }
     },
     "output_type": "execute_result"
    }
   ],
   "source": [
    "expr = Integral(x**2, x) ; expr"
   ]
  },
  {
   "cell_type": "code",
   "execution_count": 120,
   "metadata": {},
   "outputs": [
    {
     "data": {
      "image/png": "[encoded data removed]",
      "text/latex": [
       "$\\displaystyle \\frac{x^{3}}{3}$"
      ],
      "text/plain": [
       " 3\n",
       "x \n",
       "──\n",
       "3 "
      ]
     },
     "execution_count": 120,
     "metadata": {
      "filenames": {
       "image/png": "/home/mmadeira/Documents/ServDocente/online/IPC-2020-21/_build/jupyter_execute/docs/S13/Apresent_sympy_142_0.png"
      }
     },
     "output_type": "execute_result"
    }
   ],
   "source": [
    "expr.doit()"
   ]
  },
  {
   "cell_type": "code",
   "execution_count": 121,
   "metadata": {},
   "outputs": [
    {
     "data": {
      "image/png": "[encoded data removed]",
      "text/latex": [
       "$\\displaystyle \\frac{\\sin{\\left(x \\right)}}{x}$"
      ],
      "text/plain": [
       "sin(x)\n",
       "──────\n",
       "  x   "
      ]
     },
     "execution_count": 121,
     "metadata": {
      "filenames": {
       "image/png": "/home/mmadeira/Documents/ServDocente/online/IPC-2020-21/_build/jupyter_execute/docs/S13/Apresent_sympy_143_0.png"
      }
     },
     "output_type": "execute_result"
    }
   ],
   "source": [
    "expr = sin(x)/x ; expr"
   ]
  },
  {
   "cell_type": "code",
   "execution_count": 122,
   "metadata": {},
   "outputs": [
    {
     "data": {
      "image/png": "[encoded data removed]",
      "text/latex": [
       "$\\displaystyle 1$"
      ],
      "text/plain": [
       "1"
      ]
     },
     "execution_count": 122,
     "metadata": {
      "filenames": {
       "image/png": "/home/mmadeira/Documents/ServDocente/online/IPC-2020-21/_build/jupyter_execute/docs/S13/Apresent_sympy_144_0.png"
      }
     },
     "output_type": "execute_result"
    }
   ],
   "source": [
    "limit(expr, x, 0)"
   ]
  },
  {
   "cell_type": "code",
   "execution_count": 123,
   "metadata": {},
   "outputs": [
    {
     "data": {
      "image/png": "[encoded data removed]",
      "text/latex": [
       "$\\displaystyle \\lim_{x \\to 0^+}\\left(\\frac{\\sin{\\left(x \\right)}}{x}\\right)$"
      ],
      "text/plain": [
       "     ⎛sin(x)⎞\n",
       " lim ⎜──────⎟\n",
       "x─→0⁺⎝  x   ⎠"
      ]
     },
     "execution_count": 123,
     "metadata": {
      "filenames": {
       "image/png": "/home/mmadeira/Documents/ServDocente/online/IPC-2020-21/_build/jupyter_execute/docs/S13/Apresent_sympy_145_0.png"
      }
     },
     "output_type": "execute_result"
    }
   ],
   "source": [
    "Limit(expr, x, 0 )"
   ]
  },
  {
   "cell_type": "code",
   "execution_count": 124,
   "metadata": {},
   "outputs": [
    {
     "data": {
      "image/png": "[encoded data removed]",
      "text/latex": [
       "$\\displaystyle \\lim_{x \\to 0^-}\\left(\\frac{\\sin{\\left(x \\right)}}{x}\\right)$"
      ],
      "text/plain": [
       "     ⎛sin(x)⎞\n",
       " lim ⎜──────⎟\n",
       "x─→0⁻⎝  x   ⎠"
      ]
     },
     "execution_count": 124,
     "metadata": {
      "filenames": {
       "image/png": "/home/mmadeira/Documents/ServDocente/online/IPC-2020-21/_build/jupyter_execute/docs/S13/Apresent_sympy_146_0.png"
      }
     },
     "output_type": "execute_result"
    }
   ],
   "source": [
    "Limit(expr, x, 0, '-')"
   ]
  },
  {
   "cell_type": "code",
   "execution_count": 125,
   "metadata": {},
   "outputs": [],
   "source": [
    "expr = exp(sin(x))"
   ]
  },
  {
   "cell_type": "code",
   "execution_count": 126,
   "metadata": {},
   "outputs": [
    {
     "data": {
      "image/png": "[encoded data removed]",
      "text/latex": [
       "$\\displaystyle 1 + x + \\frac{x^{2}}{2} + O\\left(x^{4}\\right)$"
      ],
      "text/plain": [
       "         2        \n",
       "        x     ⎛ 4⎞\n",
       "1 + x + ── + O⎝x ⎠\n",
       "        2         "
      ]
     },
     "execution_count": 126,
     "metadata": {
      "filenames": {
       "image/png": "/home/mmadeira/Documents/ServDocente/online/IPC-2020-21/_build/jupyter_execute/docs/S13/Apresent_sympy_148_0.png"
      }
     },
     "output_type": "execute_result"
    }
   ],
   "source": [
    "expr.series(x, 0, 4)"
   ]
  }
 ],
 "metadata": {
  "kernelspec": {
   "display_name": "Python 3",
   "language": "python",
   "name": "python3"
  },
  "language_info": {
   "codemirror_mode": {
    "name": "ipython",
    "version": 3
   },
   "file_extension": ".py",
   "mimetype": "text/x-python",
   "name": "python",
   "nbconvert_exporter": "python",
   "pygments_lexer": "ipython3",
   "version": "3.7.9"
  }
 },
 "nbformat": 4,
 "nbformat_minor": 2
}