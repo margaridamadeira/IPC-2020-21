{
 "cells": [
  {
   "cell_type": "markdown",
   "metadata": {},
   "source": [
    "## Referências\n",
    "\n",
    "### Documentação \n",
    "\n",
    "[NumPy](https://numpy.org/doc/stable/)\n",
    "\n",
    "[Matplotlib](https://matplotlib.org/contents.html)\n",
    "\n",
    "[SymPy](https://docs.sympy.org/latest/index.html)\n",
    "\n",
    "[Pandas](https://pandas.pydata.org/docs/)\n",
    "\n",
    "\n",
    "\n",
    "\n",
    "### Resumos\n",
    "\n",
    "[NumPy](https://s3.amazonaws.com/assets.datacamp.com/blog_assets/Numpy_Python_Cheat_Sheet.pdf)\n",
    "\n",
    "[Matplotlib](https://s3.amazonaws.com/assets.datacamp.com/blog_assets/Python_Matplotlib_Cheat_Sheet.pdf)\n",
    "\n",
    "[SymPy](http://daabzlatex.s3.amazonaws.com/9065616cce623384fe5394eddfea4c52.pdf)\n",
    "\n",
    "[Pandas](https://pandas.pydata.org/Pandas_Cheat_Sheet.pdf)\n"
   ]
  }
 ],
 "metadata": {
  "kernelspec": {
   "display_name": "Python 3",
   "language": "python",
   "name": "python3"
  },
  "language_info": {
   "codemirror_mode": {
    "name": "ipython",
    "version": 3
   },
   "file_extension": ".py",
   "mimetype": "text/x-python",
   "name": "python",
   "nbconvert_exporter": "python",
   "pygments_lexer": "ipython3",
   "version": "3.7.9"
  }
 },
 "nbformat": 4,
 "nbformat_minor": 2
}