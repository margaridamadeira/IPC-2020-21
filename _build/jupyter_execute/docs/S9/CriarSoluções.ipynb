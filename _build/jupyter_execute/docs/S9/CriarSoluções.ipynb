{
 "cells": [
  {
   "cell_type": "markdown",
   "metadata": {},
   "source": [
    "# Criação de soluções - parte 2\n",
    "\n",
    "Hoje vamos ver algumas mais algumas técnicas para criar soluções mais robustas e mais complexas, aproveitando para consolidar o que já vimos de programação.\n"
   ]
  },
  {
   "cell_type": "markdown",
   "metadata": {},
   "source": [
    "## Objetivos de aprendizagem\n",
    "\n",
    "Vamos ver algumas técnicas usadas no processo de criação de soluções computacionais, nomeadamente:\n",
    "\n",
    "+ Módulos\n",
    "+ Testes usando as strings de documentação\n"
   ]
  },
  {
   "cell_type": "markdown",
   "metadata": {},
   "source": [
    "## Desenvolvimento modular\n",
    "\n",
    "Quando os problemas se tornam mais complexos, o código do programa tende a ficar muito longo. Mas, no desenvolvimento de uma solução computacional, nem todo o código tem que estar no mesmo ficheiro.  \n",
    "\n",
    "Dividir o programa em várias partes tem vantagens:\n",
    "+ é mais fácil de manter\n",
    "+ as partes são reutilizáveis\n",
    "\n",
    "Para criar uma solução mais complexa, podemos criar scripts com cada uma das partes e depois, usando **import**, reunir essas partes. "
   ]
  },
  {
   "cell_type": "markdown",
   "metadata": {},
   "source": [
    "### Exemplo\n",
    "\n",
    "Consideremos a conversão de temperaturas. \n",
    "\n",
    "Tendo já implementado as funções que fazem a conversão de temperatura em kelvin para celsius (*k2c*) e a conversão de temperaturas em celsius para farenheit (*c2f*), a conversão de temperaturas de kelvin para farenheit pode ser feita usando as funções já definidas.\n",
    "\n",
    "Mas não é necessário copiar essas funções o novo script, podemos importá-las.\n"
   ]
  },
  {
   "cell_type": "markdown",
   "metadata": {},
   "source": [
    "Vejamos o que temos na diretoria corrente:"
   ]
  },
  {
   "cell_type": "code",
   "execution_count": 1,
   "metadata": {},
   "outputs": [
    {
     "name": "stdout",
     "output_type": "stream",
     "text": [
      "c2f.py  CriarSoluções.ipynb  k2c.py  k2f.py  k2f-v1.py  k2f-v2.py  \u001b[0m\u001b[01;34m__pycache__\u001b[0m/\r\n"
     ]
    }
   ],
   "source": [
    "%ls"
   ]
  },
  {
   "cell_type": "markdown",
   "metadata": {},
   "source": [
    "E o que temos já no nosso espaço de nomes:"
   ]
  },
  {
   "cell_type": "code",
   "execution_count": 2,
   "metadata": {},
   "outputs": [
    {
     "data": {
      "text/plain": [
       "['In',\n",
       " 'Out',\n",
       " '_',\n",
       " '__',\n",
       " '___',\n",
       " '__builtin__',\n",
       " '__builtins__',\n",
       " '__doc__',\n",
       " '__loader__',\n",
       " '__name__',\n",
       " '__package__',\n",
       " '__spec__',\n",
       " '_dh',\n",
       " '_exit_code',\n",
       " '_i',\n",
       " '_i1',\n",
       " '_i2',\n",
       " '_ih',\n",
       " '_ii',\n",
       " '_iii',\n",
       " '_oh',\n",
       " 'exit',\n",
       " 'get_ipython',\n",
       " 'quit']"
      ]
     },
     "execution_count": 2,
     "metadata": {},
     "output_type": "execute_result"
    }
   ],
   "source": [
    "dir()"
   ]
  },
  {
   "cell_type": "markdown",
   "metadata": {},
   "source": [
    "Importemos um dos módulos que já tínhamos feito."
   ]
  },
  {
   "cell_type": "code",
   "execution_count": 3,
   "metadata": {},
   "outputs": [],
   "source": [
    "import c2f"
   ]
  },
  {
   "cell_type": "markdown",
   "metadata": {},
   "source": [
    "E vejamos o que temos:"
   ]
  },
  {
   "cell_type": "code",
   "execution_count": 4,
   "metadata": {},
   "outputs": [
    {
     "data": {
      "text/plain": [
       "['In',\n",
       " 'Out',\n",
       " '_',\n",
       " '_2',\n",
       " '__',\n",
       " '___',\n",
       " '__builtin__',\n",
       " '__builtins__',\n",
       " '__doc__',\n",
       " '__loader__',\n",
       " '__name__',\n",
       " '__package__',\n",
       " '__spec__',\n",
       " '_dh',\n",
       " '_exit_code',\n",
       " '_i',\n",
       " '_i1',\n",
       " '_i2',\n",
       " '_i3',\n",
       " '_i4',\n",
       " '_ih',\n",
       " '_ii',\n",
       " '_iii',\n",
       " '_oh',\n",
       " 'c2f',\n",
       " 'exit',\n",
       " 'get_ipython',\n",
       " 'quit']"
      ]
     },
     "execution_count": 4,
     "metadata": {},
     "output_type": "execute_result"
    }
   ],
   "source": [
    "dir()"
   ]
  },
  {
   "cell_type": "markdown",
   "metadata": {},
   "source": [
    "Apareceu (no final) c2f. Vejamos o que c2f é:"
   ]
  },
  {
   "cell_type": "code",
   "execution_count": 5,
   "metadata": {},
   "outputs": [
    {
     "data": {
      "text/plain": [
       "module"
      ]
     },
     "execution_count": 5,
     "metadata": {},
     "output_type": "execute_result"
    }
   ],
   "source": [
    "type(c2f)"
   ]
  },
  {
   "cell_type": "markdown",
   "metadata": {},
   "source": [
    "E o que contém:"
   ]
  },
  {
   "cell_type": "code",
   "execution_count": 6,
   "metadata": {},
   "outputs": [
    {
     "data": {
      "text/plain": [
       "['__builtins__',\n",
       " '__cached__',\n",
       " '__doc__',\n",
       " '__file__',\n",
       " '__loader__',\n",
       " '__name__',\n",
       " '__package__',\n",
       " '__spec__',\n",
       " 'c2f',\n",
       " 'test_c2f']"
      ]
     },
     "execution_count": 6,
     "metadata": {},
     "output_type": "execute_result"
    }
   ],
   "source": [
    "dir(c2f)"
   ]
  },
  {
   "cell_type": "markdown",
   "metadata": {},
   "source": [
    "Usamos <nome do módulo>.<nome da função> para indicar uma função dentro de um módulo.\n",
    "Para nos referirmos à função c2f que está no módulo c2f, teríamos:"
   ]
  },
  {
   "cell_type": "code",
   "execution_count": 7,
   "metadata": {},
   "outputs": [
    {
     "name": "stdout",
     "output_type": "stream",
     "text": [
      "Help on function c2f in module c2f:\n",
      "\n",
      "c2f(celsius: float) -> float\n",
      "    Função que converte uma temperatura de celsius para farenheit\n",
      "    \n",
      "    Exemplos:\n",
      "        >>> c2f(100.0)\n",
      "        212.0\n",
      "        >>> k2c(0.0)\n",
      "        32.0\n",
      "\n"
     ]
    }
   ],
   "source": [
    "help(c2f.c2f)"
   ]
  },
  {
   "cell_type": "markdown",
   "metadata": {},
   "source": [
    "Importemos também o outro módulo e testemos:"
   ]
  },
  {
   "cell_type": "code",
   "execution_count": 8,
   "metadata": {},
   "outputs": [],
   "source": [
    "import k2c"
   ]
  },
  {
   "cell_type": "code",
   "execution_count": 9,
   "metadata": {},
   "outputs": [
    {
     "name": "stdout",
     "output_type": "stream",
     "text": [
      "32.0\n"
     ]
    }
   ],
   "source": [
    "kelvins = 273.15\n",
    "resultado = c2f.c2f(k2c.k2c(kelvins))\n",
    "print(resultado)"
   ]
  },
  {
   "cell_type": "markdown",
   "metadata": {},
   "source": [
    "E o nosso módulo ficaria:"
   ]
  },
  {
   "cell_type": "markdown",
   "metadata": {},
   "source": [
    "```\n",
    "# -*- coding: utf-8 -*-\n",
    "\n",
    "\"\"\"\n",
    "kelvin para farenheit, usando import\n",
    "(c) Margarida Madeira e Moura, 2020\n",
    "\"\"\"\n",
    "\n",
    "import c2f, k2c\n",
    "\n",
    "def k2f(kelvins: float) -> float:\n",
    "    \"\"\"Função que converte uma temperatura de kelvin para farenheit.\n",
    "    \n",
    "    Exemplos:\n",
    "    >>> k2f(273.15)\n",
    "    32.0\n",
    "    >>> k2f(373.15)\n",
    "    212.0\n",
    "    \n",
    "    \"\"\"\n",
    "    return c2f.c2f(k2c.k2c(kelvins))\n",
    "\n",
    "\n",
    "def test_k2f():\n",
    "    x = float(input())\n",
    "    z = k2f(x)\n",
    "    print(z)\n",
    "    \n",
    "if __name__ == '__main__':\n",
    "    test_k2f()\n",
    "```"
   ]
  },
  {
   "cell_type": "markdown",
   "metadata": {},
   "source": [
    "Podemos também eliminar os módulos:"
   ]
  },
  {
   "cell_type": "code",
   "execution_count": 10,
   "metadata": {},
   "outputs": [],
   "source": [
    "del(c2f, k2c)"
   ]
  },
  {
   "cell_type": "markdown",
   "metadata": {},
   "source": [
    "e verificamos que já não existe:"
   ]
  },
  {
   "cell_type": "code",
   "execution_count": 11,
   "metadata": {},
   "outputs": [
    {
     "data": {
      "text/plain": [
       "['In',\n",
       " 'Out',\n",
       " '_',\n",
       " '_2',\n",
       " '_4',\n",
       " '_5',\n",
       " '_6',\n",
       " '__',\n",
       " '___',\n",
       " '__builtin__',\n",
       " '__builtins__',\n",
       " '__doc__',\n",
       " '__loader__',\n",
       " '__name__',\n",
       " '__package__',\n",
       " '__spec__',\n",
       " '_dh',\n",
       " '_exit_code',\n",
       " '_i',\n",
       " '_i1',\n",
       " '_i10',\n",
       " '_i11',\n",
       " '_i2',\n",
       " '_i3',\n",
       " '_i4',\n",
       " '_i5',\n",
       " '_i6',\n",
       " '_i7',\n",
       " '_i8',\n",
       " '_i9',\n",
       " '_ih',\n",
       " '_ii',\n",
       " '_iii',\n",
       " '_oh',\n",
       " 'exit',\n",
       " 'get_ipython',\n",
       " 'kelvins',\n",
       " 'quit',\n",
       " 'resultado']"
      ]
     },
     "execution_count": 11,
     "metadata": {},
     "output_type": "execute_result"
    }
   ],
   "source": [
    "dir()"
   ]
  },
  {
   "cell_type": "markdown",
   "metadata": {},
   "source": [
    "Idealmente vamos buscar só o que precisamos, para não usar memória desnecessariamente:"
   ]
  },
  {
   "cell_type": "code",
   "execution_count": 12,
   "metadata": {},
   "outputs": [],
   "source": [
    "from c2f import c2f\n",
    "from k2c import k2c"
   ]
  },
  {
   "cell_type": "markdown",
   "metadata": {},
   "source": [
    "Com a vantagem que já não precisamos prefixar o nome da função com o nome do módulo:"
   ]
  },
  {
   "cell_type": "code",
   "execution_count": 13,
   "metadata": {},
   "outputs": [
    {
     "name": "stdout",
     "output_type": "stream",
     "text": [
      "Help on function c2f in module c2f:\n",
      "\n",
      "c2f(celsius: float) -> float\n",
      "    Função que converte uma temperatura de celsius para farenheit\n",
      "    \n",
      "    Exemplos:\n",
      "        >>> c2f(100.0)\n",
      "        212.0\n",
      "        >>> k2c(0.0)\n",
      "        32.0\n",
      "\n"
     ]
    }
   ],
   "source": [
    "help(c2f)"
   ]
  },
  {
   "cell_type": "code",
   "execution_count": 14,
   "metadata": {},
   "outputs": [
    {
     "name": "stdout",
     "output_type": "stream",
     "text": [
      "Help on function k2c in module k2c:\n",
      "\n",
      "k2c(kelvins: float) -> float\n",
      "    Função que converte uma temperatura de kelvin para celsius.\n",
      "    \n",
      "    Exemplos:\n",
      "        >>> k2c(273.15)\n",
      "        0.0\n",
      "        >>> k2c(268.15)\n",
      "        -5.0\n",
      "\n"
     ]
    }
   ],
   "source": [
    "help(k2c)"
   ]
  },
  {
   "cell_type": "markdown",
   "metadata": {},
   "source": [
    "E usaríamos apenas:"
   ]
  },
  {
   "cell_type": "code",
   "execution_count": 15,
   "metadata": {},
   "outputs": [
    {
     "name": "stdout",
     "output_type": "stream",
     "text": [
      "32.0\n"
     ]
    }
   ],
   "source": [
    "kelvins = 273.15\n",
    "resultado = c2f(k2c(kelvins))\n",
    "print(resultado)"
   ]
  },
  {
   "cell_type": "markdown",
   "metadata": {},
   "source": [
    "E a nossa nova função ficaria:"
   ]
  },
  {
   "cell_type": "markdown",
   "metadata": {},
   "source": [
    "```\n",
    "# -*- coding: utf-8 -*-\n",
    "\n",
    "\"\"\"\n",
    "kelvin para farenheit, usando import\n",
    "(c) Margarida Madeira e Moura, 2020\n",
    "\"\"\"\n",
    "\n",
    "from k2c import k2c\n",
    "from c2f import c2f\n",
    "\n",
    "def k2f(kelvins: float) -> float:\n",
    "    \"\"\"Função que converte uma temperatura de kelvin para farenheit.\n",
    "    \n",
    "    Exemplos:\n",
    "    >>> k2f(273.15)\n",
    "    32.0\n",
    "    >>> k2f(373.15)\n",
    "    212.0\n",
    "    \n",
    "    \"\"\"\n",
    "    return c2f(k2c(kelvins))\n",
    "\n",
    "\n",
    "def test_k2f():\n",
    "    x = float(input())\n",
    "    z = k2f(x)\n",
    "    print(z)\n",
    "    \n",
    "if __name__ == '__main__':\n",
    "    test_k2f()\n",
    "```"
   ]
  },
  {
   "cell_type": "markdown",
   "metadata": {},
   "source": [
    "### Módulos padrão\n",
    "\n",
    "Python inclui alguns módulos (veja A Biblioteca padrão do Python em https://docs.python.org/pt-br/3/library/index.html)\n",
    "\n",
    "\n",
    "Já usámos o *sys*, para podermos usar a função *sys.exit()* e assim forçar a saída do ciclo de leitura.\n",
    "\n",
    "Outro módulo que já referimos, logo na apresentação de Python, foi *math* para acedermos às funções trignométricas.\n",
    "\n",
    "Nesse caso, importámos tudo e assim não foi necessário prefixar as funções com o nome do módulo.\n"
   ]
  },
  {
   "cell_type": "markdown",
   "metadata": {},
   "source": [
    "## Testes usando as strings de documentação\n",
    "\n",
    "O módulo *doctest* identifica as partes de texto nas strings de documentação que se parecem com sessões interativas do Python ('>>>') e, em seguida, executa as instruções correspondentes e verifica se o funcionamento atual corresponde ao descrito.\n",
    "\n",
    "No script mostrado abaixo, foi incluída a chamada ao módulo de testes e também, a título de demonstração, um exemplo errado na documentação."
   ]
  },
  {
   "cell_type": "markdown",
   "metadata": {},
   "source": [
    "```\n",
    "# -*- coding: utf-8 -*-\n",
    "\n",
    "\"\"\"\n",
    "kelvin para farenheit, usando import e doctest\n",
    "(c) Margarida Madeira e Moura, 2020\n",
    "\"\"\"\n",
    "\n",
    "\n",
    "from k2c import k2c\n",
    "from c2f import c2f\n",
    "\n",
    "def k2f(kelvins: float) -> float:\n",
    "    \"\"\"Função que converte uma temperatura de kelvin para farenheit.\n",
    "    \n",
    "    Exemplos:\n",
    "    >>> k2f(273.15)\n",
    "    32.0\n",
    "    >>> k2f(373.15)\n",
    "    212.0\n",
    "    >>> k2f(373.15) # errado\n",
    "    212.5\n",
    "    \n",
    "    \"\"\"\n",
    "    return c2f(k2c(kelvins))\n",
    "\n",
    "\n",
    "def test_k2f():\n",
    "    x = float(input())\n",
    "    z = k2f(x)\n",
    "    print(z)\n",
    "    \n",
    "if __name__ == '__main__':\n",
    "    import doctest\n",
    "    doctest.testmod()\n",
    "    test_k2f()\n",
    "```"
   ]
  },
  {
   "cell_type": "markdown",
   "metadata": {},
   "source": [
    "Note que embora o script funcione, indica que teste falhou.\n",
    "\n",
    "Recrie os exemplos na sua área e teste."
   ]
  }
 ],
 "metadata": {
  "kernelspec": {
   "display_name": "Python 3",
   "name": "python3"
  },
  "language_info": {
   "codemirror_mode": {
    "name": "ipython",
    "version": 3
   },
   "file_extension": ".py",
   "mimetype": "text/x-python",
   "name": "python",
   "nbconvert_exporter": "python",
   "pygments_lexer": "ipython3",
   "version": "3.7.9"
  }
 },
 "nbformat": 4,
 "nbformat_minor": 2
}