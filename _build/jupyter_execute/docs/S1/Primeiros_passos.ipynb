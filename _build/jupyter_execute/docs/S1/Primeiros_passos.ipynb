{
 "cells": [
  {
   "cell_type": "markdown",
   "metadata": {},
   "source": [
    "# Aula prática\n",
    "\n",
    "Nesta primeira aula prática vamos ensaiar algumas das ferramentas que temos disponíveis.\n"
   ]
  },
  {
   "cell_type": "markdown",
   "metadata": {},
   "source": [
    "## Usar o posto de trabalho\n",
    "\n",
    "\n",
    "Entrar no computador faz-se usando o identificador oficial da Universidade do Algarve, estilo a12345, (sem a parte @ualg.pt), e dando a password atribuída. Por vezes demora mais tempo do que esperaríamos, mas é mesmo assim.\n",
    "\n",
    "Experimente, mesmo que tenha o seu computador pessoal consigo."
   ]
  },
  {
   "cell_type": "markdown",
   "metadata": {},
   "source": [
    "## Criar uma área de trabalho para Introdução à programação científica\n",
    "\n",
    "Na pasta *Documents* da sua área crie uma pasta IPC. Dentro desta, crie uma pasta geral.\n",
    "\n",
    "Guarde tudo o que tiver a ver com a nossa cadeira nessa pasta!\n",
    "\n",
    "Abra o IDE Spyder e crie um pequeno texto, como quiser e com o que quiser. Guarde-o na sua pasta geral.\n",
    "\n",
    "E, se for essa a sua opção, faça isto no seu computador pessoal também. Mantenha os dois computadores “iguais”, por assim dizer. Use a sua área do [OneDrive](https://onedrive.live.com/about/en-us/signin/) para manter a informação: no fim da aula, passe para lá os seus ficheiros, e em casa trabalhe nessa pasta; quando voltar à aula, terá lá tudo o que fez fora da aula.\n",
    "\n",
    "Se estiver a usar o computador da sala, saia da sessão. Depois volte a entrar, noutro computador. Verifique que o seu ficheiro está lá."
   ]
  },
  {
   "cell_type": "markdown",
   "metadata": {},
   "source": [
    "## Primeiros passos\n",
    "\n",
    "No menu *Iniciar* do seu computador, localize o *Jupyter QTConsole*\n",
    " \n",
    "A linha de comando do python é representada por '>>>', designada *prompt*. Na linha de comando, a introdução de uma instrução completa é seguida pela sua execução.\n",
    "\n",
    "Usando o exemplo mais famoso da informática, escreva:\n",
    "\n",
    "    print (\"Olá mundo\")\n",
    "e pressione *Enter*. Fará com que seja apresentado:\n",
    "\n",
    "    Olá mundo\n",
    "\n",
    "Uma das utilizações típicas da linha de comando do python é como calculadora. Teste os exemplos apresentados na aula teórica."
   ]
  },
  {
   "cell_type": "markdown",
   "metadata": {},
   "source": [
    "## Notebook\n",
    "\n",
    "Descarregue o ficheiro *Introdução_fresh.ipynb* que está na Tutoria para a sua área. \n",
    "\n",
    "A partir do menu *Iniciar* abra agora o *Jupyter Notebook*. No separador do explorador que foi aberto, localize o ficheiro descarregado e abra-o.\n",
    "\n",
    "Vá pressionando as teclas *Shift*+*Enter* para executar as células. Experimente mudar o seu conteúdo."
   ]
  },
  {
   "cell_type": "markdown",
   "metadata": {},
   "source": [
    "Se está fora da sala e ainda não instalou todas as ferramentas no seu computador, pode usar a versão online do Binder."
   ]
  }
 ],
 "metadata": {
  "kernelspec": {
   "display_name": "Python 3",
   "language": "python",
   "name": "python3"
  },
  "language_info": {
   "codemirror_mode": {
    "name": "ipython",
    "version": 3
   },
   "file_extension": ".py",
   "mimetype": "text/x-python",
   "name": "python",
   "nbconvert_exporter": "python",
   "pygments_lexer": "ipython3",
   "version": "3.7.8"
  }
 },
 "nbformat": 4,
 "nbformat_minor": 2
}