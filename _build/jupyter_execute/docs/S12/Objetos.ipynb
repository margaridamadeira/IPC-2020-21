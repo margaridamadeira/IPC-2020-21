{
 "cells": [
  {
   "cell_type": "markdown",
   "metadata": {},
   "source": [
    "# Programação orientada por objetos\n",
    "\n",
    "A programação orientada por objetos centra-se no facto de que existir um modelo (uma abstração) que incorpora caraterísticas e funcionalidades e que, na prática, é instanciado para preencher uma necessidade na aplicação.\n",
    "\n"
   ]
  },
  {
   "cell_type": "markdown",
   "metadata": {},
   "source": [
    "## Objetivos de aprendizagem\n",
    "\n",
    "\n",
    "Já nos deparamos com o termo *objeto* em Python. Vamos agora ver como podemos criar classes e, consequentemente, novos tipos de objetos."
   ]
  },
  {
   "cell_type": "markdown",
   "metadata": {},
   "source": [
    "## Introdução\n",
    "\n",
    "A programação orientada a objetos é um paradigma avançado que reúne dados (atributos ou propriedades) e as funções (métodos) para as manipular num objeto.\n",
    "\n",
    "Esta abordagem permite maior estruturação que o paradigma declarativo pois teremos maior coesão entre as funções e os dados que elas manipulam."
   ]
  },
  {
   "cell_type": "markdown",
   "metadata": {},
   "source": [
    "Uma classe é um tipo de objeto. Numa classe estão reunidos os métodos para operar sobre os atributos."
   ]
  },
  {
   "cell_type": "markdown",
   "metadata": {},
   "source": [
    "Por exemplo, considere o operador '+'. Que funcionalidade oferece?"
   ]
  },
  {
   "cell_type": "markdown",
   "metadata": {},
   "source": [
    "Se estivermos a manipular inteiros, "
   ]
  },
  {
   "cell_type": "code",
   "execution_count": 1,
   "metadata": {},
   "outputs": [],
   "source": [
    "x, y = 3, 4"
   ]
  },
  {
   "cell_type": "code",
   "execution_count": 2,
   "metadata": {},
   "outputs": [
    {
     "data": {
      "text/plain": [
       "7"
      ]
     },
     "execution_count": 2,
     "metadata": {},
     "output_type": "execute_result"
    }
   ],
   "source": [
    "x + y"
   ]
  },
  {
   "cell_type": "markdown",
   "metadata": {},
   "source": [
    "o operador '+' representa a adição."
   ]
  },
  {
   "cell_type": "markdown",
   "metadata": {},
   "source": [
    "Se estivermos a manipular strings,"
   ]
  },
  {
   "cell_type": "code",
   "execution_count": 3,
   "metadata": {},
   "outputs": [],
   "source": [
    "a, b = 'Bom ', 'dia'"
   ]
  },
  {
   "cell_type": "code",
   "execution_count": 4,
   "metadata": {},
   "outputs": [
    {
     "data": {
      "text/plain": [
       "'Bom dia'"
      ]
     },
     "execution_count": 4,
     "metadata": {},
     "output_type": "execute_result"
    }
   ],
   "source": [
    "a + b"
   ]
  },
  {
   "cell_type": "markdown",
   "metadata": {},
   "source": [
    "o operador '+' representa a concatenação."
   ]
  },
  {
   "cell_type": "markdown",
   "metadata": {},
   "source": [
    "Porquê?\n",
    "\n",
    "Porque efetivamente o que temos é"
   ]
  },
  {
   "cell_type": "code",
   "execution_count": 5,
   "metadata": {},
   "outputs": [
    {
     "name": "stdout",
     "output_type": "stream",
     "text": [
      "<class 'int'>\n"
     ]
    }
   ],
   "source": [
    "print(type(x))"
   ]
  },
  {
   "cell_type": "code",
   "execution_count": 6,
   "metadata": {},
   "outputs": [
    {
     "name": "stdout",
     "output_type": "stream",
     "text": [
      "<class 'str'>\n"
     ]
    }
   ],
   "source": [
    "print(type(a))"
   ]
  },
  {
   "cell_type": "markdown",
   "metadata": {},
   "source": [
    "E a funcionalidade do método **+** depende da classe em causa."
   ]
  },
  {
   "cell_type": "markdown",
   "metadata": {},
   "source": [
    "Uma classe é um tipo. Um objeto é uma instância da classe. Estando definida a classe, podemos criar objetos dessa classe.\n",
    "\n",
    "O encapsulamento esconde o detalhe da implementação permitindo, no entanto, a programação usando objetos de uma classe."
   ]
  },
  {
   "cell_type": "markdown",
   "metadata": {},
   "source": [
    "## Criar uma classe\n",
    "\n",
    "A criação de uma classe consegue com a palavra-chave **class**. \n",
    "\n",
    "Usamos *self* para, dentro da classe, nos referirmos à instância da classe."
   ]
  },
  {
   "cell_type": "code",
   "execution_count": 7,
   "metadata": {},
   "outputs": [],
   "source": [
    "\"\"\" A classe Ponto\n",
    "(c) Margarida Madeira e Moura, 2021\n",
    "\"\"\"\n",
    "\n",
    "class Ponto:\n",
    "    \"\"\"Definição de um ponto no espaço cartesiano\"\"\"\n",
    "\n",
    "    def __init__(self, x=0, y=0):\n",
    "        self.x = x\n",
    "        self.y = y"
   ]
  },
  {
   "cell_type": "markdown",
   "metadata": {},
   "source": [
    "Criamos os objetos *p* e *q*"
   ]
  },
  {
   "cell_type": "code",
   "execution_count": 8,
   "metadata": {},
   "outputs": [],
   "source": [
    "p = Ponto()\n",
    "q = Ponto(3, 4)"
   ]
  },
  {
   "cell_type": "markdown",
   "metadata": {},
   "source": [
    "Se, para verificar, usassemos uma instrução de *print*, o resultado não seria muito útil."
   ]
  },
  {
   "cell_type": "code",
   "execution_count": 9,
   "metadata": {},
   "outputs": [
    {
     "name": "stdout",
     "output_type": "stream",
     "text": [
      "<__main__.Ponto object at 0x7f2b8c525950>\n"
     ]
    }
   ],
   "source": [
    "print(p)"
   ]
  },
  {
   "cell_type": "markdown",
   "metadata": {},
   "source": [
    "Podíamos fazer "
   ]
  },
  {
   "cell_type": "code",
   "execution_count": 10,
   "metadata": {},
   "outputs": [
    {
     "name": "stdout",
     "output_type": "stream",
     "text": [
      "x = 0 y = 0\n"
     ]
    }
   ],
   "source": [
    "print('x =', p.x, 'y =', p.y)"
   ]
  },
  {
   "cell_type": "code",
   "execution_count": 11,
   "metadata": {},
   "outputs": [
    {
     "name": "stdout",
     "output_type": "stream",
     "text": [
      "x = 3 y = 4\n"
     ]
    }
   ],
   "source": [
    "print('x =', q.x, 'y =', q.y)"
   ]
  },
  {
   "cell_type": "markdown",
   "metadata": {},
   "source": [
    "Vamos criar um *método* da classe Ponto para imprimir os valores. \n",
    "\n",
    "A nossa classe ficaria agora assim"
   ]
  },
  {
   "cell_type": "code",
   "execution_count": 12,
   "metadata": {},
   "outputs": [],
   "source": [
    "\"\"\"\n",
    "A classe Ponto\n",
    "(c) Margarida Madeira e Moura, 2021\n",
    "\"\"\"\n",
    "\n",
    "class Ponto:\n",
    "    \"\"\"Um ponto no espaço cartesiano\"\"\"\n",
    "\n",
    "    def __init__(self, x=0, y=0):\n",
    "        self.x = x\n",
    "        self.y = y\n",
    "\n",
    "    def imprimir(self):\n",
    "        print('x =', self.x, 'y =', self.y)"
   ]
  },
  {
   "cell_type": "markdown",
   "metadata": {},
   "source": [
    "e usaríamos"
   ]
  },
  {
   "cell_type": "code",
   "execution_count": 13,
   "metadata": {},
   "outputs": [
    {
     "name": "stdout",
     "output_type": "stream",
     "text": [
      "x = 0 y = 5\n",
      "x = 2 y = 5\n"
     ]
    }
   ],
   "source": [
    "r = Ponto(0, 5)\n",
    "s = Ponto(2, 5)\n",
    "\n",
    "r.imprimir()\n",
    "s.imprimir()"
   ]
  },
  {
   "cell_type": "markdown",
   "metadata": {},
   "source": [
    "Python prevê que se existir um método designado **\\_\\_str\\_\\_** esse método será usado na instrução de print do objeto. \n",
    "\n",
    "Alteremos então a nossa classe criando, no método \\_\\_str\\_\\_ a string a apresentar."
   ]
  },
  {
   "cell_type": "code",
   "execution_count": 14,
   "metadata": {},
   "outputs": [],
   "source": [
    "# -*- coding: utf-8 -*-\n",
    "\n",
    "\"\"\"\n",
    "A classe Ponto\n",
    "(c) Margarida Madeira e Moura, 2021\n",
    "\"\"\"\n",
    "\n",
    "class Ponto:\n",
    "    \"\"\"Um ponto no espaço cartesiano\"\"\"\n",
    "\n",
    "    def __init__(self, x=0, y=0):\n",
    "        self.x = x\n",
    "        self.y = y\n",
    "\n",
    "    def __str__(self):\n",
    "        return('x = ' + str(self.x) + ' y = ' + str(self.y))\n",
    "\n",
    "    def imprimir(self):\n",
    "        print('x =', self.x, 'y =', self.y)\n"
   ]
  },
  {
   "cell_type": "code",
   "execution_count": 15,
   "metadata": {},
   "outputs": [
    {
     "name": "stdout",
     "output_type": "stream",
     "text": [
      "x = -1 y = -3\n"
     ]
    }
   ],
   "source": [
    "z = Ponto(-1, -3)\n",
    "print(z)\n"
   ]
  },
  {
   "cell_type": "markdown",
   "metadata": {},
   "source": [
    "Queremos agora calcular a distância entre dois pontos.\n",
    "\n",
    "Sabemos que a distância entre os pontos *P* e *Q* é dada por $\\sqrt{(P.x - Q.x)^2 + (P.y-Q.y)^2) }$\n",
    "\n",
    "A nossa classe ficaria agora com mais um método"
   ]
  },
  {
   "cell_type": "code",
   "execution_count": 16,
   "metadata": {},
   "outputs": [],
   "source": [
    "\"\"\"\n",
    "A classe Ponto\n",
    "(c) Margarida Madeira e Moura, 2021\n",
    "\"\"\"\n",
    "\n",
    "class Ponto:\n",
    "    \"\"\"Um ponto no espaço cartesiano\"\"\"\n",
    "\n",
    "    def __init__(self, x=0, y=0):\n",
    "        self.x = x\n",
    "        self.y = y\n",
    "\n",
    "    def __str__(self):\n",
    "        return('x = ' + str(self.x) + ' y = ' + str(self.y))\n",
    "\n",
    "    def imprimir(self):\n",
    "        print('x =', self.x, 'y =', self.y)\n",
    "\n",
    "    def distancia(self, outroPonto):\n",
    "        \"\"\"Distância entre dois pontos\"\"\"\n",
    "        dist_x = self.x - outroPonto.x\n",
    "        dist_y = self.y - outroPonto.y\n",
    "        resultado = (dist_x**2 + dist_y**2)**0.5\n",
    "        return(resultado)"
   ]
  },
  {
   "cell_type": "code",
   "execution_count": 17,
   "metadata": {},
   "outputs": [
    {
     "data": {
      "text/plain": [
       "2.0"
      ]
     },
     "execution_count": 17,
     "metadata": {},
     "output_type": "execute_result"
    }
   ],
   "source": [
    "r = Ponto(0, 5)\n",
    "s = Ponto(2, 5)\n",
    "r.distancia(s)"
   ]
  },
  {
   "cell_type": "code",
   "execution_count": 18,
   "metadata": {},
   "outputs": [
    {
     "data": {
      "text/plain": [
       "5.0"
      ]
     },
     "execution_count": 18,
     "metadata": {},
     "output_type": "execute_result"
    }
   ],
   "source": [
    "t = Ponto()\n",
    "r.distancia(t)"
   ]
  },
  {
   "cell_type": "markdown",
   "metadata": {},
   "source": [
    "## Composição de classes\n",
    "\n",
    "Uma lista é um objeto da classe *list*. Podemos ter listas com inteiros, com strings, com diversos tipos de elementos.\n",
    "\n",
    "Vamos agora criar uma classe Segmento, representando um segmento de reta definido a partir de dois dos seus pontos."
   ]
  },
  {
   "cell_type": "code",
   "execution_count": 19,
   "metadata": {},
   "outputs": [
    {
     "name": "stdout",
     "output_type": "stream",
     "text": [
      "A: x = 0 y = 0 B: x = 3 y = 4\n"
     ]
    }
   ],
   "source": [
    "\n",
    "\"\"\"\n",
    "A classe Segmento\n",
    "(c) Margarida Madeira e Moura, 2021\n",
    "\n",
    "\"\"\"\n",
    "from ponto import Ponto\n",
    "\n",
    "class Segmento(Ponto):\n",
    "    \"\"\"Um segmento de reta, definido a partir de dois pontos no espaço cartesiano\"\"\"\n",
    "\n",
    "    def __init__(self, A, B):\n",
    "        self.A = A\n",
    "        self.B = B\n",
    "    \n",
    "    def __str__(self):\n",
    "        return('A: ' + str(self.A)+ ' B: ' + str(self.B))\n",
    "\n",
    "if __name__ == '__main__':\n",
    "    s = Segmento(Ponto(), Ponto(3,4))\n",
    "    print(s)\n"
   ]
  },
  {
   "cell_type": "markdown",
   "metadata": {},
   "source": [
    "E como o comprimento de um segmento de reta é dado pela distância dos seus pontos, poderíamos incluir mais um método na classe Segmento e teríamos"
   ]
  },
  {
   "cell_type": "code",
   "execution_count": 20,
   "metadata": {},
   "outputs": [
    {
     "name": "stdout",
     "output_type": "stream",
     "text": [
      "5.0\n",
      "A: x = 0 y = 0 B: x = 3 y = 4\n",
      "5.0\n"
     ]
    }
   ],
   "source": [
    "\n",
    "\"\"\"\n",
    "A classe Segmento\n",
    "(c) Margarida Madeira e Moura, 2021\n",
    "\n",
    "\"\"\"\n",
    "from ponto import Ponto\n",
    "\n",
    "class Segmento(Ponto):\n",
    "    \"\"\"Um segmento de reta, definido a partir de dois pontos no espaço cartesiano\"\"\"\n",
    "\n",
    "    def __init__(self, A, B):\n",
    "        self.A = A\n",
    "        self.B = B\n",
    "    \n",
    "    def __str__(self):\n",
    "        return('A: ' + str(self.A)+ ' B: ' + str(self.B))\n",
    "\n",
    "    def length(self):\n",
    "        return(self.A.distancia(self.B))\n",
    "\n",
    "if __name__ == '__main__':\n",
    "    P = Ponto()\n",
    "    Q = Ponto(3,4)\n",
    "    print(P.distancia(Q))\n",
    "\n",
    "    s = Segmento(Ponto(), Ponto(3,4))\n",
    "    print(s)\n",
    "    print(s.length())\n"
   ]
  },
  {
   "cell_type": "markdown",
   "metadata": {},
   "source": [
    "## Exemplo: Biopython\n",
    "\n",
    "Aceda ao [exemplo de sequências no tutorial do Biopython](http://biopython.org/DIST/docs/tutorial/Tutorial.html#sec9). Note que para definirmos uma sequência, importamos a classe *Seq* definida no módulo *Seq* de *Bio*. \n",
    "\n",
    "Se, no [repositório do Biopython](https://github.com/biopython/biopython), escolhermos *Bio* e então o módulo *Seq.py*, encontraremos na linha 286, a definição da classe.\n"
   ]
  },
  {
   "cell_type": "markdown",
   "metadata": {},
   "source": [
    "## Referências\n",
    "\n",
    "[Classes](https://docs.python.org/pt-br/3/tutorial/classes.html) na documentação do Python.\n",
    "\n",
    "Biopython, na [wikipédia](https://pt.wikipedia.org/wiki/Biopython).\n",
    "\n",
    "Biopython, [documentação oficial](https://biopython.org/wiki/Documentation).\n",
    "\n",
    "[Repositório](https://github.com/biopython/biopython) do Biopython."
   ]
  }
 ],
 "metadata": {
  "kernelspec": {
   "display_name": "Python 3",
   "language": "python",
   "name": "python3"
  },
  "language_info": {
   "codemirror_mode": {
    "name": "ipython",
    "version": 3
   },
   "file_extension": ".py",
   "mimetype": "text/x-python",
   "name": "python",
   "nbconvert_exporter": "python",
   "pygments_lexer": "ipython3",
   "version": "3.7.9"
  }
 },
 "nbformat": 4,
 "nbformat_minor": 2
}