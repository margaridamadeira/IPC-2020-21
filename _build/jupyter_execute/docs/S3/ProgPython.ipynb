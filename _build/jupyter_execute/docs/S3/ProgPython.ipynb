{
 "cells": [
  {
   "cell_type": "markdown",
   "metadata": {
    "slideshow": {
     "slide_type": "slide"
    }
   },
   "source": [
    "# Programação em Python \n"
   ]
  },
  {
   "cell_type": "markdown",
   "metadata": {},
   "source": [
    "## Objetivos de aprendizagem\n",
    "\n",
    "Nesta lição, veremos de forma mais abrangente, a linguagem Python.\n",
    "\n",
    "\n",
    "1. Expressões com tipos de dados nativos simples, incluindo a indexação de strings\n",
    "1. Interrogações e ciclo *while*\n",
    "1. Funções nativas do python padrão\n"
   ]
  },
  {
   "cell_type": "code",
   "execution_count": 14,
   "metadata": {},
   "outputs": [
    {
     "name": "stdout",
     "output_type": "stream",
     "text": [
      "x = 2; y = 5\n"
     ]
    }
   ],
   "source": [
    "print('x = {0:d}; y = {1:d}'.format(x, y))"
   ]
  },
  {
   "cell_type": "markdown",
   "metadata": {
    "slideshow": {
     "slide_type": "subslide"
    }
   },
   "source": [
    "Mas o conteúdo não tem que ser sempre numérico. "
   ]
  },
  {
   "cell_type": "code",
   "execution_count": 4,
   "metadata": {
    "slideshow": {
     "slide_type": "-"
    }
   },
   "outputs": [
    {
     "name": "stdout",
     "output_type": "stream",
     "text": [
      "Maria\n"
     ]
    }
   ],
   "source": [
    "nome = 'Maria'\n",
    "print(nome)"
   ]
  },
  {
   "cell_type": "code",
   "execution_count": 5,
   "metadata": {
    "slideshow": {
     "slide_type": "-"
    }
   },
   "outputs": [
    {
     "data": {
      "text/plain": [
       "'Silva'"
      ]
     },
     "execution_count": 5,
     "metadata": {},
     "output_type": "execute_result"
    }
   ],
   "source": [
    "apelido = 'Silva'\n",
    "apelido"
   ]
  },
  {
   "cell_type": "markdown",
   "metadata": {
    "slideshow": {
     "slide_type": "slide"
    }
   },
   "source": [
    "### Expressões com tipos de dados nativos simples\n",
    "\n",
    "Na semana passada tivemos a oportunidade de experimentar conhecer alguns tipos de dados nativos simples. Já tivemos a oportunidade de ver algumas expressões aritméticas elementares. Mas também é possível usar expressões para outras expressões, numéricas, cadeias de carateres ou lógicas."
   ]
  },
  {
   "cell_type": "markdown",
   "metadata": {},
   "source": [
    "#### Operações com *strings*\n",
    "\n",
    "As cadeias de carateres (vulgo, *strings*) armazenam sequências alfanuméricas. Usamos:\n",
    "\n",
    "    + para justaposição, isto é, concatenar\n",
    "    * para repetição\n",
    "    [pos] para indicar a posição do caracter a que nos referimos\n",
    "    [pos1:pos2] para indicar a sequência que começa em *pos1* e vai até (não incluindo) *pos2*"
   ]
  },
  {
   "cell_type": "markdown",
   "metadata": {},
   "source": [
    "##### Exemplos"
   ]
  },
  {
   "cell_type": "code",
   "execution_count": 8,
   "metadata": {
    "slideshow": {
     "slide_type": "subslide"
    }
   },
   "outputs": [
    {
     "data": {
      "text/plain": [
       "'Maria Moura'"
      ]
     },
     "execution_count": 8,
     "metadata": {},
     "output_type": "execute_result"
    }
   ],
   "source": [
    "nome = 'Maria'\n",
    "apelido = 'Moura'\n",
    "nome + ' ' + apelido \n",
    "print (nome, apelido)"
   ]
  },
  {
   "cell_type": "code",
   "execution_count": 9,
   "metadata": {},
   "outputs": [
    {
     "name": "stdout",
     "output_type": "stream",
     "text": [
      "Bom dia, Maria Moura!!!\n"
     ]
    }
   ],
   "source": [
    "nome_completo = nome + ' ' + apelido \n",
    "saudar = 'Bom dia,' + ' ' + nome_completo + '!'*3\n",
    "print(saudar)"
   ]
  },
  {
   "cell_type": "code",
   "execution_count": 10,
   "metadata": {},
   "outputs": [
    {
     "data": {
      "text/plain": [
       "'M'"
      ]
     },
     "execution_count": 10,
     "metadata": {},
     "output_type": "execute_result"
    }
   ],
   "source": [
    "# Isto é muito importante, note que começa em 0\n",
    "nome[0]"
   ]
  },
  {
   "cell_type": "code",
   "execution_count": 14,
   "metadata": {},
   "outputs": [],
   "source": [
    "frase = 'Python é muito giro e interessante!'"
   ]
  },
  {
   "cell_type": "code",
   "execution_count": 15,
   "metadata": {},
   "outputs": [
    {
     "data": {
      "text/plain": [
       "'Python '"
      ]
     },
     "execution_count": 15,
     "metadata": {},
     "output_type": "execute_result"
    }
   ],
   "source": [
    "frase[0:7]"
   ]
  },
  {
   "cell_type": "code",
   "execution_count": 16,
   "metadata": {},
   "outputs": [
    {
     "data": {
      "text/plain": [
       "'!'"
      ]
     },
     "execution_count": 16,
     "metadata": {},
     "output_type": "execute_result"
    }
   ],
   "source": [
    "frase[-1]"
   ]
  },
  {
   "cell_type": "code",
   "execution_count": 18,
   "metadata": {},
   "outputs": [
    {
     "data": {
      "text/plain": [
       "'interessante'"
      ]
     },
     "execution_count": 18,
     "metadata": {},
     "output_type": "execute_result"
    }
   ],
   "source": [
    "frase[-13:-1]"
   ]
  },
  {
   "cell_type": "markdown",
   "metadata": {
    "slideshow": {
     "slide_type": "slide"
    }
   },
   "source": [
    "#### Operações com valores lógicos\n",
    "\n",
    "\n",
    "\n",
    "True \n",
    "\n",
    "False\n",
    "\n",
    "True == True\n",
    "\n",
    "True != True\n",
    "\n",
    "True != False\n",
    "\n",
    "True or False \n",
    "\n",
    "True and False \n",
    "\n",
    "not(True) \n",
    "\n",
    "not(False) \n",
    "\n",
    "\n",
    "##### Experimentemos"
   ]
  },
  {
   "cell_type": "code",
   "execution_count": 21,
   "metadata": {
    "slideshow": {
     "slide_type": "subslide"
    }
   },
   "outputs": [
    {
     "data": {
      "text/plain": [
       "True"
      ]
     },
     "execution_count": 21,
     "metadata": {},
     "output_type": "execute_result"
    }
   ],
   "source": [
    "True "
   ]
  },
  {
   "cell_type": "code",
   "execution_count": 22,
   "metadata": {},
   "outputs": [
    {
     "data": {
      "text/plain": [
       "False"
      ]
     },
     "execution_count": 22,
     "metadata": {},
     "output_type": "execute_result"
    }
   ],
   "source": [
    "False"
   ]
  },
  {
   "cell_type": "code",
   "execution_count": 23,
   "metadata": {},
   "outputs": [
    {
     "data": {
      "text/plain": [
       "True"
      ]
     },
     "execution_count": 23,
     "metadata": {},
     "output_type": "execute_result"
    }
   ],
   "source": [
    "True == True"
   ]
  },
  {
   "cell_type": "code",
   "execution_count": 24,
   "metadata": {},
   "outputs": [
    {
     "data": {
      "text/plain": [
       "False"
      ]
     },
     "execution_count": 24,
     "metadata": {},
     "output_type": "execute_result"
    }
   ],
   "source": [
    "not(True) "
   ]
  },
  {
   "cell_type": "code",
   "execution_count": 25,
   "metadata": {},
   "outputs": [
    {
     "data": {
      "text/plain": [
       "True"
      ]
     },
     "execution_count": 25,
     "metadata": {},
     "output_type": "execute_result"
    }
   ],
   "source": [
    "True or False "
   ]
  },
  {
   "cell_type": "code",
   "execution_count": 26,
   "metadata": {},
   "outputs": [
    {
     "data": {
      "text/plain": [
       "False"
      ]
     },
     "execution_count": 26,
     "metadata": {},
     "output_type": "execute_result"
    }
   ],
   "source": [
    "True and False "
   ]
  },
  {
   "cell_type": "markdown",
   "metadata": {
    "slideshow": {
     "slide_type": "subslide"
    }
   },
   "source": [
    "#### Recordar os operadores lógicos\n",
    "\n",
    "##### not (Negação)\n",
    "\n",
    "| A | not A |\n",
    "| - |  ----------|\n",
    "| True|False|\n",
    "| False|True|"
   ]
  },
  {
   "cell_type": "markdown",
   "metadata": {
    "slideshow": {
     "slide_type": "subslide"
    }
   },
   "source": [
    "##### and (e lógico)\n",
    "\n",
    "| A | B | A and B |\n",
    "| - | - | ----------|\n",
    "| False | False| False|\n",
    "| False|True| False |\n",
    "| True | False | False|\n",
    "| True | True | True |"
   ]
  },
  {
   "cell_type": "markdown",
   "metadata": {
    "slideshow": {
     "slide_type": "subslide"
    }
   },
   "source": [
    "##### or ( ou lógico)\n",
    "\n",
    "| A | B | A or B |\n",
    "| - | - | ----------|\n",
    "| False | False | False |\n",
    "| False | True | True |\n",
    "| True | False | True|\n",
    "| True | True | True |"
   ]
  },
  {
   "cell_type": "code",
   "execution_count": 27,
   "metadata": {
    "scrolled": true,
    "slideshow": {
     "slide_type": "subslide"
    }
   },
   "outputs": [
    {
     "data": {
      "text/plain": [
       "False"
      ]
     },
     "execution_count": 27,
     "metadata": {},
     "output_type": "execute_result"
    }
   ],
   "source": [
    "# Faça variar os valores de a e b e a operação lógica\n",
    "a = True; b = not a; a and b "
   ]
  },
  {
   "cell_type": "markdown",
   "metadata": {
    "slideshow": {
     "slide_type": "slide"
    }
   },
   "source": [
    "#### Ainda expressões"
   ]
  },
  {
   "cell_type": "markdown",
   "metadata": {
    "slideshow": {
     "slide_type": "slide"
    }
   },
   "source": [
    "## Programação em Python \n",
    "### I - Interrogações e ciclos\n",
    "\n",
    "\n",
    "É do conhecimento geral que os computadores fazem aquilo para que foram programados. Mas representar \"coisas\", dar-lhes nomes, e operar com/sobre elas, usando expressões, não é suficiente.\n",
    "\n",
    "As ações a desempenhar dependem das circunstâncias. Por isso, surgiram formas de definir o que vai ser, ou não, feito. Na base do controlo de execução estão a avaliação das circunstâncias pela interrogação de estados significativos e a decisão de prosseguir ou repetir.\n",
    "\n",
    "Vejamos então, duas formas de controlar o fluxo de execução.\n",
    "\n",
    "    - if\n",
    "        Se <algo se verifica> <faça-se>\n",
    "        Se <acabou o filme> <sair da sala>\n",
    "    - while\n",
    "        Enquanto <algo se verifica> <faça-se>\n",
    "        Enquanto <o filme decorre> <silêncio>\n",
    "\n",
    "        \n",
    "#### Exemplos"
   ]
  },
  {
   "cell_type": "code",
   "execution_count": 31,
   "metadata": {
    "slideshow": {
     "slide_type": "subslide"
    }
   },
   "outputs": [
    {
     "name": "stdout",
     "output_type": "stream",
     "text": [
      "6 é par\n"
     ]
    }
   ],
   "source": [
    "a = 6\n",
    "if (a%2)==0:\n",
    "    # a identação é importante\n",
    "    print(a, 'é par')"
   ]
  },
  {
   "cell_type": "code",
   "execution_count": 32,
   "metadata": {
    "slideshow": {
     "slide_type": "-"
    }
   },
   "outputs": [
    {
     "name": "stdout",
     "output_type": "stream",
     "text": [
      "5 não é par\n"
     ]
    }
   ],
   "source": [
    "a = 5\n",
    "if (a%2)==0:\n",
    "   print(a, 'é par')\n",
    "else:\n",
    "   print(a, 'não é par')"
   ]
  },
  {
   "cell_type": "code",
   "execution_count": 33,
   "metadata": {
    "slideshow": {
     "slide_type": "-"
    }
   },
   "outputs": [
    {
     "name": "stdout",
     "output_type": "stream",
     "text": [
      "a é negativo\n"
     ]
    }
   ],
   "source": [
    "a = -4\n",
    "if (a == 0):\n",
    "    print('a é zero')\n",
    "elif (a > 0):\n",
    "    print ('a é positivo')\n",
    "else:\n",
    "    print('a é negativo')"
   ]
  },
  {
   "cell_type": "code",
   "execution_count": 34,
   "metadata": {
    "slideshow": {
     "slide_type": "subslide"
    }
   },
   "outputs": [
    {
     "name": "stdout",
     "output_type": "stream",
     "text": [
      "3\n",
      "2\n",
      "1\n",
      "0\n"
     ]
    }
   ],
   "source": [
    "a = 3\n",
    "while (a >= 0):\n",
    "    # a identação é importante\n",
    "    print (a)\n",
    "    a -= 1 # O mesmo que a = a - 1"
   ]
  },
  {
   "cell_type": "markdown",
   "metadata": {
    "slideshow": {
     "slide_type": "slide"
    }
   },
   "source": [
    "## Programação em Python \n",
    "### O - Organizar\n",
    "\n",
    "Agora que já temos as ferramentas essenciais, precisamos de preparar a nossa solução computacional. Usamos as funções do Python e, quando não existirem, fazemos as funções necessárias. Várias funções podem ser reunidas para criar uma solução, o nosso programa.\n",
    "\n",
    "Vamos começar com um programa _muito_ simples, tão simples que é desnecessário: quero somar dois números inteiros.\n",
    "Na resolução deste problema:\n",
    "+ precisamos saber quais são as parcelas (*input*) e\n",
    "+ precisamos de adicionar as parcelas para obtermos a soma (*processamento*)\n",
    "+ precisamos de apresentar uma mensagem com as parcelas e a soma resultante (*output*).\n",
    "\n",
    "Temos pois que organizar a nossa solução na forma de um programa de forma que cumpra o seu objetivo mas com cada parte separada de forma a que possamos testar e, mais importante, possamos reutilizar noutros programas que venhamos a precisar."
   ]
  },
  {
   "cell_type": "code",
   "execution_count": 37,
   "metadata": {
    "slideshow": {
     "slide_type": "slide"
    }
   },
   "outputs": [
    {
     "ename": "ValueError",
     "evalue": "invalid literal for int() with base 10: ''",
     "output_type": "error",
     "traceback": [
      "\u001b[0;31m---------------------------------------------------------------------------\u001b[0m",
      "\u001b[0;31mValueError\u001b[0m                                Traceback (most recent call last)",
      "\u001b[0;32m<ipython-input-37-496c28957c2d>\u001b[0m in \u001b[0;36m<module>\u001b[0;34m\u001b[0m\n\u001b[1;32m     37\u001b[0m \u001b[0;31m# é preciso indicar por onde se começa\u001b[0m\u001b[0;34m\u001b[0m\u001b[0;34m\u001b[0m\u001b[0;34m\u001b[0m\u001b[0m\n\u001b[1;32m     38\u001b[0m \u001b[0;32mif\u001b[0m \u001b[0m__name__\u001b[0m \u001b[0;34m==\u001b[0m \u001b[0;34m\"__main__\"\u001b[0m\u001b[0;34m:\u001b[0m\u001b[0;34m\u001b[0m\u001b[0;34m\u001b[0m\u001b[0m\n\u001b[0;32m---> 39\u001b[0;31m     \u001b[0mtestar_soma\u001b[0m\u001b[0;34m(\u001b[0m\u001b[0;34m)\u001b[0m\u001b[0;34m\u001b[0m\u001b[0;34m\u001b[0m\u001b[0m\n\u001b[0m\u001b[1;32m     40\u001b[0m     \u001b[0mprint\u001b[0m\u001b[0;34m(\u001b[0m\u001b[0;34m\"Feito!\"\u001b[0m\u001b[0;34m)\u001b[0m\u001b[0;34m\u001b[0m\u001b[0;34m\u001b[0m\u001b[0m\n",
      "\u001b[0;32m<ipython-input-37-496c28957c2d>\u001b[0m in \u001b[0;36mtestar_soma\u001b[0;34m()\u001b[0m\n\u001b[1;32m     27\u001b[0m     \"\"\" O teste da função soma:\n\u001b[1;32m     28\u001b[0m     lê os dados, chama a função e escreve os resultados \"\"\"\n\u001b[0;32m---> 29\u001b[0;31m     \u001b[0mx\u001b[0m \u001b[0;34m=\u001b[0m \u001b[0mint\u001b[0m\u001b[0;34m(\u001b[0m\u001b[0minput\u001b[0m\u001b[0;34m(\u001b[0m\u001b[0;34m)\u001b[0m\u001b[0;34m)\u001b[0m\u001b[0;34m\u001b[0m\u001b[0;34m\u001b[0m\u001b[0m\n\u001b[0m\u001b[1;32m     30\u001b[0m     \u001b[0my\u001b[0m \u001b[0;34m=\u001b[0m \u001b[0mint\u001b[0m\u001b[0;34m(\u001b[0m\u001b[0minput\u001b[0m\u001b[0;34m(\u001b[0m\u001b[0;34m)\u001b[0m\u001b[0;34m)\u001b[0m\u001b[0;34m\u001b[0m\u001b[0;34m\u001b[0m\u001b[0m\n\u001b[1;32m     31\u001b[0m \u001b[0;34m\u001b[0m\u001b[0m\n",
      "\u001b[0;31mValueError\u001b[0m: invalid literal for int() with base 10: ''"
     ]
    }
   ],
   "source": [
    "#!/usr/bin/env python\n",
    "# -*- coding: utf-8 -*-\n",
    "\n",
    "# Authors: Margarida Madeira e Moura\n",
    "# Contacts: mmadeira@ualg.pt\n",
    "\n",
    "# Exemplo inicial de um programa\n",
    "def soma (x,y):\n",
    "\t\"\"\" Função que devolve a soma de dois números.\n",
    "\n",
    "\tArgs:\n",
    "\t    x (int): uma parcela\n",
    "\t    y (int): outra parcela\n",
    "\n",
    "\tReturns:\n",
    "\t    int: a soma das duas parcelas\n",
    "\n",
    "\tExamples:\n",
    "\t    >>> soma (2, 3)\n",
    "\t    5\n",
    "\t    >>> soma (4, 5) \n",
    "\t    9\n",
    "\t\"\"\"\n",
    "\treturn x + y\n",
    "\n",
    "def testar_soma():\n",
    "    \"\"\" O teste da função soma:\n",
    "    lê os dados, chama a função e escreve os resultados \"\"\"\n",
    "    x = int(input())\n",
    "    y = int(input())\n",
    "    \n",
    "    result = soma(x, y)\n",
    "    \n",
    "    print (\"A soma de\",x,\"com\",y,\"é\",result)\n",
    "\n",
    "# Se o nosso programa for chamado diretamente a partir da consola \n",
    "# é preciso indicar por onde se começa \n",
    "if __name__ == \"__main__\":\n",
    "    testar_soma()\n",
    "    print(\"Feito!\")"
   ]
  },
  {
   "cell_type": "markdown",
   "metadata": {
    "slideshow": {
     "slide_type": "slide"
    }
   },
   "source": [
    "## Programação em Python \n",
    "### U - Usar\n",
    "\n",
    "Porque o nosso programa está definido com várias funções podemos dar-lhe vários usos.\n",
    "\n",
    "Para além de o podermos ter no *notebook*, podemos guardá-lo num ficheiro de extensão .py e chamá-lo na *prompt*.\n",
    "    > python P1B.py\n",
    "\n",
    "Mas podemos também usar as funções que aqui definimos."
   ]
  },
  {
   "cell_type": "code",
   "execution_count": 38,
   "metadata": {
    "slideshow": {
     "slide_type": "slide"
    }
   },
   "outputs": [
    {
     "name": "stdout",
     "output_type": "stream",
     "text": [
      "2\n",
      "3\n",
      "A soma de 2 com 3 é 5\n"
     ]
    }
   ],
   "source": [
    "testar_soma()\n",
    "# Compare com o resultado anterior. Porque é que é diferente?"
   ]
  },
  {
   "cell_type": "code",
   "execution_count": 39,
   "metadata": {},
   "outputs": [
    {
     "data": {
      "text/plain": [
       "9"
      ]
     },
     "execution_count": 39,
     "metadata": {},
     "output_type": "execute_result"
    }
   ],
   "source": [
    "a, b = 4, 5 # Podemos fazer mais do que uma atribuição\n",
    "soma(a,b)   # Note que os argumentos a e b da função são diferentes \n",
    "            # dos parâmetros x e y"
   ]
  }
 ],
 "metadata": {
  "celltoolbar": "Slideshow",
  "kernelspec": {
   "display_name": "Python 3",
   "language": "python",
   "name": "python3"
  },
  "language_info": {
   "codemirror_mode": {
    "name": "ipython",
    "version": 3
   },
   "file_extension": ".py",
   "mimetype": "text/x-python",
   "name": "python",
   "nbconvert_exporter": "python",
   "pygments_lexer": "ipython3",
   "version": "3.7.8-final"
  }
 },
 "nbformat": 4,
 "nbformat_minor": 1
}