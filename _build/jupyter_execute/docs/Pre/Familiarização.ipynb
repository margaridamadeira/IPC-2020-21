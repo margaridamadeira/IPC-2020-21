{
 "cells": [
  {
   "cell_type": "markdown",
   "metadata": {},
   "source": [
    "# Sobre a parte prática\n",
    "\n",
    "Aqui encontra a descrição da infraestrutura computacional da UAlg, disponível para as aulas prática. São também indicados os programas que deverá instalar se preferir trabalhar no seu computador pessoal, seja em sala ou em casa."
   ]
  },
  {
   "cell_type": "markdown",
   "metadata": {},
   "source": [
    "## Salas\n",
    "\n",
    "As salas com terminais da Faculdade de Ciências e Tecnologia (FCT) onde decorrem os laboratórios de Introdução à programação científica, estão equipadas com computadores ligados à rede UAlg e acesso a um conjunto de recursos. Esta organização é muito prática, pois assim teremos os programas necessários para trabalhar.\n",
    "\n",
    "Desta forma, é possível oferecer aos alunos a capacidade de trabalhar desde o início com as aplicações convenientes, não sendo necessário que os alunos usem os seus computadores pessoais e os tenham que trazer para as aulas práticas. Ainda assim, muitos alunos preferem usar também o seu computador pessoal, porque pode ser mais conveniente ter sempre acesso ao sistema e ambiente de trabalho. Para partilhar ficheiros entre o sistema pessoal e o usado nas aulas práticas sugere-se um sistema de partilha de ficheiros como o [OneDrive](https://onedrive.live.com/about/en-us/signin/) (onde os alunos têm 1 TB).\n",
    "\n",
    "Em todo o caso, todos os alunos devem familiarizar-se com o sistema da Universidade do Algarve, que é a referência a ter em conta."
   ]
  },
  {
   "cell_type": "markdown",
   "metadata": {},
   "source": [
    "## Identificar as ferramentas a utilizar\n",
    "\n",
    "\n",
    "Na área de trabalho acessível pelos computadores do laboratório já temos todo o software de que precisamos. \n",
    "\n",
    "Talvez queira instalar no seu computador a plataforma [Anaconda][2] ou pelo menos o [Python][1] e o [Spyder][3]. Visite as páginas indicadas, para se situar e depois instale nos seus computadores.\n",
    "\n",
    "[1]: https://www.python.org/downloads/ \"Python\"\n",
    "[2]: https://www.anaconda.com/products/individual \"Anaconda\"\n",
    "[3]: https://www.spyder-ide.org/ \"Spyder\"\n",
    "\n",
    "Alguns alunos poderão preferir usar outra plataforma em vez de Anaconda. Não é proibido, claro, mas haverá mais uma ferramenta a aprender e, tal como a escolha é individual, a aprendizagem também será. \n",
    "\n",
    "Em alguns casos, poderá experimentar *online* os conteúdos que estão no [Github](https://margaridamadeira.github.io/IPC-2020-21) abrindo a página correspondente no [Binder](https://mybinder.org/v2/gh/margaridamadeira/IPC-2020-21/master).\n",
    "Ou, ainda *online*, pode experimentar [Python online shell](https://www.python.org/shell/) ou [Spyder](https://mybinder.org/v2/gh/spyder-ide/spyder/4.x?urlpath=/desktop).\n"
   ]
  },
  {
   "cell_type": "markdown",
   "metadata": {},
   "source": [
    "## Páginas Web \n",
    "\n",
    "Provavelmente, está a ler este documento a partir da página de Web de Introdução à programação científica na chamada Tutoria Eletrónica da Universidade do Algarve, ou, mais simplesmente, Tutoria. Portanto, já sabe como é. Sugiro que guarde a página nos favoritos do seu navegador, e que coloque o link de acesso bem a jeito, pois vai usar a página muitas vezes.\n",
    "\n",
    "Estes conteúdos estão também disponíveis no [Github](https://margaridamadeira.github.io/IPC-2020-21)."
   ]
  },
  {
   "cell_type": "markdown",
   "metadata": {},
   "source": [
    "## Até breve."
   ]
  }
 ],
 "metadata": {
  "kernelspec": {
   "display_name": "Python 3",
   "language": "python",
   "name": "python3"
  },
  "language_info": {
   "codemirror_mode": {
    "name": "ipython",
    "version": 3
   },
   "file_extension": ".py",
   "mimetype": "text/x-python",
   "name": "python",
   "nbconvert_exporter": "python",
   "pygments_lexer": "ipython3",
   "version": "3.7.9"
  }
 },
 "nbformat": 4,
 "nbformat_minor": 2
}