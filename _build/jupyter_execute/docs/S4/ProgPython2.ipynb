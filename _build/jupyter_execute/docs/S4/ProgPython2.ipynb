{
 "cells": [
  {
   "cell_type": "markdown",
   "metadata": {
    "slideshow": {
     "slide_type": "slide"
    }
   },
   "source": [
    "# Programação em Python - parte 2"
   ]
  },
  {
   "cell_type": "markdown",
   "metadata": {},
   "source": [
    "## Objetivos de aprendizagem\n",
    "\n",
    "Nesta lição, vamos dedicar especial atenção à manipulação de strings.  Teremos assim oportunidade de conhecer outra forma de controlar ciclos de execução e usar algumas das funções do Python. Em particular, veremos:\n",
    "\n",
    "1. Ciclo *for*\n",
    "1. Função *len* e *range*\n",
    "1. Funções nativas do Python "
   ]
  },
  {
   "cell_type": "markdown",
   "metadata": {
    "slideshow": {
     "slide_type": "slide"
    }
   },
   "source": [
    "### Ciclo *for*"
   ]
  },
  {
   "cell_type": "markdown",
   "metadata": {},
   "source": [
    "Sabemos que as ações a desempenhar dependem das circunstâncias e vimos duas formas de definir o que vai ser, ou não, feito. \n",
    "\n",
    "    - if\n",
    "        Se <algo se verifica> <faça-se>\n",
    "        Se <acabou o filme> <sair da sala>\n",
    "        \n",
    "    - while\n",
    "        Enquanto <algo se verifica> <faça-se>\n",
    "        Enquanto <o filme decorre> <silêncio>"
   ]
  },
  {
   "cell_type": "markdown",
   "metadata": {},
   "source": [
    "A instrução *if* é interessante quando temos uma ação pontual, ou seja, **se** a condição se aplica.\n",
    "\n",
    "O ciclo *while* é especialmente interessante quando as ações são para ser feitas **enquanto** uma condição se verifica. Ou seja, quando precisamos de avaliar continuamente se devemos continuar a fazer determinada ação ou se já é suficiente.\n",
    "\n",
    "Mas, em algumas situações, sabemos à partida que é para fazer e quantas vezes o queremos fazer. E é então que que escolhemos usar um ciclo *for*.\n",
    "\n",
    "    - for\n",
    "        Para <enumeração do elementos do conjunto> <faça-se>\n",
    "        Para <as senhoras de um grupo> <entregar uma flor>"
   ]
  },
  {
   "cell_type": "markdown",
   "metadata": {},
   "source": [
    "#### Exemplo\n",
    "\n",
    "Imagine que, por questões de acessibilidade, queriamos escrever entre cada carater de uma string um ponto ('.').\n",
    "\n",
    "Uma string tem um número definido de carateres, ainda que não saibamos quantos são.\n"
   ]
  },
  {
   "cell_type": "code",
   "execution_count": 1,
   "metadata": {},
   "outputs": [
    {
     "name": "stdout",
     "output_type": "stream",
     "text": [
      "P.y.t.h.o.n. .é. .m.u.i.t.o. .g.i.r.o. .e. .i.n.t.e.r.e.s.s.a.n.t.e.!."
     ]
    }
   ],
   "source": [
    "frase = 'Python é muito giro e interessante!'\n",
    "\n",
    "for letra in frase:\n",
    "    print(letra, end='.')"
   ]
  },
  {
   "cell_type": "markdown",
   "metadata": {},
   "source": [
    "### Função *len*"
   ]
  },
  {
   "cell_type": "markdown",
   "metadata": {},
   "source": [
    "Sabemos que é possível indexar as strings, ou seja, indicar qual é a posição de um dado elemento da string."
   ]
  },
  {
   "cell_type": "code",
   "execution_count": 2,
   "metadata": {},
   "outputs": [
    {
     "data": {
      "text/plain": [
       "'Python'"
      ]
     },
     "execution_count": 2,
     "metadata": {},
     "output_type": "execute_result"
    }
   ],
   "source": [
    "frase[0:6]"
   ]
  },
  {
   "cell_type": "markdown",
   "metadata": {},
   "source": [
    "E se quisessemos saber quantos carateres tem a string? \n",
    "\n",
    "Usávamos a função *len*."
   ]
  },
  {
   "cell_type": "code",
   "execution_count": 3,
   "metadata": {},
   "outputs": [
    {
     "data": {
      "text/plain": [
       "35"
      ]
     },
     "execution_count": 3,
     "metadata": {},
     "output_type": "execute_result"
    }
   ],
   "source": [
    "len(frase)"
   ]
  },
  {
   "cell_type": "markdown",
   "metadata": {},
   "source": [
    "A frase tem então 35 carateres. Como os índices começam em zero, então o 34º elemento terá que ser o ponto de exclamação.\n",
    "\n",
    "Verifiquemos:"
   ]
  },
  {
   "cell_type": "code",
   "execution_count": 4,
   "metadata": {},
   "outputs": [
    {
     "data": {
      "text/plain": [
       "'!'"
      ]
     },
     "execution_count": 4,
     "metadata": {},
     "output_type": "execute_result"
    }
   ],
   "source": [
    "frase[34]"
   ]
  },
  {
   "cell_type": "markdown",
   "metadata": {},
   "source": [
    "Isto é muito útil. Os carateres de uma string de dimensão $n$ podem ser acedidos nas posições, em Python, [ 0, n [ $.\n",
    "\n",
    "Verifiquemos:"
   ]
  },
  {
   "cell_type": "code",
   "execution_count": 5,
   "metadata": {},
   "outputs": [
    {
     "data": {
      "text/plain": [
       "'Python é muito giro e interessante!'"
      ]
     },
     "execution_count": 5,
     "metadata": {},
     "output_type": "execute_result"
    }
   ],
   "source": [
    "frase[0:len(frase)]"
   ]
  },
  {
   "cell_type": "markdown",
   "metadata": {},
   "source": [
    "### Função *range*\n",
    "\n",
    "Imagine agora que queriamos escrever a frase ao contrário.\n",
    "Há várias alternativas."
   ]
  },
  {
   "cell_type": "code",
   "execution_count": 6,
   "metadata": {},
   "outputs": [
    {
     "name": "stdout",
     "output_type": "stream",
     "text": [
      "!etnasseretni e orig otium é nohtyP"
     ]
    }
   ],
   "source": [
    "# Se não soubessemos melhor, fazíamos esta coisa\n",
    "pos = len(frase)-1\n",
    "while (pos >= 0):\n",
    "    print(frase[pos], end='')\n",
    "    pos -=1\n"
   ]
  },
  {
   "cell_type": "markdown",
   "metadata": {},
   "source": [
    "Mas se sabemos quantas vezes temos que fazer, não podemos usar um *for*?\n",
    "Podemos e devemos.\n",
    "\n",
    "A função *range* produz uma sequência de inteiros, e podemos indicar o passo."
   ]
  },
  {
   "cell_type": "code",
   "execution_count": 7,
   "metadata": {},
   "outputs": [
    {
     "name": "stdout",
     "output_type": "stream",
     "text": [
      "01234"
     ]
    }
   ],
   "source": [
    "for idx in range(5):\n",
    "    print(idx, end='')"
   ]
  },
  {
   "cell_type": "code",
   "execution_count": 8,
   "metadata": {},
   "outputs": [
    {
     "name": "stdout",
     "output_type": "stream",
     "text": [
      "43210"
     ]
    }
   ],
   "source": [
    "for idx in range(5-1, -1, -1):\n",
    "    print(idx, end='')\n"
   ]
  },
  {
   "cell_type": "markdown",
   "metadata": {},
   "source": [
    "Como ficaria então para inverter a frase?"
   ]
  },
  {
   "cell_type": "code",
   "execution_count": 9,
   "metadata": {},
   "outputs": [
    {
     "name": "stdout",
     "output_type": "stream",
     "text": [
      "!etnasseretni e orig otium é nohtyP"
     ]
    }
   ],
   "source": [
    "for pos in range(len(frase)-1, -1, -1):\n",
    "    print(frase[pos], end='')\n",
    "    "
   ]
  },
  {
   "cell_type": "markdown",
   "metadata": {
    "slideshow": {
     "slide_type": "slide"
    }
   },
   "source": [
    "### Funções nativas do Python\n",
    "\n",
    "Já vimos algumas das funções do Python. Vimos funções \"gerais\" e outras que são específicas de alguns tipos de dados.\n",
    "\n",
    "#### Recordemos\n"
   ]
  },
  {
   "cell_type": "code",
   "execution_count": 10,
   "metadata": {},
   "outputs": [
    {
     "data": {
      "text/plain": [
       "4"
      ]
     },
     "execution_count": 10,
     "metadata": {},
     "output_type": "execute_result"
    }
   ],
   "source": [
    "abs(-4)\n"
   ]
  },
  {
   "cell_type": "code",
   "execution_count": 11,
   "metadata": {},
   "outputs": [
    {
     "data": {
      "text/plain": [
       "int"
      ]
     },
     "execution_count": 11,
     "metadata": {},
     "output_type": "execute_result"
    }
   ],
   "source": [
    "type(-4)"
   ]
  },
  {
   "cell_type": "code",
   "execution_count": 12,
   "metadata": {},
   "outputs": [
    {
     "data": {
      "text/plain": [
       "5"
      ]
     },
     "execution_count": 12,
     "metadata": {},
     "output_type": "execute_result"
    }
   ],
   "source": [
    "int('5')"
   ]
  },
  {
   "cell_type": "code",
   "execution_count": 13,
   "metadata": {},
   "outputs": [
    {
     "data": {
      "text/plain": [
       "5"
      ]
     },
     "execution_count": 13,
     "metadata": {},
     "output_type": "execute_result"
    }
   ],
   "source": [
    "int(5.0)"
   ]
  },
  {
   "cell_type": "code",
   "execution_count": 14,
   "metadata": {},
   "outputs": [
    {
     "data": {
      "text/plain": [
       "5.0"
      ]
     },
     "execution_count": 14,
     "metadata": {},
     "output_type": "execute_result"
    }
   ],
   "source": [
    "float('5')"
   ]
  },
  {
   "cell_type": "code",
   "execution_count": 15,
   "metadata": {},
   "outputs": [
    {
     "name": "stdout",
     "output_type": "stream",
     "text": [
      "False\n"
     ]
    }
   ],
   "source": [
    "lido = '5.0'\n",
    "print(lido.isnumeric())"
   ]
  },
  {
   "cell_type": "markdown",
   "metadata": {},
   "source": [
    "#### Conhecer novas funções\n",
    "\n",
    "Para sabermos que funções estão disponíveis, no spyder ou mesmo num notebook, podemos usar a ajuda em linha. Experimente escrever\n",
    "\n",
    "```\n",
    "frase.\n",
    "```\n",
    "\n",
    "e percorra as sugestões.\n",
    "\n",
    "Para saber mais, use a função *help*. Por exemplo, \n",
    "\n",
    "```\n",
    "help(frase.count)\n",
    "```\n",
    "\n",
    "##### Alguns exemplos"
   ]
  },
  {
   "cell_type": "code",
   "execution_count": 16,
   "metadata": {},
   "outputs": [
    {
     "name": "stdout",
     "output_type": "stream",
     "text": [
      "Help on built-in function count:\n",
      "\n",
      "count(...) method of builtins.str instance\n",
      "    S.count(sub[, start[, end]]) -> int\n",
      "    \n",
      "    Return the number of non-overlapping occurrences of substring sub in\n",
      "    string S[start:end].  Optional arguments start and end are\n",
      "    interpreted as in slice notation.\n",
      "\n"
     ]
    }
   ],
   "source": [
    "help(frase.count)"
   ]
  },
  {
   "cell_type": "code",
   "execution_count": 17,
   "metadata": {},
   "outputs": [
    {
     "data": {
      "text/plain": [
       "'Python é muito giro e interessante!'"
      ]
     },
     "execution_count": 17,
     "metadata": {},
     "output_type": "execute_result"
    }
   ],
   "source": [
    "frase"
   ]
  },
  {
   "cell_type": "code",
   "execution_count": 18,
   "metadata": {},
   "outputs": [
    {
     "data": {
      "text/plain": [
       "3"
      ]
     },
     "execution_count": 18,
     "metadata": {},
     "output_type": "execute_result"
    }
   ],
   "source": [
    "# quantas vezes aparece o carater 'o'\n",
    "frase.count('o')"
   ]
  },
  {
   "cell_type": "code",
   "execution_count": 19,
   "metadata": {},
   "outputs": [
    {
     "data": {
      "text/plain": [
       "4"
      ]
     },
     "execution_count": 19,
     "metadata": {},
     "output_type": "execute_result"
    }
   ],
   "source": [
    "# e onde aparece o primeiro?\n",
    "frase.index('o')"
   ]
  },
  {
   "cell_type": "code",
   "execution_count": 20,
   "metadata": {},
   "outputs": [
    {
     "data": {
      "text/plain": [
       "13"
      ]
     },
     "execution_count": 20,
     "metadata": {},
     "output_type": "execute_result"
    }
   ],
   "source": [
    "# E o segundo 'o'?\n",
    "frase.index('o', 5)"
   ]
  },
  {
   "cell_type": "code",
   "execution_count": 21,
   "metadata": {},
   "outputs": [
    {
     "data": {
      "text/plain": [
       "18"
      ]
     },
     "execution_count": 21,
     "metadata": {},
     "output_type": "execute_result"
    }
   ],
   "source": [
    "# E o terceiro?\n",
    "frase.index('o', 14)"
   ]
  },
  {
   "cell_type": "code",
   "execution_count": 22,
   "metadata": {},
   "outputs": [
    {
     "name": "stdout",
     "output_type": "stream",
     "text": [
      "Pyth.n é muit. gir. e interessante!\n"
     ]
    }
   ],
   "source": [
    "# Vamos substituir os 'o's por '.'\n",
    "nova_frase = frase.replace('o', '.')\n",
    "print(nova_frase)"
   ]
  },
  {
   "cell_type": "markdown",
   "metadata": {},
   "source": [
    "Veja que outras funções para strings existem e experimente-as."
   ]
  }
 ],
 "metadata": {
  "celltoolbar": "Slideshow",
  "kernelspec": {
   "display_name": "Python 3",
   "language": "python",
   "name": "python3"
  },
  "language_info": {
   "codemirror_mode": {
    "name": "ipython",
    "version": 3
   },
   "file_extension": ".py",
   "mimetype": "text/x-python",
   "name": "python",
   "nbconvert_exporter": "python",
   "pygments_lexer": "ipython3",
   "version": "3.7.8"
  }
 },
 "nbformat": 4,
 "nbformat_minor": 1
}